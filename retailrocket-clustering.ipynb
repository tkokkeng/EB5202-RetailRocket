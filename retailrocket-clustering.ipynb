{
 "cells": [
  {
   "cell_type": "markdown",
   "metadata": {
    "collapsed": true
   },
   "source": [
    "# EB5202 Web Analytics - Retail Rocket - Clustering"
   ]
  },
  {
   "cell_type": "markdown",
   "metadata": {},
   "source": [
    "## Load libraries"
   ]
  },
  {
   "cell_type": "code",
   "execution_count": 1,
   "metadata": {},
   "outputs": [],
   "source": [
    "%matplotlib inline\n",
    "import matplotlib.pyplot as plt\n",
    "import os\n",
    "import pandas as pd\n",
    "import datetime\n",
    "from sklearn.model_selection import train_test_split\n",
    "from sklearn.cluster import KMeans\n",
    "import numpy as np\n",
    "from sklearn.preprocessing import StandardScaler"
   ]
  },
  {
   "cell_type": "markdown",
   "metadata": {},
   "source": [
    "## Load data"
   ]
  },
  {
   "cell_type": "code",
   "execution_count": 2,
   "metadata": {},
   "outputs": [],
   "source": [
    "sessions_df = pd.read_pickle(os.path.join('data','sessions_newfeatures.pkl'))"
   ]
  },
  {
   "cell_type": "code",
   "execution_count": 3,
   "metadata": {},
   "outputs": [
    {
     "data": {
      "text/html": [
       "<div>\n",
       "<style scoped>\n",
       "    .dataframe tbody tr th:only-of-type {\n",
       "        vertical-align: middle;\n",
       "    }\n",
       "\n",
       "    .dataframe tbody tr th {\n",
       "        vertical-align: top;\n",
       "    }\n",
       "\n",
       "    .dataframe thead th {\n",
       "        text-align: right;\n",
       "    }\n",
       "</style>\n",
       "<table border=\"1\" class=\"dataframe\">\n",
       "  <thead>\n",
       "    <tr style=\"text-align: right;\">\n",
       "      <th></th>\n",
       "      <th>visitorid</th>\n",
       "      <th>startdate</th>\n",
       "      <th>enddate</th>\n",
       "      <th>addtocart</th>\n",
       "      <th>transaction</th>\n",
       "      <th>view</th>\n",
       "      <th>pages</th>\n",
       "      <th>pagetime</th>\n",
       "    </tr>\n",
       "  </thead>\n",
       "  <tbody>\n",
       "    <tr>\n",
       "      <th>0</th>\n",
       "      <td>0</td>\n",
       "      <td>2015-09-11 20:49:49.439</td>\n",
       "      <td>2015-09-11 20:55:17.175</td>\n",
       "      <td>[]</td>\n",
       "      <td>[]</td>\n",
       "      <td>[285930, 357564, 67045]</td>\n",
       "      <td>3</td>\n",
       "      <td>00:02:43.868000</td>\n",
       "    </tr>\n",
       "    <tr>\n",
       "      <th>1</th>\n",
       "      <td>1</td>\n",
       "      <td>2015-08-13 17:46:06.444</td>\n",
       "      <td>2015-08-13 17:46:06.444</td>\n",
       "      <td>[]</td>\n",
       "      <td>[]</td>\n",
       "      <td>[72028]</td>\n",
       "      <td>1</td>\n",
       "      <td>00:00:00</td>\n",
       "    </tr>\n",
       "    <tr>\n",
       "      <th>2</th>\n",
       "      <td>2</td>\n",
       "      <td>2015-08-07 17:51:44.567</td>\n",
       "      <td>2015-08-07 18:20:57.845</td>\n",
       "      <td>[]</td>\n",
       "      <td>[]</td>\n",
       "      <td>[325215, 325215, 259884, 216305, 342816, 34281...</td>\n",
       "      <td>8</td>\n",
       "      <td>00:04:10.468285</td>\n",
       "    </tr>\n",
       "    <tr>\n",
       "      <th>3</th>\n",
       "      <td>3</td>\n",
       "      <td>2015-08-01 07:10:35.296</td>\n",
       "      <td>2015-08-01 07:10:35.296</td>\n",
       "      <td>[]</td>\n",
       "      <td>[]</td>\n",
       "      <td>[385090]</td>\n",
       "      <td>1</td>\n",
       "      <td>00:00:00</td>\n",
       "    </tr>\n",
       "    <tr>\n",
       "      <th>4</th>\n",
       "      <td>4</td>\n",
       "      <td>2015-09-15 21:24:27.167</td>\n",
       "      <td>2015-09-15 21:24:27.167</td>\n",
       "      <td>[]</td>\n",
       "      <td>[]</td>\n",
       "      <td>[177677]</td>\n",
       "      <td>1</td>\n",
       "      <td>00:00:00</td>\n",
       "    </tr>\n",
       "  </tbody>\n",
       "</table>\n",
       "</div>"
      ],
      "text/plain": [
       "<div>\n",
       "<style scoped>\n",
       "    .dataframe tbody tr th:only-of-type {\n",
       "        vertical-align: middle;\n",
       "    }\n",
       "\n",
       "    .dataframe tbody tr th {\n",
       "        vertical-align: top;\n",
       "    }\n",
       "\n",
       "    .dataframe thead th {\n",
       "        text-align: right;\n",
       "    }\n",
       "</style>\n",
       "<table border=\"1\" class=\"dataframe\">\n",
       "  <thead>\n",
       "    <tr style=\"text-align: right;\">\n",
       "      <th></th>\n",
       "      <th>visitorid</th>\n",
       "      <th>startdate</th>\n",
       "      <th>enddate</th>\n",
       "      <th>addtocart</th>\n",
       "      <th>transaction</th>\n",
       "      <th>view</th>\n",
       "      <th>pages</th>\n",
       "      <th>pagetime</th>\n",
       "    </tr>\n",
       "  </thead>\n",
       "  <tbody>\n",
       "    <tr>\n",
       "      <th>0</th>\n",
       "      <td>0</td>\n",
       "      <td>2015-09-11 20:49:49.439</td>\n",
       "      <td>2015-09-11 20:55:17.175</td>\n",
       "      <td>[]</td>\n",
       "      <td>[]</td>\n",
       "      <td>[285930, 357564, 67045]</td>\n",
       "      <td>3</td>\n",
       "      <td>00:02:43.868000</td>\n",
       "    </tr>\n",
       "    <tr>\n",
       "      <th>1</th>\n",
       "      <td>1</td>\n",
       "      <td>2015-08-13 17:46:06.444</td>\n",
       "      <td>2015-08-13 17:46:06.444</td>\n",
       "      <td>[]</td>\n",
       "      <td>[]</td>\n",
       "      <td>[72028]</td>\n",
       "      <td>1</td>\n",
       "      <td>00:00:00</td>\n",
       "    </tr>\n",
       "    <tr>\n",
       "      <th>2</th>\n",
       "      <td>2</td>\n",
       "      <td>2015-08-07 17:51:44.567</td>\n",
       "      <td>2015-08-07 18:20:57.845</td>\n",
       "      <td>[]</td>\n",
       "      <td>[]</td>\n",
       "      <td>[325215, 325215, 259884, 216305, 342816, 34281...</td>\n",
       "      <td>8</td>\n",
       "      <td>00:04:10.468285</td>\n",
       "    </tr>\n",
       "    <tr>\n",
       "      <th>3</th>\n",
       "      <td>3</td>\n",
       "      <td>2015-08-01 07:10:35.296</td>\n",
       "      <td>2015-08-01 07:10:35.296</td>\n",
       "      <td>[]</td>\n",
       "      <td>[]</td>\n",
       "      <td>[385090]</td>\n",
       "      <td>1</td>\n",
       "      <td>00:00:00</td>\n",
       "    </tr>\n",
       "    <tr>\n",
       "      <th>4</th>\n",
       "      <td>4</td>\n",
       "      <td>2015-09-15 21:24:27.167</td>\n",
       "      <td>2015-09-15 21:24:27.167</td>\n",
       "      <td>[]</td>\n",
       "      <td>[]</td>\n",
       "      <td>[177677]</td>\n",
       "      <td>1</td>\n",
       "      <td>00:00:00</td>\n",
       "    </tr>\n",
       "  </tbody>\n",
       "</table>\n",
       "</div>"
      ]
     },
     "execution_count": 3,
     "metadata": {},
     "output_type": "execute_result"
    }
   ],
   "source": [
    "sessions_df.iloc[:5, :8]"
   ]
  },
  {
   "cell_type": "code",
   "execution_count": 4,
   "metadata": {},
   "outputs": [
    {
     "data": {
      "text/html": [
       "<div>\n",
       "<style scoped>\n",
       "    .dataframe tbody tr th:only-of-type {\n",
       "        vertical-align: middle;\n",
       "    }\n",
       "\n",
       "    .dataframe tbody tr th {\n",
       "        vertical-align: top;\n",
       "    }\n",
       "\n",
       "    .dataframe thead th {\n",
       "        text-align: right;\n",
       "    }\n",
       "</style>\n",
       "<table border=\"1\" class=\"dataframe\">\n",
       "  <thead>\n",
       "    <tr style=\"text-align: right;\">\n",
       "      <th></th>\n",
       "      <th>pages</th>\n",
       "      <th>pagetime</th>\n",
       "      <th>diffcat</th>\n",
       "      <th>diffprod</th>\n",
       "      <th>prodcat</th>\n",
       "      <th>maxrep</th>\n",
       "    </tr>\n",
       "  </thead>\n",
       "  <tbody>\n",
       "    <tr>\n",
       "      <th>0</th>\n",
       "      <td>3</td>\n",
       "      <td>00:02:43.868000</td>\n",
       "      <td>1.00</td>\n",
       "      <td>1.0</td>\n",
       "      <td>1.0</td>\n",
       "      <td>1</td>\n",
       "    </tr>\n",
       "    <tr>\n",
       "      <th>1</th>\n",
       "      <td>1</td>\n",
       "      <td>00:00:00</td>\n",
       "      <td>1.00</td>\n",
       "      <td>1.0</td>\n",
       "      <td>1.0</td>\n",
       "      <td>1</td>\n",
       "    </tr>\n",
       "    <tr>\n",
       "      <th>2</th>\n",
       "      <td>8</td>\n",
       "      <td>00:04:10.468285</td>\n",
       "      <td>0.25</td>\n",
       "      <td>0.5</td>\n",
       "      <td>2.0</td>\n",
       "      <td>3</td>\n",
       "    </tr>\n",
       "    <tr>\n",
       "      <th>3</th>\n",
       "      <td>1</td>\n",
       "      <td>00:00:00</td>\n",
       "      <td>1.00</td>\n",
       "      <td>1.0</td>\n",
       "      <td>1.0</td>\n",
       "      <td>1</td>\n",
       "    </tr>\n",
       "    <tr>\n",
       "      <th>4</th>\n",
       "      <td>1</td>\n",
       "      <td>00:00:00</td>\n",
       "      <td>1.00</td>\n",
       "      <td>1.0</td>\n",
       "      <td>1.0</td>\n",
       "      <td>1</td>\n",
       "    </tr>\n",
       "  </tbody>\n",
       "</table>\n",
       "</div>"
      ],
      "text/plain": [
       "<div>\n",
       "<style scoped>\n",
       "    .dataframe tbody tr th:only-of-type {\n",
       "        vertical-align: middle;\n",
       "    }\n",
       "\n",
       "    .dataframe tbody tr th {\n",
       "        vertical-align: top;\n",
       "    }\n",
       "\n",
       "    .dataframe thead th {\n",
       "        text-align: right;\n",
       "    }\n",
       "</style>\n",
       "<table border=\"1\" class=\"dataframe\">\n",
       "  <thead>\n",
       "    <tr style=\"text-align: right;\">\n",
       "      <th></th>\n",
       "      <th>pages</th>\n",
       "      <th>pagetime</th>\n",
       "      <th>diffcat</th>\n",
       "      <th>diffprod</th>\n",
       "      <th>prodcat</th>\n",
       "      <th>maxrep</th>\n",
       "    </tr>\n",
       "  </thead>\n",
       "  <tbody>\n",
       "    <tr>\n",
       "      <th>0</th>\n",
       "      <td>3</td>\n",
       "      <td>00:02:43.868000</td>\n",
       "      <td>1.00</td>\n",
       "      <td>1.0</td>\n",
       "      <td>1.0</td>\n",
       "      <td>1</td>\n",
       "    </tr>\n",
       "    <tr>\n",
       "      <th>1</th>\n",
       "      <td>1</td>\n",
       "      <td>00:00:00</td>\n",
       "      <td>1.00</td>\n",
       "      <td>1.0</td>\n",
       "      <td>1.0</td>\n",
       "      <td>1</td>\n",
       "    </tr>\n",
       "    <tr>\n",
       "      <th>2</th>\n",
       "      <td>8</td>\n",
       "      <td>00:04:10.468285</td>\n",
       "      <td>0.25</td>\n",
       "      <td>0.5</td>\n",
       "      <td>2.0</td>\n",
       "      <td>3</td>\n",
       "    </tr>\n",
       "    <tr>\n",
       "      <th>3</th>\n",
       "      <td>1</td>\n",
       "      <td>00:00:00</td>\n",
       "      <td>1.00</td>\n",
       "      <td>1.0</td>\n",
       "      <td>1.0</td>\n",
       "      <td>1</td>\n",
       "    </tr>\n",
       "    <tr>\n",
       "      <th>4</th>\n",
       "      <td>1</td>\n",
       "      <td>00:00:00</td>\n",
       "      <td>1.00</td>\n",
       "      <td>1.0</td>\n",
       "      <td>1.0</td>\n",
       "      <td>1</td>\n",
       "    </tr>\n",
       "  </tbody>\n",
       "</table>\n",
       "</div>"
      ]
     },
     "execution_count": 4,
     "metadata": {},
     "output_type": "execute_result"
    }
   ],
   "source": [
    "sessions_df.iloc[:5, -6:]"
   ]
  },
  {
   "cell_type": "code",
   "execution_count": 5,
   "metadata": {},
   "outputs": [
    {
     "name": "stdout",
     "output_type": "stream",
     "text": [
      "<class 'pandas.core.frame.DataFrame'>\nRangeIndex: 1786340 entries, 0 to 1786339\nData columns (total 12 columns):\nvisitorid      int64\nstartdate      datetime64[ns]\nenddate        datetime64[ns]\naddtocart      object\ntransaction    object\nview           object\npages          int64\npagetime       timedelta64[ns]\ndiffcat        float64\ndiffprod       float64\nprodcat        float64\nmaxrep         int64\ndtypes: datetime64[ns](2), float64(3), int64(3), object(3), timedelta64[ns](1)\nmemory usage: 163.5+ MB\n"
     ]
    }
   ],
   "source": [
    "sessions_df.info()"
   ]
  },
  {
   "cell_type": "markdown",
   "metadata": {},
   "source": [
    "## Check for outliers"
   ]
  },
  {
   "cell_type": "code",
   "execution_count": 6,
   "metadata": {},
   "outputs": [],
   "source": [
    "# Convert page time to secs\n",
    "sessions_df.loc[:, 'pagetime'] = sessions_df.loc[:, 'pagetime'].map(pd.Timedelta.total_seconds)"
   ]
  },
  {
   "cell_type": "code",
   "execution_count": 7,
   "metadata": {},
   "outputs": [
    {
     "data": {
      "text/html": [
       "<div>\n",
       "<style scoped>\n",
       "    .dataframe tbody tr th:only-of-type {\n",
       "        vertical-align: middle;\n",
       "    }\n",
       "\n",
       "    .dataframe tbody tr th {\n",
       "        vertical-align: top;\n",
       "    }\n",
       "\n",
       "    .dataframe thead th {\n",
       "        text-align: right;\n",
       "    }\n",
       "</style>\n",
       "<table border=\"1\" class=\"dataframe\">\n",
       "  <thead>\n",
       "    <tr style=\"text-align: right;\">\n",
       "      <th></th>\n",
       "      <th>pages</th>\n",
       "      <th>pagetime</th>\n",
       "      <th>diffcat</th>\n",
       "      <th>diffprod</th>\n",
       "      <th>prodcat</th>\n",
       "      <th>maxrep</th>\n",
       "    </tr>\n",
       "  </thead>\n",
       "  <tbody>\n",
       "    <tr>\n",
       "      <th>0</th>\n",
       "      <td>3</td>\n",
       "      <td>163.868000</td>\n",
       "      <td>1.00</td>\n",
       "      <td>1.0</td>\n",
       "      <td>1.0</td>\n",
       "      <td>1</td>\n",
       "    </tr>\n",
       "    <tr>\n",
       "      <th>1</th>\n",
       "      <td>1</td>\n",
       "      <td>0.000000</td>\n",
       "      <td>1.00</td>\n",
       "      <td>1.0</td>\n",
       "      <td>1.0</td>\n",
       "      <td>1</td>\n",
       "    </tr>\n",
       "    <tr>\n",
       "      <th>2</th>\n",
       "      <td>8</td>\n",
       "      <td>250.468286</td>\n",
       "      <td>0.25</td>\n",
       "      <td>0.5</td>\n",
       "      <td>2.0</td>\n",
       "      <td>3</td>\n",
       "    </tr>\n",
       "    <tr>\n",
       "      <th>3</th>\n",
       "      <td>1</td>\n",
       "      <td>0.000000</td>\n",
       "      <td>1.00</td>\n",
       "      <td>1.0</td>\n",
       "      <td>1.0</td>\n",
       "      <td>1</td>\n",
       "    </tr>\n",
       "    <tr>\n",
       "      <th>4</th>\n",
       "      <td>1</td>\n",
       "      <td>0.000000</td>\n",
       "      <td>1.00</td>\n",
       "      <td>1.0</td>\n",
       "      <td>1.0</td>\n",
       "      <td>1</td>\n",
       "    </tr>\n",
       "  </tbody>\n",
       "</table>\n",
       "</div>"
      ],
      "text/plain": [
       "<div>\n",
       "<style scoped>\n",
       "    .dataframe tbody tr th:only-of-type {\n",
       "        vertical-align: middle;\n",
       "    }\n",
       "\n",
       "    .dataframe tbody tr th {\n",
       "        vertical-align: top;\n",
       "    }\n",
       "\n",
       "    .dataframe thead th {\n",
       "        text-align: right;\n",
       "    }\n",
       "</style>\n",
       "<table border=\"1\" class=\"dataframe\">\n",
       "  <thead>\n",
       "    <tr style=\"text-align: right;\">\n",
       "      <th></th>\n",
       "      <th>pages</th>\n",
       "      <th>pagetime</th>\n",
       "      <th>diffcat</th>\n",
       "      <th>diffprod</th>\n",
       "      <th>prodcat</th>\n",
       "      <th>maxrep</th>\n",
       "    </tr>\n",
       "  </thead>\n",
       "  <tbody>\n",
       "    <tr>\n",
       "      <th>0</th>\n",
       "      <td>3</td>\n",
       "      <td>163.868000</td>\n",
       "      <td>1.00</td>\n",
       "      <td>1.0</td>\n",
       "      <td>1.0</td>\n",
       "      <td>1</td>\n",
       "    </tr>\n",
       "    <tr>\n",
       "      <th>1</th>\n",
       "      <td>1</td>\n",
       "      <td>0.000000</td>\n",
       "      <td>1.00</td>\n",
       "      <td>1.0</td>\n",
       "      <td>1.0</td>\n",
       "      <td>1</td>\n",
       "    </tr>\n",
       "    <tr>\n",
       "      <th>2</th>\n",
       "      <td>8</td>\n",
       "      <td>250.468286</td>\n",
       "      <td>0.25</td>\n",
       "      <td>0.5</td>\n",
       "      <td>2.0</td>\n",
       "      <td>3</td>\n",
       "    </tr>\n",
       "    <tr>\n",
       "      <th>3</th>\n",
       "      <td>1</td>\n",
       "      <td>0.000000</td>\n",
       "      <td>1.00</td>\n",
       "      <td>1.0</td>\n",
       "      <td>1.0</td>\n",
       "      <td>1</td>\n",
       "    </tr>\n",
       "    <tr>\n",
       "      <th>4</th>\n",
       "      <td>1</td>\n",
       "      <td>0.000000</td>\n",
       "      <td>1.00</td>\n",
       "      <td>1.0</td>\n",
       "      <td>1.0</td>\n",
       "      <td>1</td>\n",
       "    </tr>\n",
       "  </tbody>\n",
       "</table>\n",
       "</div>"
      ]
     },
     "execution_count": 7,
     "metadata": {},
     "output_type": "execute_result"
    }
   ],
   "source": [
    "sessions_df.iloc[:5, -6:]"
   ]
  },
  {
   "cell_type": "code",
   "execution_count": 8,
   "metadata": {},
   "outputs": [
    {
     "data": {
      "text/html": [
       "<div>\n",
       "<style scoped>\n",
       "    .dataframe tbody tr th:only-of-type {\n",
       "        vertical-align: middle;\n",
       "    }\n",
       "\n",
       "    .dataframe tbody tr th {\n",
       "        vertical-align: top;\n",
       "    }\n",
       "\n",
       "    .dataframe thead th {\n",
       "        text-align: right;\n",
       "    }\n",
       "</style>\n",
       "<table border=\"1\" class=\"dataframe\">\n",
       "  <thead>\n",
       "    <tr style=\"text-align: right;\">\n",
       "      <th></th>\n",
       "      <th>pages</th>\n",
       "      <th>pagetime</th>\n",
       "      <th>diffcat</th>\n",
       "      <th>diffprod</th>\n",
       "      <th>prodcat</th>\n",
       "      <th>maxrep</th>\n",
       "    </tr>\n",
       "  </thead>\n",
       "  <tbody>\n",
       "    <tr>\n",
       "      <th>count</th>\n",
       "      <td>1.786340e+06</td>\n",
       "      <td>1.786340e+06</td>\n",
       "      <td>1.786340e+06</td>\n",
       "      <td>1.786340e+06</td>\n",
       "      <td>1.786340e+06</td>\n",
       "      <td>1.786340e+06</td>\n",
       "    </tr>\n",
       "    <tr>\n",
       "      <th>mean</th>\n",
       "      <td>1.491492e+00</td>\n",
       "      <td>5.015331e+01</td>\n",
       "      <td>8.866262e-01</td>\n",
       "      <td>9.455984e-01</td>\n",
       "      <td>1.184270e+00</td>\n",
       "      <td>1.151211e+00</td>\n",
       "    </tr>\n",
       "    <tr>\n",
       "      <th>std</th>\n",
       "      <td>1.591950e+00</td>\n",
       "      <td>1.764289e+02</td>\n",
       "      <td>2.385307e-01</td>\n",
       "      <td>1.600542e-01</td>\n",
       "      <td>7.023515e-01</td>\n",
       "      <td>5.352076e-01</td>\n",
       "    </tr>\n",
       "    <tr>\n",
       "      <th>min</th>\n",
       "      <td>0.000000e+00</td>\n",
       "      <td>0.000000e+00</td>\n",
       "      <td>0.000000e+00</td>\n",
       "      <td>0.000000e+00</td>\n",
       "      <td>0.000000e+00</td>\n",
       "      <td>0.000000e+00</td>\n",
       "    </tr>\n",
       "    <tr>\n",
       "      <th>25%</th>\n",
       "      <td>1.000000e+00</td>\n",
       "      <td>0.000000e+00</td>\n",
       "      <td>1.000000e+00</td>\n",
       "      <td>1.000000e+00</td>\n",
       "      <td>1.000000e+00</td>\n",
       "      <td>1.000000e+00</td>\n",
       "    </tr>\n",
       "    <tr>\n",
       "      <th>50%</th>\n",
       "      <td>1.000000e+00</td>\n",
       "      <td>0.000000e+00</td>\n",
       "      <td>1.000000e+00</td>\n",
       "      <td>1.000000e+00</td>\n",
       "      <td>1.000000e+00</td>\n",
       "      <td>1.000000e+00</td>\n",
       "    </tr>\n",
       "    <tr>\n",
       "      <th>75%</th>\n",
       "      <td>1.000000e+00</td>\n",
       "      <td>0.000000e+00</td>\n",
       "      <td>1.000000e+00</td>\n",
       "      <td>1.000000e+00</td>\n",
       "      <td>1.000000e+00</td>\n",
       "      <td>1.000000e+00</td>\n",
       "    </tr>\n",
       "    <tr>\n",
       "      <th>max</th>\n",
       "      <td>1.900000e+02</td>\n",
       "      <td>1.799922e+03</td>\n",
       "      <td>1.000000e+00</td>\n",
       "      <td>1.000000e+00</td>\n",
       "      <td>5.400000e+01</td>\n",
       "      <td>5.900000e+01</td>\n",
       "    </tr>\n",
       "  </tbody>\n",
       "</table>\n",
       "</div>"
      ],
      "text/plain": [
       "<div>\n",
       "<style scoped>\n",
       "    .dataframe tbody tr th:only-of-type {\n",
       "        vertical-align: middle;\n",
       "    }\n",
       "\n",
       "    .dataframe tbody tr th {\n",
       "        vertical-align: top;\n",
       "    }\n",
       "\n",
       "    .dataframe thead th {\n",
       "        text-align: right;\n",
       "    }\n",
       "</style>\n",
       "<table border=\"1\" class=\"dataframe\">\n",
       "  <thead>\n",
       "    <tr style=\"text-align: right;\">\n",
       "      <th></th>\n",
       "      <th>pages</th>\n",
       "      <th>pagetime</th>\n",
       "      <th>diffcat</th>\n",
       "      <th>diffprod</th>\n",
       "      <th>prodcat</th>\n",
       "      <th>maxrep</th>\n",
       "    </tr>\n",
       "  </thead>\n",
       "  <tbody>\n",
       "    <tr>\n",
       "      <th>count</th>\n",
       "      <td>1.786340e+06</td>\n",
       "      <td>1.786340e+06</td>\n",
       "      <td>1.786340e+06</td>\n",
       "      <td>1.786340e+06</td>\n",
       "      <td>1.786340e+06</td>\n",
       "      <td>1.786340e+06</td>\n",
       "    </tr>\n",
       "    <tr>\n",
       "      <th>mean</th>\n",
       "      <td>1.491492e+00</td>\n",
       "      <td>5.015331e+01</td>\n",
       "      <td>8.866262e-01</td>\n",
       "      <td>9.455984e-01</td>\n",
       "      <td>1.184270e+00</td>\n",
       "      <td>1.151211e+00</td>\n",
       "    </tr>\n",
       "    <tr>\n",
       "      <th>std</th>\n",
       "      <td>1.591950e+00</td>\n",
       "      <td>1.764289e+02</td>\n",
       "      <td>2.385307e-01</td>\n",
       "      <td>1.600542e-01</td>\n",
       "      <td>7.023515e-01</td>\n",
       "      <td>5.352076e-01</td>\n",
       "    </tr>\n",
       "    <tr>\n",
       "      <th>min</th>\n",
       "      <td>0.000000e+00</td>\n",
       "      <td>0.000000e+00</td>\n",
       "      <td>0.000000e+00</td>\n",
       "      <td>0.000000e+00</td>\n",
       "      <td>0.000000e+00</td>\n",
       "      <td>0.000000e+00</td>\n",
       "    </tr>\n",
       "    <tr>\n",
       "      <th>25%</th>\n",
       "      <td>1.000000e+00</td>\n",
       "      <td>0.000000e+00</td>\n",
       "      <td>1.000000e+00</td>\n",
       "      <td>1.000000e+00</td>\n",
       "      <td>1.000000e+00</td>\n",
       "      <td>1.000000e+00</td>\n",
       "    </tr>\n",
       "    <tr>\n",
       "      <th>50%</th>\n",
       "      <td>1.000000e+00</td>\n",
       "      <td>0.000000e+00</td>\n",
       "      <td>1.000000e+00</td>\n",
       "      <td>1.000000e+00</td>\n",
       "      <td>1.000000e+00</td>\n",
       "      <td>1.000000e+00</td>\n",
       "    </tr>\n",
       "    <tr>\n",
       "      <th>75%</th>\n",
       "      <td>1.000000e+00</td>\n",
       "      <td>0.000000e+00</td>\n",
       "      <td>1.000000e+00</td>\n",
       "      <td>1.000000e+00</td>\n",
       "      <td>1.000000e+00</td>\n",
       "      <td>1.000000e+00</td>\n",
       "    </tr>\n",
       "    <tr>\n",
       "      <th>max</th>\n",
       "      <td>1.900000e+02</td>\n",
       "      <td>1.799922e+03</td>\n",
       "      <td>1.000000e+00</td>\n",
       "      <td>1.000000e+00</td>\n",
       "      <td>5.400000e+01</td>\n",
       "      <td>5.900000e+01</td>\n",
       "    </tr>\n",
       "  </tbody>\n",
       "</table>\n",
       "</div>"
      ]
     },
     "execution_count": 8,
     "metadata": {},
     "output_type": "execute_result"
    }
   ],
   "source": [
    "sessions_df.iloc[:, -6:].describe()"
   ]
  },
  {
   "cell_type": "code",
   "execution_count": 9,
   "metadata": {},
   "outputs": [
    {
     "data": {
      "image/png": "[encoded data removed]",
      "text/plain": [
       "<matplotlib.figure.Figure at 0x7fee7d646d30>"
      ]
     },
     "metadata": {},
     "output_type": "display_data"
    },
    {
     "data": {
      "image/png": "[encoded data removed]",
      "text/plain": [
       "<matplotlib.figure.Figure at 0x7f94dd4e7ef0>"
      ]
     },
     "metadata": {},
     "output_type": "display_data"
    }
   ],
   "source": [
    "sessions_df['pages'].hist(bins=10)\n",
    "plt.title('Distribution of Pages')\n",
    "plt.xlabel('Pages')\n",
    "plt.ylabel('Frequency')\n",
    "plt.show()"
   ]
  },
  {
   "cell_type": "markdown",
   "metadata": {},
   "source": [
    "The maximum pages viewed 190 which works out to 10s per page for a 30 min session. It may be possible."
   ]
  },
  {
   "cell_type": "code",
   "execution_count": 10,
   "metadata": {},
   "outputs": [
    {
     "data": {
      "text/plain": [
       "6687"
      ]
     },
     "execution_count": 10,
     "metadata": {},
     "output_type": "execute_result"
    }
   ],
   "source": [
    "len(sessions_df.loc[sessions_df['pages'] == 0, :])"
   ]
  },
  {
   "cell_type": "markdown",
   "metadata": {},
   "source": [
    "These are sessions where no items were viewed, where the visitor only performed addtocart or transact. They do not help to predict items added to cart, so we will remove them."
   ]
  },
  {
   "cell_type": "code",
   "execution_count": 11,
   "metadata": {},
   "outputs": [
    {
     "data": {
      "text/plain": [
       "1779653"
      ]
     },
     "execution_count": 134,
     "metadata": {},
     "output_type": "execute_result"
    },
    {
     "data": {
      "text/plain": [
       "1779653"
      ]
     },
     "execution_count": 11,
     "metadata": {},
     "output_type": "execute_result"
    }
   ],
   "source": [
    "sessions_df.drop(sessions_df.index[sessions_df['pages'] == 0], inplace=True)\n",
    "len(sessions_df)"
   ]
  },
  {
   "cell_type": "code",
   "execution_count": 12,
   "metadata": {},
   "outputs": [
    {
     "data": {
      "image/png": "[encoded data removed]",
      "text/plain": [
       "<matplotlib.figure.Figure at 0x7f94eb9b6198>"
      ]
     },
     "metadata": {},
     "output_type": "display_data"
    }
   ],
   "source": [
    "sessions_df['pagetime'].hist(bins=10)\n",
    "plt.title('Distribution of Pagetime')\n",
    "plt.xlabel('Pagetime')\n",
    "plt.ylabel('Frequency')\n",
    "plt.show()"
   ]
  },
  {
   "cell_type": "markdown",
   "metadata": {},
   "source": [
    "The maximum pagetime is 1799 secs which is 30mins. This does not look normal."
   ]
  },
  {
   "cell_type": "code",
   "execution_count": 13,
   "metadata": {},
   "outputs": [
    {
     "name": "stdout",
     "output_type": "stream",
     "text": [
      "percentage of pagetime greater than 20 mins = 0.667771\n"
     ]
    },
    {
     "name": "stdout",
     "output_type": "stream",
     "text": [
      "percentage of pagetime greater than 20 mins = 0.667771\n"
     ]
    }
   ],
   "source": [
    "mins = 20\n",
    "print('percentage of pagetime greater than %d mins = %f' % (mins, len(sessions_df.loc[sessions_df['pagetime'] > mins * 60, :]) / len(sessions_df) * 100))"
   ]
  },
  {
   "cell_type": "code",
   "execution_count": 14,
   "metadata": {},
   "outputs": [
    {
     "data": {
      "text/plain": [
       "1767769"
      ]
     },
     "execution_count": 14,
     "metadata": {},
     "output_type": "execute_result"
    }
   ],
   "source": [
    "# Remove the sessions where pagetime > 20 mins\n",
    "sessions_df.drop(sessions_df.index[sessions_df['pagetime'] > 1200], inplace=True)\n",
    "len(sessions_df)"
   ]
  },
  {
   "cell_type": "markdown",
   "metadata": {},
   "source": [
    "## Split data into train / test dataset"
   ]
  },
  {
   "cell_type": "code",
   "execution_count": 15,
   "metadata": {},
   "outputs": [],
   "source": [
    "X_train, X_test = train_test_split(sessions_df.iloc[:, -6:].values.astype(float), test_size=.5, random_state=552)"
   ]
  },
  {
   "cell_type": "code",
   "execution_count": 16,
   "metadata": {},
   "outputs": [
    {
     "data": {
      "text/plain": [
       "array([[ 1.        ,  0.        ,  1.        ,  1.        ,  1.        ,\n         1.        ],\n       [ 1.        ,  0.        ,  1.        ,  1.        ,  1.        ,\n         1.        ],\n       [ 1.        ,  0.        ,  1.        ,  1.        ,  1.        ,\n         1.        ],\n       [ 1.        ,  0.        ,  1.        ,  1.        ,  1.        ,\n         1.        ],\n       [ 1.        ,  0.        ,  1.        ,  1.        ,  1.        ,\n         1.        ],\n       [ 1.        ,  0.        ,  1.        ,  1.        ,  1.        ,\n         1.        ],\n       [ 4.        , 14.37533333,  0.25      ,  0.5       ,  2.        ,\n         2.        ],\n       [ 1.        ,  0.        ,  1.        ,  1.        ,  1.        ,\n         1.        ],\n       [ 1.        ,  0.        ,  1.        ,  1.        ,  1.        ,\n         1.        ],\n       [ 7.        , 45.79633333,  0.14285714,  0.28571429,  2.        ,\n         6.        ]])"
      ]
     },
     "execution_count": 16,
     "metadata": {},
     "output_type": "execute_result"
    }
   ],
   "source": [
    "X_train[:10]"
   ]
  },
  {
   "cell_type": "code",
   "execution_count": 17,
   "metadata": {},
   "outputs": [
    {
     "name": "stdout",
     "output_type": "stream",
     "text": [
      "train size = 883884\ntest_size = 883885\n"
     ]
    }
   ],
   "source": [
    "print('train size = %d\\ntest_size = %d' % (len(X_train), len(X_test)))"
   ]
  },
  {
   "cell_type": "markdown",
   "metadata": {},
   "source": [
    "## Preprocess data"
   ]
  },
  {
   "cell_type": "code",
   "execution_count": 18,
   "metadata": {},
   "outputs": [
    {
     "data": {
      "text/plain": [
       "array([ 1.49301153, 40.60686659,  0.89177128,  0.95059212,  1.18818457,\n        1.15314453])"
      ]
     },
     "execution_count": 18,
     "metadata": {},
     "output_type": "execute_result"
    }
   ],
   "source": [
    "scaler = StandardScaler()\n",
    "scaler.fit(X_train)\n",
    "scaler.mean_"
   ]
  },
  {
   "cell_type": "code",
   "execution_count": 19,
   "metadata": {},
   "outputs": [],
   "source": [
    "X_train_std = scaler.transform(X_train)\n",
    "X_test_std = scaler.transform(X_test)"
   ]
  },
  {
   "cell_type": "code",
   "execution_count": 20,
   "metadata": {},
   "outputs": [],
   "source": [
    "X_train_std[:10]"
   ]
  },
  {
   "cell_type": "markdown",
   "metadata": {},
   "source": [
    "## Kmeans Clustering"
   ]
  },
  {
   "cell_type": "code",
   "execution_count": 21,
   "metadata": {},
   "outputs": [
    {
     "data": {
      "text/plain": [
       "[KMeans(algorithm='auto', copy_x=True, init='k-means++', max_iter=1000,\n     n_clusters=2, n_init=10, n_jobs=-1, precompute_distances='auto',\n     random_state=435, tol=0.0001, verbose=0),\n KMeans(algorithm='auto', copy_x=True, init='k-means++', max_iter=1000,\n     n_clusters=3, n_init=10, n_jobs=-1, precompute_distances='auto',\n     random_state=435, tol=0.0001, verbose=0),\n KMeans(algorithm='auto', copy_x=True, init='k-means++', max_iter=1000,\n     n_clusters=4, n_init=10, n_jobs=-1, precompute_distances='auto',\n     random_state=435, tol=0.0001, verbose=0),\n KMeans(algorithm='auto', copy_x=True, init='k-means++', max_iter=1000,\n     n_clusters=5, n_init=10, n_jobs=-1, precompute_distances='auto',\n     random_state=435, tol=0.0001, verbose=0),\n KMeans(algorithm='auto', copy_x=True, init='k-means++', max_iter=1000,\n     n_clusters=6, n_init=10, n_jobs=-1, precompute_distances='auto',\n     random_state=435, tol=0.0001, verbose=0),\n KMeans(algorithm='auto', copy_x=True, init='k-means++', max_iter=1000,\n     n_clusters=7, n_init=10, n_jobs=-1, precompute_distances='auto',\n     random_state=435, tol=0.0001, verbose=0)]"
      ]
     },
     "execution_count": 21,
     "metadata": {},
     "output_type": "execute_result"
    }
   ],
   "source": [
    "kmeans_list = [ KMeans(n_clusters=i, max_iter=1000, random_state=435, n_jobs=-1) for i in range(2, 8) ]\n",
    "kmeans_list"
   ]
  },
  {
   "cell_type": "code",
   "execution_count": 22,
   "metadata": {},
   "outputs": [
    {
     "data": {
      "text/plain": [
       "[-2784196.9418521742,\n -2153180.95922908,\n -1670218.9766172827,\n -1345850.001683282,\n -1166057.3870613815,\n -1023851.9301882641]"
      ]
     },
     "execution_count": 22,
     "metadata": {},
     "output_type": "execute_result"
    }
   ],
   "source": [
    "score = [ kmeans_list[i].fit(X_train_std).score(X_train_std) for i in range(len(kmeans_list)) ]\n",
    "score"
   ]
  },
  {
   "cell_type": "code",
   "execution_count": 23,
   "metadata": {},
   "outputs": [
    {
     "data": {
      "image/png": "[encoded data removed]",
      "text/plain": [
       "<matplotlib.figure.Figure at 0x7f94f881d518>"
      ]
     },
     "metadata": {},
     "output_type": "display_data"
    }
   ],
   "source": [
    "plt.plot(range(2, 8), score)\n",
    "plt.xlabel('Number of CLusters')\n",
    "plt.ylabel('Cluster Score')\n",
    "plt.title('Elbow Curve')\n",
    "plt.show()"
   ]
  },
  {
   "cell_type": "code",
   "execution_count": 24,
   "metadata": {},
   "outputs": [],
   "source": [
    "kmeans_list[3].cluster_centers_"
   ]
  },
  {
   "cell_type": "code",
   "execution_count": 25,
   "metadata": {},
   "outputs": [
    {
     "data": {
      "text/plain": [
       "array([[2.82206280e+00, 1.11050915e+02, 4.57769550e-01, 9.81621619e-01,\n        2.32130276e+00, 1.08230918e+00],\n       [1.02546966e+00, 2.77722542e+00, 9.99999368e-01, 1.00000000e+00,\n        1.00000082e+00, 1.00000000e+00],\n       [3.09966072e+00, 1.40682366e+02, 4.29935843e-01, 5.28698584e-01,\n        1.33498336e+00, 2.32239644e+00],\n       [1.08084068e+01, 1.07648471e+02, 1.92462488e-01, 7.18506268e-01,\n        4.86987597e+00, 2.92714665e+00],\n       [2.39401291e+00, 7.29070185e+02, 5.86922032e-01, 7.39143338e-01,\n        1.35204098e+00, 1.60831595e+00]])"
      ]
     },
     "execution_count": 25,
     "metadata": {},
     "output_type": "execute_result"
    }
   ],
   "source": [
    "scaler.inverse_transform(kmeans_list[3].cluster_centers_)"
   ]
  },
  {
   "cell_type": "code",
   "execution_count": 26,
   "metadata": {},
   "outputs": [
    {
     "data": {
      "text/plain": [
       "array([ 68024, 711945,  71629,  11684,  20602])"
      ]
     },
     "execution_count": 26,
     "metadata": {},
     "output_type": "execute_result"
    }
   ],
   "source": [
    "np.bincount(kmeans_list[3].labels_)"
   ]
  },
  {
   "cell_type": "code",
   "execution_count": 27,
   "metadata": {},
   "outputs": [
    {
     "data": {
      "text/plain": [
       "815860"
      ]
     },
     "execution_count": 27,
     "metadata": {},
     "output_type": "execute_result"
    }
   ],
   "source": [
    "len(kmeans_list[3].labels_[kmeans_list[3].labels_>0])"
   ]
  },
  {
   "cell_type": "code",
   "execution_count": 28,
   "metadata": {},
   "outputs": [
    {
     "data": {
      "text/html": [
       "<div>\n",
       "<style scoped>\n",
       "    .dataframe tbody tr th:only-of-type {\n",
       "        vertical-align: middle;\n",
       "    }\n",
       "\n",
       "    .dataframe tbody tr th {\n",
       "        vertical-align: top;\n",
       "    }\n",
       "\n",
       "    .dataframe thead th {\n",
       "        text-align: right;\n",
       "    }\n",
       "</style>\n",
       "<table border=\"1\" class=\"dataframe\">\n",
       "  <thead>\n",
       "    <tr style=\"text-align: right;\">\n",
       "      <th></th>\n",
       "      <th>pages</th>\n",
       "      <th>pagetime</th>\n",
       "      <th>diffcat</th>\n",
       "      <th>diffprod</th>\n",
       "      <th>prodcat</th>\n",
       "      <th>maxrep</th>\n",
       "      <th>size</th>\n",
       "    </tr>\n",
       "  </thead>\n",
       "  <tbody>\n",
       "    <tr>\n",
       "      <th>0</th>\n",
       "      <td>1.025348</td>\n",
       "      <td>2.777675</td>\n",
       "      <td>1.000000</td>\n",
       "      <td>1.000000</td>\n",
       "      <td>1.000000</td>\n",
       "      <td>1.000000</td>\n",
       "      <td>711940</td>\n",
       "    </tr>\n",
       "    <tr>\n",
       "      <th>1</th>\n",
       "      <td>2.712980</td>\n",
       "      <td>138.028996</td>\n",
       "      <td>0.451517</td>\n",
       "      <td>0.539171</td>\n",
       "      <td>1.273186</td>\n",
       "      <td>2.138337</td>\n",
       "      <td>63012</td>\n",
       "    </tr>\n",
       "    <tr>\n",
       "      <th>2</th>\n",
       "      <td>11.150676</td>\n",
       "      <td>106.063370</td>\n",
       "      <td>0.152259</td>\n",
       "      <td>0.834297</td>\n",
       "      <td>6.496650</td>\n",
       "      <td>2.096433</td>\n",
       "      <td>6136</td>\n",
       "    </tr>\n",
       "    <tr>\n",
       "      <th>3</th>\n",
       "      <td>2.400508</td>\n",
       "      <td>731.744723</td>\n",
       "      <td>0.586044</td>\n",
       "      <td>0.739465</td>\n",
       "      <td>1.355316</td>\n",
       "      <td>1.611760</td>\n",
       "      <td>20466</td>\n",
       "    </tr>\n",
       "    <tr>\n",
       "      <th>4</th>\n",
       "      <td>2.918975</td>\n",
       "      <td>111.409284</td>\n",
       "      <td>0.456478</td>\n",
       "      <td>0.977853</td>\n",
       "      <td>2.326036</td>\n",
       "      <td>1.100760</td>\n",
       "      <td>69568</td>\n",
       "    </tr>\n",
       "    <tr>\n",
       "      <th>5</th>\n",
       "      <td>7.685007</td>\n",
       "      <td>144.439389</td>\n",
       "      <td>0.246848</td>\n",
       "      <td>0.471663</td>\n",
       "      <td>2.242276</td>\n",
       "      <td>3.928678</td>\n",
       "      <td>12762</td>\n",
       "    </tr>\n",
       "  </tbody>\n",
       "</table>\n",
       "</div>"
      ],
      "text/plain": [
       "<div>\n",
       "<style scoped>\n",
       "    .dataframe tbody tr th:only-of-type {\n",
       "        vertical-align: middle;\n",
       "    }\n",
       "\n",
       "    .dataframe tbody tr th {\n",
       "        vertical-align: top;\n",
       "    }\n",
       "\n",
       "    .dataframe thead th {\n",
       "        text-align: right;\n",
       "    }\n",
       "</style>\n",
       "<table border=\"1\" class=\"dataframe\">\n",
       "  <thead>\n",
       "    <tr style=\"text-align: right;\">\n",
       "      <th></th>\n",
       "      <th>pages</th>\n",
       "      <th>pagetime</th>\n",
       "      <th>diffcat</th>\n",
       "      <th>diffprod</th>\n",
       "      <th>prodcat</th>\n",
       "      <th>maxrep</th>\n",
       "      <th>size</th>\n",
       "    </tr>\n",
       "  </thead>\n",
       "  <tbody>\n",
       "    <tr>\n",
       "      <th>0</th>\n",
       "      <td>1.025348</td>\n",
       "      <td>2.777675</td>\n",
       "      <td>1.000000</td>\n",
       "      <td>1.000000</td>\n",
       "      <td>1.000000</td>\n",
       "      <td>1.000000</td>\n",
       "      <td>711940</td>\n",
       "    </tr>\n",
       "    <tr>\n",
       "      <th>1</th>\n",
       "      <td>2.712980</td>\n",
       "      <td>138.028996</td>\n",
       "      <td>0.451517</td>\n",
       "      <td>0.539171</td>\n",
       "      <td>1.273186</td>\n",
       "      <td>2.138337</td>\n",
       "      <td>63012</td>\n",
       "    </tr>\n",
       "    <tr>\n",
       "      <th>2</th>\n",
       "      <td>11.150676</td>\n",
       "      <td>106.063370</td>\n",
       "      <td>0.152259</td>\n",
       "      <td>0.834297</td>\n",
       "      <td>6.496650</td>\n",
       "      <td>2.096433</td>\n",
       "      <td>6136</td>\n",
       "    </tr>\n",
       "    <tr>\n",
       "      <th>3</th>\n",
       "      <td>2.400508</td>\n",
       "      <td>731.744723</td>\n",
       "      <td>0.586044</td>\n",
       "      <td>0.739465</td>\n",
       "      <td>1.355316</td>\n",
       "      <td>1.611760</td>\n",
       "      <td>20466</td>\n",
       "    </tr>\n",
       "    <tr>\n",
       "      <th>4</th>\n",
       "      <td>2.918975</td>\n",
       "      <td>111.409284</td>\n",
       "      <td>0.456478</td>\n",
       "      <td>0.977853</td>\n",
       "      <td>2.326036</td>\n",
       "      <td>1.100760</td>\n",
       "      <td>69568</td>\n",
       "    </tr>\n",
       "    <tr>\n",
       "      <th>5</th>\n",
       "      <td>7.685007</td>\n",
       "      <td>144.439389</td>\n",
       "      <td>0.246848</td>\n",
       "      <td>0.471663</td>\n",
       "      <td>2.242276</td>\n",
       "      <td>3.928678</td>\n",
       "      <td>12762</td>\n",
       "    </tr>\n",
       "  </tbody>\n",
       "</table>\n",
       "</div>"
      ]
     },
     "execution_count": 28,
     "metadata": {},
     "output_type": "execute_result"
    }
   ],
   "source": [
    "cluster6_centers_df = pd.DataFrame.from_records(scaler.inverse_transform(kmeans_list[4].cluster_centers_), columns=sessions_df.columns[-6:])\n",
    "cluster6_centers_df['size'] = np.bincount(kmeans_list[4].labels_)\n",
    "cluster6_centers_df"
   ]
  },
  {
   "cell_type": "code",
   "execution_count": 29,
   "metadata": {},
   "outputs": [
    {
     "data": {
      "text/html": [
       "<div>\n",
       "<style scoped>\n",
       "    .dataframe tbody tr th:only-of-type {\n",
       "        vertical-align: middle;\n",
       "    }\n",
       "\n",
       "    .dataframe tbody tr th {\n",
       "        vertical-align: top;\n",
       "    }\n",
       "\n",
       "    .dataframe thead th {\n",
       "        text-align: right;\n",
       "    }\n",
       "</style>\n",
       "<table border=\"1\" class=\"dataframe\">\n",
       "  <thead>\n",
       "    <tr style=\"text-align: right;\">\n",
       "      <th></th>\n",
       "      <th>pages</th>\n",
       "      <th>pagetime</th>\n",
       "      <th>diffcat</th>\n",
       "      <th>diffprod</th>\n",
       "      <th>prodcat</th>\n",
       "      <th>maxrep</th>\n",
       "      <th>size</th>\n",
       "    </tr>\n",
       "  </thead>\n",
       "  <tbody>\n",
       "    <tr>\n",
       "      <th>0</th>\n",
       "      <td>2.822063</td>\n",
       "      <td>111.050915</td>\n",
       "      <td>0.457770</td>\n",
       "      <td>0.981622</td>\n",
       "      <td>2.321303</td>\n",
       "      <td>1.082309</td>\n",
       "      <td>68024</td>\n",
       "    </tr>\n",
       "    <tr>\n",
       "      <th>1</th>\n",
       "      <td>1.025470</td>\n",
       "      <td>2.777225</td>\n",
       "      <td>0.999999</td>\n",
       "      <td>1.000000</td>\n",
       "      <td>1.000001</td>\n",
       "      <td>1.000000</td>\n",
       "      <td>711945</td>\n",
       "    </tr>\n",
       "    <tr>\n",
       "      <th>2</th>\n",
       "      <td>3.099661</td>\n",
       "      <td>140.682366</td>\n",
       "      <td>0.429936</td>\n",
       "      <td>0.528699</td>\n",
       "      <td>1.334983</td>\n",
       "      <td>2.322396</td>\n",
       "      <td>71629</td>\n",
       "    </tr>\n",
       "    <tr>\n",
       "      <th>3</th>\n",
       "      <td>10.808407</td>\n",
       "      <td>107.648471</td>\n",
       "      <td>0.192462</td>\n",
       "      <td>0.718506</td>\n",
       "      <td>4.869876</td>\n",
       "      <td>2.927147</td>\n",
       "      <td>11684</td>\n",
       "    </tr>\n",
       "    <tr>\n",
       "      <th>4</th>\n",
       "      <td>2.394013</td>\n",
       "      <td>729.070185</td>\n",
       "      <td>0.586922</td>\n",
       "      <td>0.739143</td>\n",
       "      <td>1.352041</td>\n",
       "      <td>1.608316</td>\n",
       "      <td>20602</td>\n",
       "    </tr>\n",
       "  </tbody>\n",
       "</table>\n",
       "</div>"
      ],
      "text/plain": [
       "<div>\n",
       "<style scoped>\n",
       "    .dataframe tbody tr th:only-of-type {\n",
       "        vertical-align: middle;\n",
       "    }\n",
       "\n",
       "    .dataframe tbody tr th {\n",
       "        vertical-align: top;\n",
       "    }\n",
       "\n",
       "    .dataframe thead th {\n",
       "        text-align: right;\n",
       "    }\n",
       "</style>\n",
       "<table border=\"1\" class=\"dataframe\">\n",
       "  <thead>\n",
       "    <tr style=\"text-align: right;\">\n",
       "      <th></th>\n",
       "      <th>pages</th>\n",
       "      <th>pagetime</th>\n",
       "      <th>diffcat</th>\n",
       "      <th>diffprod</th>\n",
       "      <th>prodcat</th>\n",
       "      <th>maxrep</th>\n",
       "      <th>size</th>\n",
       "    </tr>\n",
       "  </thead>\n",
       "  <tbody>\n",
       "    <tr>\n",
       "      <th>0</th>\n",
       "      <td>2.822063</td>\n",
       "      <td>111.050915</td>\n",
       "      <td>0.457770</td>\n",
       "      <td>0.981622</td>\n",
       "      <td>2.321303</td>\n",
       "      <td>1.082309</td>\n",
       "      <td>68024</td>\n",
       "    </tr>\n",
       "    <tr>\n",
       "      <th>1</th>\n",
       "      <td>1.025470</td>\n",
       "      <td>2.777225</td>\n",
       "      <td>0.999999</td>\n",
       "      <td>1.000000</td>\n",
       "      <td>1.000001</td>\n",
       "      <td>1.000000</td>\n",
       "      <td>711945</td>\n",
       "    </tr>\n",
       "    <tr>\n",
       "      <th>2</th>\n",
       "      <td>3.099661</td>\n",
       "      <td>140.682366</td>\n",
       "      <td>0.429936</td>\n",
       "      <td>0.528699</td>\n",
       "      <td>1.334983</td>\n",
       "      <td>2.322396</td>\n",
       "      <td>71629</td>\n",
       "    </tr>\n",
       "    <tr>\n",
       "      <th>3</th>\n",
       "      <td>10.808407</td>\n",
       "      <td>107.648471</td>\n",
       "      <td>0.192462</td>\n",
       "      <td>0.718506</td>\n",
       "      <td>4.869876</td>\n",
       "      <td>2.927147</td>\n",
       "      <td>11684</td>\n",
       "    </tr>\n",
       "    <tr>\n",
       "      <th>4</th>\n",
       "      <td>2.394013</td>\n",
       "      <td>729.070185</td>\n",
       "      <td>0.586922</td>\n",
       "      <td>0.739143</td>\n",
       "      <td>1.352041</td>\n",
       "      <td>1.608316</td>\n",
       "      <td>20602</td>\n",
       "    </tr>\n",
       "  </tbody>\n",
       "</table>\n",
       "</div>"
      ]
     },
     "execution_count": 29,
     "metadata": {},
     "output_type": "execute_result"
    }
   ],
   "source": [
    "cluster5_centers_df = pd.DataFrame.from_records(scaler.inverse_transform(kmeans_list[3].cluster_centers_), columns=sessions_df.columns[-6:])\n",
    "cluster5_centers_df['size'] = np.bincount(kmeans_list[3].labels_)\n",
    "cluster5_centers_df"
   ]
  },
  {
   "cell_type": "code",
   "execution_count": 30,
   "metadata": {},
   "outputs": [
    {
     "data": {
      "text/html": [
       "<div>\n",
       "<style scoped>\n",
       "    .dataframe tbody tr th:only-of-type {\n",
       "        vertical-align: middle;\n",
       "    }\n",
       "\n",
       "    .dataframe tbody tr th {\n",
       "        vertical-align: top;\n",
       "    }\n",
       "\n",
       "    .dataframe thead th {\n",
       "        text-align: right;\n",
       "    }\n",
       "</style>\n",
       "<table border=\"1\" class=\"dataframe\">\n",
       "  <thead>\n",
       "    <tr style=\"text-align: right;\">\n",
       "      <th></th>\n",
       "      <th>pages</th>\n",
       "      <th>pagetime</th>\n",
       "      <th>diffcat</th>\n",
       "      <th>diffprod</th>\n",
       "      <th>prodcat</th>\n",
       "      <th>maxrep</th>\n",
       "      <th>size</th>\n",
       "    </tr>\n",
       "  </thead>\n",
       "  <tbody>\n",
       "    <tr>\n",
       "      <th>0</th>\n",
       "      <td>1.023910</td>\n",
       "      <td>2.640963</td>\n",
       "      <td>0.999990</td>\n",
       "      <td>1.000000</td>\n",
       "      <td>1.000014</td>\n",
       "      <td>1.000000</td>\n",
       "      <td>711676</td>\n",
       "    </tr>\n",
       "    <tr>\n",
       "      <th>1</th>\n",
       "      <td>10.654306</td>\n",
       "      <td>107.921844</td>\n",
       "      <td>0.194692</td>\n",
       "      <td>0.707104</td>\n",
       "      <td>4.744146</td>\n",
       "      <td>2.978369</td>\n",
       "      <td>12280</td>\n",
       "    </tr>\n",
       "    <tr>\n",
       "      <th>2</th>\n",
       "      <td>2.822067</td>\n",
       "      <td>185.006501</td>\n",
       "      <td>0.491582</td>\n",
       "      <td>0.981848</td>\n",
       "      <td>2.223135</td>\n",
       "      <td>1.084525</td>\n",
       "      <td>78344</td>\n",
       "    </tr>\n",
       "    <tr>\n",
       "      <th>3</th>\n",
       "      <td>2.928255</td>\n",
       "      <td>223.018936</td>\n",
       "      <td>0.437028</td>\n",
       "      <td>0.526193</td>\n",
       "      <td>1.299835</td>\n",
       "      <td>2.280077</td>\n",
       "      <td>81584</td>\n",
       "    </tr>\n",
       "  </tbody>\n",
       "</table>\n",
       "</div>"
      ],
      "text/plain": [
       "<div>\n",
       "<style scoped>\n",
       "    .dataframe tbody tr th:only-of-type {\n",
       "        vertical-align: middle;\n",
       "    }\n",
       "\n",
       "    .dataframe tbody tr th {\n",
       "        vertical-align: top;\n",
       "    }\n",
       "\n",
       "    .dataframe thead th {\n",
       "        text-align: right;\n",
       "    }\n",
       "</style>\n",
       "<table border=\"1\" class=\"dataframe\">\n",
       "  <thead>\n",
       "    <tr style=\"text-align: right;\">\n",
       "      <th></th>\n",
       "      <th>pages</th>\n",
       "      <th>pagetime</th>\n",
       "      <th>diffcat</th>\n",
       "      <th>diffprod</th>\n",
       "      <th>prodcat</th>\n",
       "      <th>maxrep</th>\n",
       "      <th>size</th>\n",
       "    </tr>\n",
       "  </thead>\n",
       "  <tbody>\n",
       "    <tr>\n",
       "      <th>0</th>\n",
       "      <td>1.023910</td>\n",
       "      <td>2.640963</td>\n",
       "      <td>0.999990</td>\n",
       "      <td>1.000000</td>\n",
       "      <td>1.000014</td>\n",
       "      <td>1.000000</td>\n",
       "      <td>711676</td>\n",
       "    </tr>\n",
       "    <tr>\n",
       "      <th>1</th>\n",
       "      <td>10.654306</td>\n",
       "      <td>107.921844</td>\n",
       "      <td>0.194692</td>\n",
       "      <td>0.707104</td>\n",
       "      <td>4.744146</td>\n",
       "      <td>2.978369</td>\n",
       "      <td>12280</td>\n",
       "    </tr>\n",
       "    <tr>\n",
       "      <th>2</th>\n",
       "      <td>2.822067</td>\n",
       "      <td>185.006501</td>\n",
       "      <td>0.491582</td>\n",
       "      <td>0.981848</td>\n",
       "      <td>2.223135</td>\n",
       "      <td>1.084525</td>\n",
       "      <td>78344</td>\n",
       "    </tr>\n",
       "    <tr>\n",
       "      <th>3</th>\n",
       "      <td>2.928255</td>\n",
       "      <td>223.018936</td>\n",
       "      <td>0.437028</td>\n",
       "      <td>0.526193</td>\n",
       "      <td>1.299835</td>\n",
       "      <td>2.280077</td>\n",
       "      <td>81584</td>\n",
       "    </tr>\n",
       "  </tbody>\n",
       "</table>\n",
       "</div>"
      ]
     },
     "execution_count": 30,
     "metadata": {},
     "output_type": "execute_result"
    }
   ],
   "source": [
    "cluster4_centers_df = pd.DataFrame.from_records(scaler.inverse_transform(kmeans_list[2].cluster_centers_), columns=sessions_df.columns[-6:])\n",
    "cluster4_centers_df['size'] = np.bincount(kmeans_list[2].labels_)\n",
    "cluster4_centers_df"
   ]
  },
  {
   "cell_type": "markdown",
   "metadata": {},
   "source": [
    "The cluster solution is stable across the train and test set."
   ]
  },
  {
   "cell_type": "markdown",
   "metadata": {},
   "source": [
    "We will select the 5 cluster solution as its cluster profiles have the best explanation."
   ]
  },
  {
   "cell_type": "markdown",
   "metadata": {},
   "source": [
    "## Validate the cluster solution on the test set"
   ]
  },
  {
   "cell_type": "code",
   "execution_count": 31,
   "metadata": {},
   "outputs": [],
   "source": [
    "model = kmeans_list[3]\n",
    "test_pred = model.predict(X_test_std)"
   ]
  },
  {
   "cell_type": "code",
   "execution_count": 32,
   "metadata": {},
   "outputs": [
    {
     "data": {
      "text/plain": [
       "array([1, 1, 1, 1, 1, 0, 2, 1, 1, 1], dtype=int32)"
      ]
     },
     "execution_count": 32,
     "metadata": {},
     "output_type": "execute_result"
    }
   ],
   "source": [
    "test_pred[:10]"
   ]
  },
  {
   "cell_type": "code",
   "execution_count": 33,
   "metadata": {},
   "outputs": [],
   "source": [
    "cluster_centre_list = [ np.mean(X_test[np.where(test_pred == i)], axis=0) for i in range(len(model.cluster_centers_)) ]"
   ]
  },
  {
   "cell_type": "code",
   "execution_count": 34,
   "metadata": {},
   "outputs": [
    {
     "data": {
      "text/plain": [
       "[array([  2.83629206, 109.81330334,   0.45821145,   0.98150593,\n          2.31849727,   1.08380761]),\n array([1.02527671, 2.81381955, 0.99999733, 1.        , 1.00000351,\n        1.        ]),\n array([  3.09389442, 140.05521764,   0.4294581 ,   0.52870341,\n          1.33853485,   2.31766332]),\n array([ 10.80507899, 107.07695953,   0.19435614,   0.72065123,\n          4.8892523 ,   2.91905894]),\n array([2.39026024e+00, 7.31116391e+02, 5.89867171e-01, 7.37544649e-01,\n        1.34057278e+00, 1.60811328e+00])]"
      ]
     },
     "execution_count": 34,
     "metadata": {},
     "output_type": "execute_result"
    }
   ],
   "source": [
    "cluster_centre_list"
   ]
  },
  {
   "cell_type": "code",
   "execution_count": 35,
   "metadata": {},
   "outputs": [
    {
     "data": {
      "text/html": [
       "<div>\n",
       "<style scoped>\n",
       "    .dataframe tbody tr th:only-of-type {\n",
       "        vertical-align: middle;\n",
       "    }\n",
       "\n",
       "    .dataframe tbody tr th {\n",
       "        vertical-align: top;\n",
       "    }\n",
       "\n",
       "    .dataframe thead th {\n",
       "        text-align: right;\n",
       "    }\n",
       "</style>\n",
       "<table border=\"1\" class=\"dataframe\">\n",
       "  <thead>\n",
       "    <tr style=\"text-align: right;\">\n",
       "      <th></th>\n",
       "      <th>pages</th>\n",
       "      <th>pagetime</th>\n",
       "      <th>diffcat</th>\n",
       "      <th>diffprod</th>\n",
       "      <th>prodcat</th>\n",
       "      <th>maxrep</th>\n",
       "      <th>size</th>\n",
       "    </tr>\n",
       "  </thead>\n",
       "  <tbody>\n",
       "    <tr>\n",
       "      <th>0</th>\n",
       "      <td>2.836292</td>\n",
       "      <td>109.813303</td>\n",
       "      <td>0.458211</td>\n",
       "      <td>0.981506</td>\n",
       "      <td>2.318497</td>\n",
       "      <td>1.083808</td>\n",
       "      <td>67822</td>\n",
       "    </tr>\n",
       "    <tr>\n",
       "      <th>1</th>\n",
       "      <td>1.025277</td>\n",
       "      <td>2.813820</td>\n",
       "      <td>0.999997</td>\n",
       "      <td>1.000000</td>\n",
       "      <td>1.000004</td>\n",
       "      <td>1.000000</td>\n",
       "      <td>711762</td>\n",
       "    </tr>\n",
       "    <tr>\n",
       "      <th>2</th>\n",
       "      <td>3.093894</td>\n",
       "      <td>140.055218</td>\n",
       "      <td>0.429458</td>\n",
       "      <td>0.528703</td>\n",
       "      <td>1.338535</td>\n",
       "      <td>2.317663</td>\n",
       "      <td>71623</td>\n",
       "    </tr>\n",
       "    <tr>\n",
       "      <th>3</th>\n",
       "      <td>10.805079</td>\n",
       "      <td>107.076960</td>\n",
       "      <td>0.194356</td>\n",
       "      <td>0.720651</td>\n",
       "      <td>4.889252</td>\n",
       "      <td>2.919059</td>\n",
       "      <td>11774</td>\n",
       "    </tr>\n",
       "    <tr>\n",
       "      <th>4</th>\n",
       "      <td>2.390260</td>\n",
       "      <td>731.116391</td>\n",
       "      <td>0.589867</td>\n",
       "      <td>0.737545</td>\n",
       "      <td>1.340573</td>\n",
       "      <td>1.608113</td>\n",
       "      <td>20904</td>\n",
       "    </tr>\n",
       "  </tbody>\n",
       "</table>\n",
       "</div>"
      ],
      "text/plain": [
       "<div>\n",
       "<style scoped>\n",
       "    .dataframe tbody tr th:only-of-type {\n",
       "        vertical-align: middle;\n",
       "    }\n",
       "\n",
       "    .dataframe tbody tr th {\n",
       "        vertical-align: top;\n",
       "    }\n",
       "\n",
       "    .dataframe thead th {\n",
       "        text-align: right;\n",
       "    }\n",
       "</style>\n",
       "<table border=\"1\" class=\"dataframe\">\n",
       "  <thead>\n",
       "    <tr style=\"text-align: right;\">\n",
       "      <th></th>\n",
       "      <th>pages</th>\n",
       "      <th>pagetime</th>\n",
       "      <th>diffcat</th>\n",
       "      <th>diffprod</th>\n",
       "      <th>prodcat</th>\n",
       "      <th>maxrep</th>\n",
       "      <th>size</th>\n",
       "    </tr>\n",
       "  </thead>\n",
       "  <tbody>\n",
       "    <tr>\n",
       "      <th>0</th>\n",
       "      <td>2.836292</td>\n",
       "      <td>109.813303</td>\n",
       "      <td>0.458211</td>\n",
       "      <td>0.981506</td>\n",
       "      <td>2.318497</td>\n",
       "      <td>1.083808</td>\n",
       "      <td>67822</td>\n",
       "    </tr>\n",
       "    <tr>\n",
       "      <th>1</th>\n",
       "      <td>1.025277</td>\n",
       "      <td>2.813820</td>\n",
       "      <td>0.999997</td>\n",
       "      <td>1.000000</td>\n",
       "      <td>1.000004</td>\n",
       "      <td>1.000000</td>\n",
       "      <td>711762</td>\n",
       "    </tr>\n",
       "    <tr>\n",
       "      <th>2</th>\n",
       "      <td>3.093894</td>\n",
       "      <td>140.055218</td>\n",
       "      <td>0.429458</td>\n",
       "      <td>0.528703</td>\n",
       "      <td>1.338535</td>\n",
       "      <td>2.317663</td>\n",
       "      <td>71623</td>\n",
       "    </tr>\n",
       "    <tr>\n",
       "      <th>3</th>\n",
       "      <td>10.805079</td>\n",
       "      <td>107.076960</td>\n",
       "      <td>0.194356</td>\n",
       "      <td>0.720651</td>\n",
       "      <td>4.889252</td>\n",
       "      <td>2.919059</td>\n",
       "      <td>11774</td>\n",
       "    </tr>\n",
       "    <tr>\n",
       "      <th>4</th>\n",
       "      <td>2.390260</td>\n",
       "      <td>731.116391</td>\n",
       "      <td>0.589867</td>\n",
       "      <td>0.737545</td>\n",
       "      <td>1.340573</td>\n",
       "      <td>1.608113</td>\n",
       "      <td>20904</td>\n",
       "    </tr>\n",
       "  </tbody>\n",
       "</table>\n",
       "</div>"
      ]
     },
     "execution_count": 35,
     "metadata": {},
     "output_type": "execute_result"
    }
   ],
   "source": [
    "test_cluster5_centers_df = pd.DataFrame.from_records(cluster_centre_list, columns=sessions_df.columns[-6:])\n",
    "test_cluster5_centers_df['size'] = np.bincount(test_pred)\n",
    "test_cluster5_centers_df"
   ]
  },
  {
   "cell_type": "code",
   "execution_count": 36,
   "metadata": {},
   "outputs": [
    {
     "data": {
      "text/html": [
       "<div>\n",
       "<style scoped>\n",
       "    .dataframe tbody tr th:only-of-type {\n",
       "        vertical-align: middle;\n",
       "    }\n",
       "\n",
       "    .dataframe tbody tr th {\n",
       "        vertical-align: top;\n",
       "    }\n",
       "\n",
       "    .dataframe thead th {\n",
       "        text-align: right;\n",
       "    }\n",
       "</style>\n",
       "<table border=\"1\" class=\"dataframe\">\n",
       "  <thead>\n",
       "    <tr style=\"text-align: right;\">\n",
       "      <th></th>\n",
       "      <th>pages</th>\n",
       "      <th>pagetime</th>\n",
       "      <th>diffcat</th>\n",
       "      <th>diffprod</th>\n",
       "      <th>prodcat</th>\n",
       "      <th>maxrep</th>\n",
       "      <th>size</th>\n",
       "    </tr>\n",
       "  </thead>\n",
       "  <tbody>\n",
       "    <tr>\n",
       "      <th>0</th>\n",
       "      <td>2.822063</td>\n",
       "      <td>111.050915</td>\n",
       "      <td>0.457770</td>\n",
       "      <td>0.981622</td>\n",
       "      <td>2.321303</td>\n",
       "      <td>1.082309</td>\n",
       "      <td>68024</td>\n",
       "    </tr>\n",
       "    <tr>\n",
       "      <th>1</th>\n",
       "      <td>1.025470</td>\n",
       "      <td>2.777225</td>\n",
       "      <td>0.999999</td>\n",
       "      <td>1.000000</td>\n",
       "      <td>1.000001</td>\n",
       "      <td>1.000000</td>\n",
       "      <td>711945</td>\n",
       "    </tr>\n",
       "    <tr>\n",
       "      <th>2</th>\n",
       "      <td>3.099661</td>\n",
       "      <td>140.682366</td>\n",
       "      <td>0.429936</td>\n",
       "      <td>0.528699</td>\n",
       "      <td>1.334983</td>\n",
       "      <td>2.322396</td>\n",
       "      <td>71629</td>\n",
       "    </tr>\n",
       "    <tr>\n",
       "      <th>3</th>\n",
       "      <td>10.808407</td>\n",
       "      <td>107.648471</td>\n",
       "      <td>0.192462</td>\n",
       "      <td>0.718506</td>\n",
       "      <td>4.869876</td>\n",
       "      <td>2.927147</td>\n",
       "      <td>11684</td>\n",
       "    </tr>\n",
       "    <tr>\n",
       "      <th>4</th>\n",
       "      <td>2.394013</td>\n",
       "      <td>729.070185</td>\n",
       "      <td>0.586922</td>\n",
       "      <td>0.739143</td>\n",
       "      <td>1.352041</td>\n",
       "      <td>1.608316</td>\n",
       "      <td>20602</td>\n",
       "    </tr>\n",
       "  </tbody>\n",
       "</table>\n",
       "</div>"
      ],
      "text/plain": [
       "<div>\n",
       "<style scoped>\n",
       "    .dataframe tbody tr th:only-of-type {\n",
       "        vertical-align: middle;\n",
       "    }\n",
       "\n",
       "    .dataframe tbody tr th {\n",
       "        vertical-align: top;\n",
       "    }\n",
       "\n",
       "    .dataframe thead th {\n",
       "        text-align: right;\n",
       "    }\n",
       "</style>\n",
       "<table border=\"1\" class=\"dataframe\">\n",
       "  <thead>\n",
       "    <tr style=\"text-align: right;\">\n",
       "      <th></th>\n",
       "      <th>pages</th>\n",
       "      <th>pagetime</th>\n",
       "      <th>diffcat</th>\n",
       "      <th>diffprod</th>\n",
       "      <th>prodcat</th>\n",
       "      <th>maxrep</th>\n",
       "      <th>size</th>\n",
       "    </tr>\n",
       "  </thead>\n",
       "  <tbody>\n",
       "    <tr>\n",
       "      <th>0</th>\n",
       "      <td>2.822063</td>\n",
       "      <td>111.050915</td>\n",
       "      <td>0.457770</td>\n",
       "      <td>0.981622</td>\n",
       "      <td>2.321303</td>\n",
       "      <td>1.082309</td>\n",
       "      <td>68024</td>\n",
       "    </tr>\n",
       "    <tr>\n",
       "      <th>1</th>\n",
       "      <td>1.025470</td>\n",
       "      <td>2.777225</td>\n",
       "      <td>0.999999</td>\n",
       "      <td>1.000000</td>\n",
       "      <td>1.000001</td>\n",
       "      <td>1.000000</td>\n",
       "      <td>711945</td>\n",
       "    </tr>\n",
       "    <tr>\n",
       "      <th>2</th>\n",
       "      <td>3.099661</td>\n",
       "      <td>140.682366</td>\n",
       "      <td>0.429936</td>\n",
       "      <td>0.528699</td>\n",
       "      <td>1.334983</td>\n",
       "      <td>2.322396</td>\n",
       "      <td>71629</td>\n",
       "    </tr>\n",
       "    <tr>\n",
       "      <th>3</th>\n",
       "      <td>10.808407</td>\n",
       "      <td>107.648471</td>\n",
       "      <td>0.192462</td>\n",
       "      <td>0.718506</td>\n",
       "      <td>4.869876</td>\n",
       "      <td>2.927147</td>\n",
       "      <td>11684</td>\n",
       "    </tr>\n",
       "    <tr>\n",
       "      <th>4</th>\n",
       "      <td>2.394013</td>\n",
       "      <td>729.070185</td>\n",
       "      <td>0.586922</td>\n",
       "      <td>0.739143</td>\n",
       "      <td>1.352041</td>\n",
       "      <td>1.608316</td>\n",
       "      <td>20602</td>\n",
       "    </tr>\n",
       "  </tbody>\n",
       "</table>\n",
       "</div>"
      ]
     },
     "execution_count": 36,
     "metadata": {},
     "output_type": "execute_result"
    }
   ],
   "source": [
    "cluster5_centers_df"
   ]
  },
  {
   "cell_type": "markdown",
   "metadata": {},
   "source": [
    "The cluster solution is stable across the train and test set."
   ]
  },
  {
   "cell_type": "markdown",
   "metadata": {},
   "source": [
    "## Abnormal users in the data"
   ]
  },
  {
   "cell_type": "code",
   "execution_count": 37,
   "metadata": {},
   "outputs": [],
   "source": [
    "sessions_df['cluster'] = model.predict(scaler.transform(sessions_df.iloc[:, -6:].values.astype('float')))"
   ]
  },
  {
   "cell_type": "code",
   "execution_count": 38,
   "metadata": {},
   "outputs": [
    {
     "data": {
      "text/html": [
       "<div>\n",
       "<style scoped>\n",
       "    .dataframe tbody tr th:only-of-type {\n",
       "        vertical-align: middle;\n",
       "    }\n",
       "\n",
       "    .dataframe tbody tr th {\n",
       "        vertical-align: top;\n",
       "    }\n",
       "\n",
       "    .dataframe thead th {\n",
       "        text-align: right;\n",
       "    }\n",
       "</style>\n",
       "<table border=\"1\" class=\"dataframe\">\n",
       "  <thead>\n",
       "    <tr style=\"text-align: right;\">\n",
       "      <th></th>\n",
       "      <th>view</th>\n",
       "      <th>pages</th>\n",
       "      <th>pagetime</th>\n",
       "      <th>diffcat</th>\n",
       "      <th>diffprod</th>\n",
       "      <th>prodcat</th>\n",
       "      <th>maxrep</th>\n",
       "      <th>cluster</th>\n",
       "    </tr>\n",
       "  </thead>\n",
       "  <tbody>\n",
       "    <tr>\n",
       "      <th>0</th>\n",
       "      <td>[285930, 357564, 67045]</td>\n",
       "      <td>3</td>\n",
       "      <td>163.868000</td>\n",
       "      <td>1.00</td>\n",
       "      <td>1.0</td>\n",
       "      <td>1.0</td>\n",
       "      <td>1</td>\n",
       "      <td>1</td>\n",
       "    </tr>\n",
       "    <tr>\n",
       "      <th>1</th>\n",
       "      <td>[72028]</td>\n",
       "      <td>1</td>\n",
       "      <td>0.000000</td>\n",
       "      <td>1.00</td>\n",
       "      <td>1.0</td>\n",
       "      <td>1.0</td>\n",
       "      <td>1</td>\n",
       "      <td>1</td>\n",
       "    </tr>\n",
       "    <tr>\n",
       "      <th>2</th>\n",
       "      <td>[325215, 325215, 259884, 216305, 342816, 34281...</td>\n",
       "      <td>8</td>\n",
       "      <td>250.468286</td>\n",
       "      <td>0.25</td>\n",
       "      <td>0.5</td>\n",
       "      <td>2.0</td>\n",
       "      <td>3</td>\n",
       "      <td>2</td>\n",
       "    </tr>\n",
       "    <tr>\n",
       "      <th>3</th>\n",
       "      <td>[385090]</td>\n",
       "      <td>1</td>\n",
       "      <td>0.000000</td>\n",
       "      <td>1.00</td>\n",
       "      <td>1.0</td>\n",
       "      <td>1.0</td>\n",
       "      <td>1</td>\n",
       "      <td>1</td>\n",
       "    </tr>\n",
       "    <tr>\n",
       "      <th>4</th>\n",
       "      <td>[177677]</td>\n",
       "      <td>1</td>\n",
       "      <td>0.000000</td>\n",
       "      <td>1.00</td>\n",
       "      <td>1.0</td>\n",
       "      <td>1.0</td>\n",
       "      <td>1</td>\n",
       "      <td>1</td>\n",
       "    </tr>\n",
       "  </tbody>\n",
       "</table>\n",
       "</div>"
      ],
      "text/plain": [
       "<div>\n",
       "<style scoped>\n",
       "    .dataframe tbody tr th:only-of-type {\n",
       "        vertical-align: middle;\n",
       "    }\n",
       "\n",
       "    .dataframe tbody tr th {\n",
       "        vertical-align: top;\n",
       "    }\n",
       "\n",
       "    .dataframe thead th {\n",
       "        text-align: right;\n",
       "    }\n",
       "</style>\n",
       "<table border=\"1\" class=\"dataframe\">\n",
       "  <thead>\n",
       "    <tr style=\"text-align: right;\">\n",
       "      <th></th>\n",
       "      <th>view</th>\n",
       "      <th>pages</th>\n",
       "      <th>pagetime</th>\n",
       "      <th>diffcat</th>\n",
       "      <th>diffprod</th>\n",
       "      <th>prodcat</th>\n",
       "      <th>maxrep</th>\n",
       "      <th>cluster</th>\n",
       "    </tr>\n",
       "  </thead>\n",
       "  <tbody>\n",
       "    <tr>\n",
       "      <th>0</th>\n",
       "      <td>[285930, 357564, 67045]</td>\n",
       "      <td>3</td>\n",
       "      <td>163.868000</td>\n",
       "      <td>1.00</td>\n",
       "      <td>1.0</td>\n",
       "      <td>1.0</td>\n",
       "      <td>1</td>\n",
       "      <td>1</td>\n",
       "    </tr>\n",
       "    <tr>\n",
       "      <th>1</th>\n",
       "      <td>[72028]</td>\n",
       "      <td>1</td>\n",
       "      <td>0.000000</td>\n",
       "      <td>1.00</td>\n",
       "      <td>1.0</td>\n",
       "      <td>1.0</td>\n",
       "      <td>1</td>\n",
       "      <td>1</td>\n",
       "    </tr>\n",
       "    <tr>\n",
       "      <th>2</th>\n",
       "      <td>[325215, 325215, 259884, 216305, 342816, 34281...</td>\n",
       "      <td>8</td>\n",
       "      <td>250.468286</td>\n",
       "      <td>0.25</td>\n",
       "      <td>0.5</td>\n",
       "      <td>2.0</td>\n",
       "      <td>3</td>\n",
       "      <td>2</td>\n",
       "    </tr>\n",
       "    <tr>\n",
       "      <th>3</th>\n",
       "      <td>[385090]</td>\n",
       "      <td>1</td>\n",
       "      <td>0.000000</td>\n",
       "      <td>1.00</td>\n",
       "      <td>1.0</td>\n",
       "      <td>1.0</td>\n",
       "      <td>1</td>\n",
       "      <td>1</td>\n",
       "    </tr>\n",
       "    <tr>\n",
       "      <th>4</th>\n",
       "      <td>[177677]</td>\n",
       "      <td>1</td>\n",
       "      <td>0.000000</td>\n",
       "      <td>1.00</td>\n",
       "      <td>1.0</td>\n",
       "      <td>1.0</td>\n",
       "      <td>1</td>\n",
       "      <td>1</td>\n",
       "    </tr>\n",
       "  </tbody>\n",
       "</table>\n",
       "</div>"
      ]
     },
     "execution_count": 38,
     "metadata": {},
     "output_type": "execute_result"
    }
   ],
   "source": [
    "sessions_df.iloc[:5, -8:]"
   ]
  },
  {
   "cell_type": "markdown",
   "metadata": {},
   "source": [
    "We will classify visitors which have only sessions of cluster 1 as abnormal."
   ]
  },
  {
   "cell_type": "code",
   "execution_count": 94,
   "metadata": {},
   "outputs": [],
   "source": [
    "visitor_df = pd.DataFrame(sessions_df['visitorid'].unique(), columns=['visitorid'])"
   ]
  },
  {
   "cell_type": "code",
   "execution_count": 95,
   "metadata": {},
   "outputs": [
    {
     "data": {
      "text/html": [
       "<div>\n",
       "<style scoped>\n",
       "    .dataframe tbody tr th:only-of-type {\n",
       "        vertical-align: middle;\n",
       "    }\n",
       "\n",
       "    .dataframe tbody tr th {\n",
       "        vertical-align: top;\n",
       "    }\n",
       "\n",
       "    .dataframe thead th {\n",
       "        text-align: right;\n",
       "    }\n",
       "</style>\n",
       "<table border=\"1\" class=\"dataframe\">\n",
       "  <thead>\n",
       "    <tr style=\"text-align: right;\">\n",
       "      <th></th>\n",
       "      <th>visitorid</th>\n",
       "    </tr>\n",
       "  </thead>\n",
       "  <tbody>\n",
       "    <tr>\n",
       "      <th>0</th>\n",
       "      <td>0</td>\n",
       "    </tr>\n",
       "    <tr>\n",
       "      <th>1</th>\n",
       "      <td>1</td>\n",
       "    </tr>\n",
       "    <tr>\n",
       "      <th>2</th>\n",
       "      <td>2</td>\n",
       "    </tr>\n",
       "    <tr>\n",
       "      <th>3</th>\n",
       "      <td>3</td>\n",
       "    </tr>\n",
       "    <tr>\n",
       "      <th>4</th>\n",
       "      <td>4</td>\n",
       "    </tr>\n",
       "  </tbody>\n",
       "</table>\n",
       "</div>"
      ],
      "text/plain": [
       "<div>\n",
       "<style scoped>\n",
       "    .dataframe tbody tr th:only-of-type {\n",
       "        vertical-align: middle;\n",
       "    }\n",
       "\n",
       "    .dataframe tbody tr th {\n",
       "        vertical-align: top;\n",
       "    }\n",
       "\n",
       "    .dataframe thead th {\n",
       "        text-align: right;\n",
       "    }\n",
       "</style>\n",
       "<table border=\"1\" class=\"dataframe\">\n",
       "  <thead>\n",
       "    <tr style=\"text-align: right;\">\n",
       "      <th></th>\n",
       "      <th>visitorid</th>\n",
       "    </tr>\n",
       "  </thead>\n",
       "  <tbody>\n",
       "    <tr>\n",
       "      <th>0</th>\n",
       "      <td>0</td>\n",
       "    </tr>\n",
       "    <tr>\n",
       "      <th>1</th>\n",
       "      <td>1</td>\n",
       "    </tr>\n",
       "    <tr>\n",
       "      <th>2</th>\n",
       "      <td>2</td>\n",
       "    </tr>\n",
       "    <tr>\n",
       "      <th>3</th>\n",
       "      <td>3</td>\n",
       "    </tr>\n",
       "    <tr>\n",
       "      <th>4</th>\n",
       "      <td>4</td>\n",
       "    </tr>\n",
       "  </tbody>\n",
       "</table>\n",
       "</div>"
      ]
     },
     "execution_count": 95,
     "metadata": {},
     "output_type": "execute_result"
    }
   ],
   "source": [
    "visitor_df.head()"
   ]
  },
  {
   "cell_type": "code",
   "execution_count": 57,
   "metadata": {},
   "outputs": [],
   "source": [
    "my_tuple = np.zeros((visitor_df['visitorid'].max() + 1, 2))"
   ]
  },
  {
   "cell_type": "code",
   "execution_count": 58,
   "metadata": {},
   "outputs": [
    {
     "data": {
      "text/plain": [
       "array([[0., 0.],\n       [0., 0.],\n       [0., 0.],\n       [0., 0.],\n       [0., 0.]])"
      ]
     },
     "execution_count": 58,
     "metadata": {},
     "output_type": "execute_result"
    }
   ],
   "source": [
    "my_tuple[:5]"
   ]
  },
  {
   "cell_type": "code",
   "execution_count": 61,
   "metadata": {},
   "outputs": [
    {
     "name": "stdout",
     "output_type": "stream",
     "text": [
      "Start time =  2018-11-04 23:34:03.916747\nGroup by visitor id duration =  0:00:00.000443\n"
     ]
    },
    {
     "name": "stdout",
     "output_type": "stream",
     "text": [
      "Total duration =  0:15:14.725204\n"
     ]
    }
   ],
   "source": [
    "t1 = datetime.datetime.now()\n",
    "print('Start time = ', t1)\n",
    "visitor_gby = sessions_df.groupby('visitorid')\n",
    "print('Group by visitor id duration = ', datetime.datetime.now() - t1)\n",
    "for i, df in visitor_gby:\n",
    "    my_tuple[i, 0] = df['cluster'].map(lambda x: x != 1).any()\n",
    "    my_tuple[i, 1] = df['transaction'].map(lambda x: bool(x)).any()\n",
    "    \n",
    "print('Total duration = ', datetime.datetime.now() - t1)"
   ]
  },
  {
   "cell_type": "code",
   "execution_count": 62,
   "metadata": {},
   "outputs": [
    {
     "data": {
      "text/plain": [
       "array([[0., 0.],\n       [0., 0.],\n       [1., 0.],\n       [0., 0.],\n       [0., 0.],\n       [0., 0.],\n       [1., 0.],\n       [1., 0.],\n       [0., 0.],\n       [0., 0.]])"
      ]
     },
     "execution_count": 62,
     "metadata": {},
     "output_type": "execute_result"
    }
   ],
   "source": [
    "my_tuple[:10]"
   ]
  },
  {
   "cell_type": "code",
   "execution_count": 96,
   "metadata": {},
   "outputs": [],
   "source": [
    "visitor_df.loc[:, 'normal'] = visitor_df['visitorid'].map(lambda x: my_tuple[x, 0]).astype('bool')"
   ]
  },
  {
   "cell_type": "code",
   "execution_count": 97,
   "metadata": {},
   "outputs": [],
   "source": [
    "visitor_df.loc[:, 'transact'] = visitor_df['visitorid'].map(lambda x: my_tuple[x, 1]).astype('bool')"
   ]
  },
  {
   "cell_type": "code",
   "execution_count": 98,
   "metadata": {},
   "outputs": [
    {
     "data": {
      "text/html": [
       "<div>\n",
       "<style scoped>\n",
       "    .dataframe tbody tr th:only-of-type {\n",
       "        vertical-align: middle;\n",
       "    }\n",
       "\n",
       "    .dataframe tbody tr th {\n",
       "        vertical-align: top;\n",
       "    }\n",
       "\n",
       "    .dataframe thead th {\n",
       "        text-align: right;\n",
       "    }\n",
       "</style>\n",
       "<table border=\"1\" class=\"dataframe\">\n",
       "  <thead>\n",
       "    <tr style=\"text-align: right;\">\n",
       "      <th></th>\n",
       "      <th>visitorid</th>\n",
       "      <th>normal</th>\n",
       "      <th>transact</th>\n",
       "    </tr>\n",
       "  </thead>\n",
       "  <tbody>\n",
       "    <tr>\n",
       "      <th>0</th>\n",
       "      <td>0</td>\n",
       "      <td>False</td>\n",
       "      <td>False</td>\n",
       "    </tr>\n",
       "    <tr>\n",
       "      <th>1</th>\n",
       "      <td>1</td>\n",
       "      <td>False</td>\n",
       "      <td>False</td>\n",
       "    </tr>\n",
       "    <tr>\n",
       "      <th>2</th>\n",
       "      <td>2</td>\n",
       "      <td>True</td>\n",
       "      <td>False</td>\n",
       "    </tr>\n",
       "    <tr>\n",
       "      <th>3</th>\n",
       "      <td>3</td>\n",
       "      <td>False</td>\n",
       "      <td>False</td>\n",
       "    </tr>\n",
       "    <tr>\n",
       "      <th>4</th>\n",
       "      <td>4</td>\n",
       "      <td>False</td>\n",
       "      <td>False</td>\n",
       "    </tr>\n",
       "  </tbody>\n",
       "</table>\n",
       "</div>"
      ],
      "text/plain": [
       "<div>\n",
       "<style scoped>\n",
       "    .dataframe tbody tr th:only-of-type {\n",
       "        vertical-align: middle;\n",
       "    }\n",
       "\n",
       "    .dataframe tbody tr th {\n",
       "        vertical-align: top;\n",
       "    }\n",
       "\n",
       "    .dataframe thead th {\n",
       "        text-align: right;\n",
       "    }\n",
       "</style>\n",
       "<table border=\"1\" class=\"dataframe\">\n",
       "  <thead>\n",
       "    <tr style=\"text-align: right;\">\n",
       "      <th></th>\n",
       "      <th>visitorid</th>\n",
       "      <th>normal</th>\n",
       "      <th>transact</th>\n",
       "    </tr>\n",
       "  </thead>\n",
       "  <tbody>\n",
       "    <tr>\n",
       "      <th>0</th>\n",
       "      <td>0</td>\n",
       "      <td>False</td>\n",
       "      <td>False</td>\n",
       "    </tr>\n",
       "    <tr>\n",
       "      <th>1</th>\n",
       "      <td>1</td>\n",
       "      <td>False</td>\n",
       "      <td>False</td>\n",
       "    </tr>\n",
       "    <tr>\n",
       "      <th>2</th>\n",
       "      <td>2</td>\n",
       "      <td>True</td>\n",
       "      <td>False</td>\n",
       "    </tr>\n",
       "    <tr>\n",
       "      <th>3</th>\n",
       "      <td>3</td>\n",
       "      <td>False</td>\n",
       "      <td>False</td>\n",
       "    </tr>\n",
       "    <tr>\n",
       "      <th>4</th>\n",
       "      <td>4</td>\n",
       "      <td>False</td>\n",
       "      <td>False</td>\n",
       "    </tr>\n",
       "  </tbody>\n",
       "</table>\n",
       "</div>"
      ]
     },
     "execution_count": 98,
     "metadata": {},
     "output_type": "execute_result"
    }
   ],
   "source": [
    "visitor_df.head()"
   ]
  },
  {
   "cell_type": "code",
   "execution_count": 99,
   "metadata": {},
   "outputs": [
    {
     "data": {
      "text/plain": [
       "False    270487\nTrue       6803\nName: transact, dtype: int64"
      ]
     },
     "execution_count": 99,
     "metadata": {},
     "output_type": "execute_result"
    }
   ],
   "source": [
    "visitor_df.loc[visitor_df['normal'], 'transact'].value_counts()"
   ]
  },
  {
   "cell_type": "code",
   "execution_count": 100,
   "metadata": {},
   "outputs": [
    {
     "data": {
      "text/plain": [
       "False    1119278\nTrue        2806\nName: transact, dtype: int64"
      ]
     },
     "execution_count": 100,
     "metadata": {},
     "output_type": "execute_result"
    }
   ],
   "source": [
    "visitor_df.loc[visitor_df['normal'].map(lambda x: not x), 'transact'].value_counts()"
   ]
  },
  {
   "cell_type": "code",
   "execution_count": 101,
   "metadata": {},
   "outputs": [
    {
     "name": "stdout",
     "output_type": "stream",
     "text": [
      "Conversion Rate for Normal Visitors = 2.453388 %\n"
     ]
    },
    {
     "name": "stdout",
     "output_type": "stream",
     "text": [
      "Conversion Rate for Abnormal Visitors = 0.250070 %\n"
     ]
    }
   ],
   "source": [
    "print('Conversion Rate for Normal Visitors = %f %%' %\n",
    "      (visitor_df.loc[visitor_df['normal'], 'transact'].value_counts()[True] / len(visitor_df.loc[visitor_df['normal'], :]) * 100))\n",
    "print('Conversion Rate for Abnormal Visitors = %f %%' %\n",
    "      (visitor_df.loc[visitor_df['normal'].map(lambda x: not x), 'transact'].value_counts()[True] /\n",
    "       len(visitor_df.loc[visitor_df['normal'].map(lambda x: not x), :]) * 100))\n"
   ]
  },
  {
   "cell_type": "markdown",
   "metadata": {},
   "source": [
    "## Save abnormal visitor data frame to file"
   ]
  },
  {
   "cell_type": "code",
   "execution_count": 102,
   "metadata": {},
   "outputs": [],
   "source": [
    "visitor_df.to_csv(os.path.join('data', 'visitor.csv'))"
   ]
  },
  {
   "cell_type": "code",
   "execution_count": null,
   "metadata": {},
   "outputs": [],
   "source": []
  }
 ],
 "metadata": {
  "kernelspec": {
   "display_name": "Python 2",
   "language": "python",
   "name": "python2"
  },
  "language_info": {
   "codemirror_mode": {
    "name": "ipython",
    "version": 2
   },
   "file_extension": ".py",
   "mimetype": "text/x-python",
   "name": "python",
   "nbconvert_exporter": "python",
   "pygments_lexer": "ipython2",
   "version": "2.7.6"
  }
 },
 "nbformat": 4,
 "nbformat_minor": 0
}
