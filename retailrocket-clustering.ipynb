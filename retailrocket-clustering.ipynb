{
 "cells": [
  {
   "cell_type": "markdown",
   "metadata": {
    "collapsed": true
   },
   "source": [
    "# EB5202 Web Analytics - Retail Rocket - Clustering"
   ]
  },
  {
   "cell_type": "markdown",
   "metadata": {},
   "source": [
    "## Load libraries"
   ]
  },
  {
   "cell_type": "code",
   "execution_count": 1,
   "metadata": {},
   "outputs": [],
   "source": [
    "import os\n",
    "import pandas as pd\n",
    "import random\n",
    "import pickle\n",
    "import datetime"
   ]
  },
  {
   "cell_type": "markdown",
   "metadata": {},
   "source": [
    "## Load data"
   ]
  },
  {
   "cell_type": "code",
   "execution_count": 2,
   "metadata": {},
   "outputs": [],
   "source": [
    "sessions_df = pd.read_pickle(os.path.join('data','sessions.pkl'))"
   ]
  },
  {
   "cell_type": "code",
   "execution_count": 3,
   "metadata": {},
   "outputs": [
    {
     "data": {
      "text/html": [
       "<div>\n",
       "<style scoped>\n",
       "    .dataframe tbody tr th:only-of-type {\n",
       "        vertical-align: middle;\n",
       "    }\n",
       "\n",
       "    .dataframe tbody tr th {\n",
       "        vertical-align: top;\n",
       "    }\n",
       "\n",
       "    .dataframe thead th {\n",
       "        text-align: right;\n",
       "    }\n",
       "</style>\n",
       "<table border=\"1\" class=\"dataframe\">\n",
       "  <thead>\n",
       "    <tr style=\"text-align: right;\">\n",
       "      <th></th>\n",
       "      <th>visitorid</th>\n",
       "      <th>startdate</th>\n",
       "      <th>enddate</th>\n",
       "      <th>addtocart</th>\n",
       "      <th>transaction</th>\n",
       "      <th>view</th>\n",
       "    </tr>\n",
       "  </thead>\n",
       "  <tbody>\n",
       "    <tr>\n",
       "      <th>0</th>\n",
       "      <td>0</td>\n",
       "      <td>2015-09-11 20:49:49.439</td>\n",
       "      <td>2015-09-11 20:55:17.175</td>\n",
       "      <td>[]</td>\n",
       "      <td>[]</td>\n",
       "      <td>[285930, 357564, 67045]</td>\n",
       "    </tr>\n",
       "    <tr>\n",
       "      <th>1</th>\n",
       "      <td>1</td>\n",
       "      <td>2015-08-13 17:46:06.444</td>\n",
       "      <td>2015-08-13 17:46:06.444</td>\n",
       "      <td>[]</td>\n",
       "      <td>[]</td>\n",
       "      <td>[72028]</td>\n",
       "    </tr>\n",
       "    <tr>\n",
       "      <th>2</th>\n",
       "      <td>2</td>\n",
       "      <td>2015-08-07 17:51:44.567</td>\n",
       "      <td>2015-08-07 18:20:57.845</td>\n",
       "      <td>[]</td>\n",
       "      <td>[]</td>\n",
       "      <td>[325215, 325215, 259884, 216305, 342816, 34281...</td>\n",
       "    </tr>\n",
       "    <tr>\n",
       "      <th>3</th>\n",
       "      <td>3</td>\n",
       "      <td>2015-08-01 07:10:35.296</td>\n",
       "      <td>2015-08-01 07:10:35.296</td>\n",
       "      <td>[]</td>\n",
       "      <td>[]</td>\n",
       "      <td>[385090]</td>\n",
       "    </tr>\n",
       "    <tr>\n",
       "      <th>4</th>\n",
       "      <td>4</td>\n",
       "      <td>2015-09-15 21:24:27.167</td>\n",
       "      <td>2015-09-15 21:24:27.167</td>\n",
       "      <td>[]</td>\n",
       "      <td>[]</td>\n",
       "      <td>[177677]</td>\n",
       "    </tr>\n",
       "  </tbody>\n",
       "</table>\n",
       "</div>"
      ],
      "text/plain": [
       "<div>\n",
       "<style scoped>\n",
       "    .dataframe tbody tr th:only-of-type {\n",
       "        vertical-align: middle;\n",
       "    }\n",
       "\n",
       "    .dataframe tbody tr th {\n",
       "        vertical-align: top;\n",
       "    }\n",
       "\n",
       "    .dataframe thead th {\n",
       "        text-align: right;\n",
       "    }\n",
       "</style>\n",
       "<table border=\"1\" class=\"dataframe\">\n",
       "  <thead>\n",
       "    <tr style=\"text-align: right;\">\n",
       "      <th></th>\n",
       "      <th>visitorid</th>\n",
       "      <th>startdate</th>\n",
       "      <th>enddate</th>\n",
       "      <th>addtocart</th>\n",
       "      <th>transaction</th>\n",
       "      <th>view</th>\n",
       "    </tr>\n",
       "  </thead>\n",
       "  <tbody>\n",
       "    <tr>\n",
       "      <th>0</th>\n",
       "      <td>0</td>\n",
       "      <td>2015-09-11 20:49:49.439</td>\n",
       "      <td>2015-09-11 20:55:17.175</td>\n",
       "      <td>[]</td>\n",
       "      <td>[]</td>\n",
       "      <td>[285930, 357564, 67045]</td>\n",
       "    </tr>\n",
       "    <tr>\n",
       "      <th>1</th>\n",
       "      <td>1</td>\n",
       "      <td>2015-08-13 17:46:06.444</td>\n",
       "      <td>2015-08-13 17:46:06.444</td>\n",
       "      <td>[]</td>\n",
       "      <td>[]</td>\n",
       "      <td>[72028]</td>\n",
       "    </tr>\n",
       "    <tr>\n",
       "      <th>2</th>\n",
       "      <td>2</td>\n",
       "      <td>2015-08-07 17:51:44.567</td>\n",
       "      <td>2015-08-07 18:20:57.845</td>\n",
       "      <td>[]</td>\n",
       "      <td>[]</td>\n",
       "      <td>[325215, 325215, 259884, 216305, 342816, 34281...</td>\n",
       "    </tr>\n",
       "    <tr>\n",
       "      <th>3</th>\n",
       "      <td>3</td>\n",
       "      <td>2015-08-01 07:10:35.296</td>\n",
       "      <td>2015-08-01 07:10:35.296</td>\n",
       "      <td>[]</td>\n",
       "      <td>[]</td>\n",
       "      <td>[385090]</td>\n",
       "    </tr>\n",
       "    <tr>\n",
       "      <th>4</th>\n",
       "      <td>4</td>\n",
       "      <td>2015-09-15 21:24:27.167</td>\n",
       "      <td>2015-09-15 21:24:27.167</td>\n",
       "      <td>[]</td>\n",
       "      <td>[]</td>\n",
       "      <td>[177677]</td>\n",
       "    </tr>\n",
       "  </tbody>\n",
       "</table>\n",
       "</div>"
      ]
     },
     "execution_count": 3,
     "metadata": {},
     "output_type": "execute_result"
    }
   ],
   "source": [
    "sessions_df.head()"
   ]
  },
  {
   "cell_type": "markdown",
   "metadata": {},
   "source": [
    "## Create features"
   ]
  },
  {
   "cell_type": "markdown",
   "metadata": {},
   "source": [
    "### Pages"
   ]
  },
  {
   "cell_type": "code",
   "execution_count": 5,
   "metadata": {},
   "outputs": [
    {
     "data": {
      "text/html": [
       "<div>\n",
       "<style scoped>\n",
       "    .dataframe tbody tr th:only-of-type {\n",
       "        vertical-align: middle;\n",
       "    }\n",
       "\n",
       "    .dataframe tbody tr th {\n",
       "        vertical-align: top;\n",
       "    }\n",
       "\n",
       "    .dataframe thead th {\n",
       "        text-align: right;\n",
       "    }\n",
       "</style>\n",
       "<table border=\"1\" class=\"dataframe\">\n",
       "  <thead>\n",
       "    <tr style=\"text-align: right;\">\n",
       "      <th></th>\n",
       "      <th>visitorid</th>\n",
       "      <th>startdate</th>\n",
       "      <th>enddate</th>\n",
       "      <th>addtocart</th>\n",
       "      <th>transaction</th>\n",
       "      <th>view</th>\n",
       "      <th>pages</th>\n",
       "    </tr>\n",
       "  </thead>\n",
       "  <tbody>\n",
       "    <tr>\n",
       "      <th>0</th>\n",
       "      <td>0</td>\n",
       "      <td>2015-09-11 20:49:49.439</td>\n",
       "      <td>2015-09-11 20:55:17.175</td>\n",
       "      <td>[]</td>\n",
       "      <td>[]</td>\n",
       "      <td>[285930, 357564, 67045]</td>\n",
       "      <td>3</td>\n",
       "    </tr>\n",
       "    <tr>\n",
       "      <th>1</th>\n",
       "      <td>1</td>\n",
       "      <td>2015-08-13 17:46:06.444</td>\n",
       "      <td>2015-08-13 17:46:06.444</td>\n",
       "      <td>[]</td>\n",
       "      <td>[]</td>\n",
       "      <td>[72028]</td>\n",
       "      <td>1</td>\n",
       "    </tr>\n",
       "    <tr>\n",
       "      <th>2</th>\n",
       "      <td>2</td>\n",
       "      <td>2015-08-07 17:51:44.567</td>\n",
       "      <td>2015-08-07 18:20:57.845</td>\n",
       "      <td>[]</td>\n",
       "      <td>[]</td>\n",
       "      <td>[325215, 325215, 259884, 216305, 342816, 34281...</td>\n",
       "      <td>8</td>\n",
       "    </tr>\n",
       "    <tr>\n",
       "      <th>3</th>\n",
       "      <td>3</td>\n",
       "      <td>2015-08-01 07:10:35.296</td>\n",
       "      <td>2015-08-01 07:10:35.296</td>\n",
       "      <td>[]</td>\n",
       "      <td>[]</td>\n",
       "      <td>[385090]</td>\n",
       "      <td>1</td>\n",
       "    </tr>\n",
       "    <tr>\n",
       "      <th>4</th>\n",
       "      <td>4</td>\n",
       "      <td>2015-09-15 21:24:27.167</td>\n",
       "      <td>2015-09-15 21:24:27.167</td>\n",
       "      <td>[]</td>\n",
       "      <td>[]</td>\n",
       "      <td>[177677]</td>\n",
       "      <td>1</td>\n",
       "    </tr>\n",
       "  </tbody>\n",
       "</table>\n",
       "</div>"
      ],
      "text/plain": [
       "<div>\n",
       "<style scoped>\n",
       "    .dataframe tbody tr th:only-of-type {\n",
       "        vertical-align: middle;\n",
       "    }\n",
       "\n",
       "    .dataframe tbody tr th {\n",
       "        vertical-align: top;\n",
       "    }\n",
       "\n",
       "    .dataframe thead th {\n",
       "        text-align: right;\n",
       "    }\n",
       "</style>\n",
       "<table border=\"1\" class=\"dataframe\">\n",
       "  <thead>\n",
       "    <tr style=\"text-align: right;\">\n",
       "      <th></th>\n",
       "      <th>visitorid</th>\n",
       "      <th>startdate</th>\n",
       "      <th>enddate</th>\n",
       "      <th>addtocart</th>\n",
       "      <th>transaction</th>\n",
       "      <th>view</th>\n",
       "      <th>pages</th>\n",
       "    </tr>\n",
       "  </thead>\n",
       "  <tbody>\n",
       "    <tr>\n",
       "      <th>0</th>\n",
       "      <td>0</td>\n",
       "      <td>2015-09-11 20:49:49.439</td>\n",
       "      <td>2015-09-11 20:55:17.175</td>\n",
       "      <td>[]</td>\n",
       "      <td>[]</td>\n",
       "      <td>[285930, 357564, 67045]</td>\n",
       "      <td>3</td>\n",
       "    </tr>\n",
       "    <tr>\n",
       "      <th>1</th>\n",
       "      <td>1</td>\n",
       "      <td>2015-08-13 17:46:06.444</td>\n",
       "      <td>2015-08-13 17:46:06.444</td>\n",
       "      <td>[]</td>\n",
       "      <td>[]</td>\n",
       "      <td>[72028]</td>\n",
       "      <td>1</td>\n",
       "    </tr>\n",
       "    <tr>\n",
       "      <th>2</th>\n",
       "      <td>2</td>\n",
       "      <td>2015-08-07 17:51:44.567</td>\n",
       "      <td>2015-08-07 18:20:57.845</td>\n",
       "      <td>[]</td>\n",
       "      <td>[]</td>\n",
       "      <td>[325215, 325215, 259884, 216305, 342816, 34281...</td>\n",
       "      <td>8</td>\n",
       "    </tr>\n",
       "    <tr>\n",
       "      <th>3</th>\n",
       "      <td>3</td>\n",
       "      <td>2015-08-01 07:10:35.296</td>\n",
       "      <td>2015-08-01 07:10:35.296</td>\n",
       "      <td>[]</td>\n",
       "      <td>[]</td>\n",
       "      <td>[385090]</td>\n",
       "      <td>1</td>\n",
       "    </tr>\n",
       "    <tr>\n",
       "      <th>4</th>\n",
       "      <td>4</td>\n",
       "      <td>2015-09-15 21:24:27.167</td>\n",
       "      <td>2015-09-15 21:24:27.167</td>\n",
       "      <td>[]</td>\n",
       "      <td>[]</td>\n",
       "      <td>[177677]</td>\n",
       "      <td>1</td>\n",
       "    </tr>\n",
       "  </tbody>\n",
       "</table>\n",
       "</div>"
      ]
     },
     "execution_count": 5,
     "metadata": {},
     "output_type": "execute_result"
    }
   ],
   "source": [
    "sessions_df['pages'] = sessions_df['view'].apply(lambda x: len(x))\n",
    "sessions_df.head()"
   ]
  },
  {
   "cell_type": "code",
   "execution_count": 11,
   "metadata": {},
   "outputs": [
    {
     "data": {
      "text/plain": [
       "numpy.timedelta64(109245333333,'ns')"
      ]
     },
     "execution_count": 11,
     "metadata": {},
     "output_type": "execute_result"
    }
   ],
   "source": [
    "(sessions_df.loc[0, 'enddate'] - sessions_df.loc[0, 'startdate']) / sessions_df.loc[0, 'pages']"
   ]
  },
  {
   "cell_type": "code",
   "execution_count": 19,
   "metadata": {},
   "outputs": [
    {
     "data": {
      "text/plain": [
       "count    1.786340e+06\nmean     1.491492e+00\nstd      1.591950e+00\nmin      0.000000e+00\n25%      1.000000e+00\n50%      1.000000e+00\n75%      1.000000e+00\nmax      1.900000e+02\nName: pages, dtype: float64"
      ]
     },
     "execution_count": 19,
     "metadata": {},
     "output_type": "execute_result"
    }
   ],
   "source": [
    "sessions_df['pages'].describe()"
   ]
  },
  {
   "cell_type": "code",
   "execution_count": 20,
   "metadata": {},
   "outputs": [
    {
     "data": {
      "text/html": [
       "<div>\n",
       "<style scoped>\n",
       "    .dataframe tbody tr th:only-of-type {\n",
       "        vertical-align: middle;\n",
       "    }\n",
       "\n",
       "    .dataframe tbody tr th {\n",
       "        vertical-align: top;\n",
       "    }\n",
       "\n",
       "    .dataframe thead th {\n",
       "        text-align: right;\n",
       "    }\n",
       "</style>\n",
       "<table border=\"1\" class=\"dataframe\">\n",
       "  <thead>\n",
       "    <tr style=\"text-align: right;\">\n",
       "      <th></th>\n",
       "      <th>visitorid</th>\n",
       "      <th>startdate</th>\n",
       "      <th>enddate</th>\n",
       "      <th>addtocart</th>\n",
       "      <th>transaction</th>\n",
       "      <th>view</th>\n",
       "      <th>pages</th>\n",
       "    </tr>\n",
       "  </thead>\n",
       "  <tbody>\n",
       "    <tr>\n",
       "      <th>6</th>\n",
       "      <td>6</td>\n",
       "      <td>2015-08-30 06:03:48.202</td>\n",
       "      <td>2015-08-30 06:03:48.202</td>\n",
       "      <td>[65273]</td>\n",
       "      <td>[]</td>\n",
       "      <td>[]</td>\n",
       "      <td>0</td>\n",
       "    </tr>\n",
       "    <tr>\n",
       "      <th>211</th>\n",
       "      <td>155</td>\n",
       "      <td>2015-09-11 06:12:12.678</td>\n",
       "      <td>2015-09-11 06:19:00.395</td>\n",
       "      <td>[368372, 452082, 181405, 41882, 442601, 224623]</td>\n",
       "      <td>[]</td>\n",
       "      <td>[]</td>\n",
       "      <td>0</td>\n",
       "    </tr>\n",
       "    <tr>\n",
       "      <th>212</th>\n",
       "      <td>155</td>\n",
       "      <td>2015-09-12 04:38:00.026</td>\n",
       "      <td>2015-09-11 06:19:00.395</td>\n",
       "      <td>[389974]</td>\n",
       "      <td>[]</td>\n",
       "      <td>[]</td>\n",
       "      <td>0</td>\n",
       "    </tr>\n",
       "    <tr>\n",
       "      <th>256</th>\n",
       "      <td>186</td>\n",
       "      <td>2015-08-12 16:28:16.523</td>\n",
       "      <td>2015-08-12 16:34:57.040</td>\n",
       "      <td>[49029]</td>\n",
       "      <td>[49029]</td>\n",
       "      <td>[]</td>\n",
       "      <td>0</td>\n",
       "    </tr>\n",
       "    <tr>\n",
       "      <th>527</th>\n",
       "      <td>419</td>\n",
       "      <td>2015-07-29 05:03:12.695</td>\n",
       "      <td>2015-07-29 04:03:49.136</td>\n",
       "      <td>[]</td>\n",
       "      <td>[19278]</td>\n",
       "      <td>[]</td>\n",
       "      <td>0</td>\n",
       "    </tr>\n",
       "  </tbody>\n",
       "</table>\n",
       "</div>"
      ],
      "text/plain": [
       "<div>\n",
       "<style scoped>\n",
       "    .dataframe tbody tr th:only-of-type {\n",
       "        vertical-align: middle;\n",
       "    }\n",
       "\n",
       "    .dataframe tbody tr th {\n",
       "        vertical-align: top;\n",
       "    }\n",
       "\n",
       "    .dataframe thead th {\n",
       "        text-align: right;\n",
       "    }\n",
       "</style>\n",
       "<table border=\"1\" class=\"dataframe\">\n",
       "  <thead>\n",
       "    <tr style=\"text-align: right;\">\n",
       "      <th></th>\n",
       "      <th>visitorid</th>\n",
       "      <th>startdate</th>\n",
       "      <th>enddate</th>\n",
       "      <th>addtocart</th>\n",
       "      <th>transaction</th>\n",
       "      <th>view</th>\n",
       "      <th>pages</th>\n",
       "    </tr>\n",
       "  </thead>\n",
       "  <tbody>\n",
       "    <tr>\n",
       "      <th>6</th>\n",
       "      <td>6</td>\n",
       "      <td>2015-08-30 06:03:48.202</td>\n",
       "      <td>2015-08-30 06:03:48.202</td>\n",
       "      <td>[65273]</td>\n",
       "      <td>[]</td>\n",
       "      <td>[]</td>\n",
       "      <td>0</td>\n",
       "    </tr>\n",
       "    <tr>\n",
       "      <th>211</th>\n",
       "      <td>155</td>\n",
       "      <td>2015-09-11 06:12:12.678</td>\n",
       "      <td>2015-09-11 06:19:00.395</td>\n",
       "      <td>[368372, 452082, 181405, 41882, 442601, 224623]</td>\n",
       "      <td>[]</td>\n",
       "      <td>[]</td>\n",
       "      <td>0</td>\n",
       "    </tr>\n",
       "    <tr>\n",
       "      <th>212</th>\n",
       "      <td>155</td>\n",
       "      <td>2015-09-12 04:38:00.026</td>\n",
       "      <td>2015-09-11 06:19:00.395</td>\n",
       "      <td>[389974]</td>\n",
       "      <td>[]</td>\n",
       "      <td>[]</td>\n",
       "      <td>0</td>\n",
       "    </tr>\n",
       "    <tr>\n",
       "      <th>256</th>\n",
       "      <td>186</td>\n",
       "      <td>2015-08-12 16:28:16.523</td>\n",
       "      <td>2015-08-12 16:34:57.040</td>\n",
       "      <td>[49029]</td>\n",
       "      <td>[49029]</td>\n",
       "      <td>[]</td>\n",
       "      <td>0</td>\n",
       "    </tr>\n",
       "    <tr>\n",
       "      <th>527</th>\n",
       "      <td>419</td>\n",
       "      <td>2015-07-29 05:03:12.695</td>\n",
       "      <td>2015-07-29 04:03:49.136</td>\n",
       "      <td>[]</td>\n",
       "      <td>[19278]</td>\n",
       "      <td>[]</td>\n",
       "      <td>0</td>\n",
       "    </tr>\n",
       "  </tbody>\n",
       "</table>\n",
       "</div>"
      ]
     },
     "execution_count": 20,
     "metadata": {},
     "output_type": "execute_result"
    }
   ],
   "source": [
    "sessions_df.loc[sessions_df['pages'] == 0].head()"
   ]
  },
  {
   "cell_type": "markdown",
   "metadata": {},
   "source": [
    "### Pagetime"
   ]
  },
  {
   "cell_type": "code",
   "execution_count": 35,
   "metadata": {},
   "outputs": [],
   "source": [
    "pages_more_than1 = sessions_df['pages'] > 1    "
   ]
  },
  {
   "cell_type": "code",
   "execution_count": 36,
   "metadata": {},
   "outputs": [],
   "source": [
    "sessions_df.loc[pages_more_than1, 'pagetime'] = (sessions_df.loc[pages_more_than1, 'enddate'] - sessions_df.loc[pages_more_than1, 'startdate']) /\\\n",
    "                                                (sessions_df.loc[pages_more_than1, 'pages'] - 1)"
   ]
  },
  {
   "cell_type": "code",
   "execution_count": 37,
   "metadata": {},
   "outputs": [],
   "source": [
    "pages_less_than1 = pages_more_than1.apply(lambda x: not x)"
   ]
  },
  {
   "cell_type": "code",
   "execution_count": 38,
   "metadata": {},
   "outputs": [],
   "source": [
    "sessions_df.loc[pages_less_than1, 'pagetime'] = pd.Timedelta(0)"
   ]
  },
  {
   "cell_type": "code",
   "execution_count": 39,
   "metadata": {},
   "outputs": [
    {
     "name": "stdout",
     "output_type": "stream",
     "text": [
      "<class 'pandas.core.frame.DataFrame'>\nRangeIndex: 1786340 entries, 0 to 1786339\nData columns (total 1 columns):\npagetime    1786340 non-null timedelta64[ns]\ndtypes: timedelta64[ns](1)\nmemory usage: 13.6 MB\n"
     ]
    }
   ],
   "source": [
    "sessions_df['pagetime'].to_frame().info(null_counts=True)"
   ]
  },
  {
   "cell_type": "code",
   "execution_count": 40,
   "metadata": {},
   "outputs": [
    {
     "data": {
      "text/html": [
       "<div>\n",
       "<style scoped>\n",
       "    .dataframe tbody tr th:only-of-type {\n",
       "        vertical-align: middle;\n",
       "    }\n",
       "\n",
       "    .dataframe tbody tr th {\n",
       "        vertical-align: top;\n",
       "    }\n",
       "\n",
       "    .dataframe thead th {\n",
       "        text-align: right;\n",
       "    }\n",
       "</style>\n",
       "<table border=\"1\" class=\"dataframe\">\n",
       "  <thead>\n",
       "    <tr style=\"text-align: right;\">\n",
       "      <th></th>\n",
       "      <th>visitorid</th>\n",
       "      <th>startdate</th>\n",
       "      <th>enddate</th>\n",
       "      <th>addtocart</th>\n",
       "      <th>transaction</th>\n",
       "      <th>view</th>\n",
       "      <th>pages</th>\n",
       "      <th>pagetime</th>\n",
       "    </tr>\n",
       "  </thead>\n",
       "  <tbody>\n",
       "    <tr>\n",
       "      <th>0</th>\n",
       "      <td>0</td>\n",
       "      <td>2015-09-11 20:49:49.439</td>\n",
       "      <td>2015-09-11 20:55:17.175</td>\n",
       "      <td>[]</td>\n",
       "      <td>[]</td>\n",
       "      <td>[285930, 357564, 67045]</td>\n",
       "      <td>3</td>\n",
       "      <td>00:02:43.868000</td>\n",
       "    </tr>\n",
       "    <tr>\n",
       "      <th>1</th>\n",
       "      <td>1</td>\n",
       "      <td>2015-08-13 17:46:06.444</td>\n",
       "      <td>2015-08-13 17:46:06.444</td>\n",
       "      <td>[]</td>\n",
       "      <td>[]</td>\n",
       "      <td>[72028]</td>\n",
       "      <td>1</td>\n",
       "      <td>00:00:00</td>\n",
       "    </tr>\n",
       "    <tr>\n",
       "      <th>2</th>\n",
       "      <td>2</td>\n",
       "      <td>2015-08-07 17:51:44.567</td>\n",
       "      <td>2015-08-07 18:20:57.845</td>\n",
       "      <td>[]</td>\n",
       "      <td>[]</td>\n",
       "      <td>[325215, 325215, 259884, 216305, 342816, 34281...</td>\n",
       "      <td>8</td>\n",
       "      <td>00:04:10.468285</td>\n",
       "    </tr>\n",
       "    <tr>\n",
       "      <th>3</th>\n",
       "      <td>3</td>\n",
       "      <td>2015-08-01 07:10:35.296</td>\n",
       "      <td>2015-08-01 07:10:35.296</td>\n",
       "      <td>[]</td>\n",
       "      <td>[]</td>\n",
       "      <td>[385090]</td>\n",
       "      <td>1</td>\n",
       "      <td>00:00:00</td>\n",
       "    </tr>\n",
       "    <tr>\n",
       "      <th>4</th>\n",
       "      <td>4</td>\n",
       "      <td>2015-09-15 21:24:27.167</td>\n",
       "      <td>2015-09-15 21:24:27.167</td>\n",
       "      <td>[]</td>\n",
       "      <td>[]</td>\n",
       "      <td>[177677]</td>\n",
       "      <td>1</td>\n",
       "      <td>00:00:00</td>\n",
       "    </tr>\n",
       "  </tbody>\n",
       "</table>\n",
       "</div>"
      ],
      "text/plain": [
       "<div>\n",
       "<style scoped>\n",
       "    .dataframe tbody tr th:only-of-type {\n",
       "        vertical-align: middle;\n",
       "    }\n",
       "\n",
       "    .dataframe tbody tr th {\n",
       "        vertical-align: top;\n",
       "    }\n",
       "\n",
       "    .dataframe thead th {\n",
       "        text-align: right;\n",
       "    }\n",
       "</style>\n",
       "<table border=\"1\" class=\"dataframe\">\n",
       "  <thead>\n",
       "    <tr style=\"text-align: right;\">\n",
       "      <th></th>\n",
       "      <th>visitorid</th>\n",
       "      <th>startdate</th>\n",
       "      <th>enddate</th>\n",
       "      <th>addtocart</th>\n",
       "      <th>transaction</th>\n",
       "      <th>view</th>\n",
       "      <th>pages</th>\n",
       "      <th>pagetime</th>\n",
       "    </tr>\n",
       "  </thead>\n",
       "  <tbody>\n",
       "    <tr>\n",
       "      <th>0</th>\n",
       "      <td>0</td>\n",
       "      <td>2015-09-11 20:49:49.439</td>\n",
       "      <td>2015-09-11 20:55:17.175</td>\n",
       "      <td>[]</td>\n",
       "      <td>[]</td>\n",
       "      <td>[285930, 357564, 67045]</td>\n",
       "      <td>3</td>\n",
       "      <td>00:02:43.868000</td>\n",
       "    </tr>\n",
       "    <tr>\n",
       "      <th>1</th>\n",
       "      <td>1</td>\n",
       "      <td>2015-08-13 17:46:06.444</td>\n",
       "      <td>2015-08-13 17:46:06.444</td>\n",
       "      <td>[]</td>\n",
       "      <td>[]</td>\n",
       "      <td>[72028]</td>\n",
       "      <td>1</td>\n",
       "      <td>00:00:00</td>\n",
       "    </tr>\n",
       "    <tr>\n",
       "      <th>2</th>\n",
       "      <td>2</td>\n",
       "      <td>2015-08-07 17:51:44.567</td>\n",
       "      <td>2015-08-07 18:20:57.845</td>\n",
       "      <td>[]</td>\n",
       "      <td>[]</td>\n",
       "      <td>[325215, 325215, 259884, 216305, 342816, 34281...</td>\n",
       "      <td>8</td>\n",
       "      <td>00:04:10.468285</td>\n",
       "    </tr>\n",
       "    <tr>\n",
       "      <th>3</th>\n",
       "      <td>3</td>\n",
       "      <td>2015-08-01 07:10:35.296</td>\n",
       "      <td>2015-08-01 07:10:35.296</td>\n",
       "      <td>[]</td>\n",
       "      <td>[]</td>\n",
       "      <td>[385090]</td>\n",
       "      <td>1</td>\n",
       "      <td>00:00:00</td>\n",
       "    </tr>\n",
       "    <tr>\n",
       "      <th>4</th>\n",
       "      <td>4</td>\n",
       "      <td>2015-09-15 21:24:27.167</td>\n",
       "      <td>2015-09-15 21:24:27.167</td>\n",
       "      <td>[]</td>\n",
       "      <td>[]</td>\n",
       "      <td>[177677]</td>\n",
       "      <td>1</td>\n",
       "      <td>00:00:00</td>\n",
       "    </tr>\n",
       "  </tbody>\n",
       "</table>\n",
       "</div>"
      ]
     },
     "execution_count": 40,
     "metadata": {},
     "output_type": "execute_result"
    }
   ],
   "source": [
    "sessions_df.head()"
   ]
  },
  {
   "cell_type": "markdown",
   "metadata": {},
   "source": [
    "### Diffcat"
   ]
  },
  {
   "cell_type": "code",
   "execution_count": 41,
   "metadata": {},
   "outputs": [],
   "source": [
    "infile = open(os.path.join('data', 'itemtocat.pkl'), 'rb')\n",
    "itemtocat_dict = pickle.load(infile)\n",
    "infile.close()"
   ]
  },
  {
   "cell_type": "code",
   "execution_count": 69,
   "metadata": {},
   "outputs": [
    {
     "ename": "KeyError",
     "evalue": "177677",
     "traceback": [
      "\u001b[0;31m---------------------------------------------------------------------------\u001b[0m",
      "\u001b[0;31mKeyError\u001b[0m                                  Traceback (most recent call last)",
      "\u001b[0;32m<ipython-input-69-53fad9224d4d>\u001b[0m in \u001b[0;36m<module>\u001b[0;34m()\u001b[0m\n\u001b[0;32m----> 1\u001b[0;31m \u001b[0mitemtocat_dict\u001b[0m\u001b[0;34m[\u001b[0m\u001b[0;36m177677\u001b[0m\u001b[0;34m]\u001b[0m\u001b[0;34m\u001b[0m\u001b[0m\n\u001b[0m",
      "\u001b[0;31mKeyError\u001b[0m: 177677"
     ],
     "output_type": "error"
    }
   ],
   "source": [
    "itemtocat_dict[177677]"
   ]
  },
  {
   "cell_type": "code",
   "execution_count": 52,
   "metadata": {},
   "outputs": [
    {
     "data": {
      "text/plain": [
       "285930"
      ]
     },
     "execution_count": 52,
     "metadata": {},
     "output_type": "execute_result"
    }
   ],
   "source": [
    "sessions_df['view'][0][0]"
   ]
  },
  {
   "cell_type": "code",
   "execution_count": 53,
   "metadata": {},
   "outputs": [
    {
     "data": {
      "text/plain": [
       "[(Timestamp('2015-05-17 03:00:00'), '1188')]"
      ]
     },
     "execution_count": 53,
     "metadata": {},
     "output_type": "execute_result"
    }
   ],
   "source": [
    "itemtocat_dict[sessions_df['view'][0][0]]"
   ]
  },
  {
   "cell_type": "code",
   "execution_count": 71,
   "metadata": {},
   "outputs": [],
   "source": [
    "def to_categoryid(itemid, enddate):\n",
    "    catid = ''\n",
    "    \n",
    "    for time, cat in itemtocat_dict.get(itemid, []):\n",
    "        if enddate <= time:\n",
    "            catid = cat\n",
    "            break\n",
    "    if not catid:\n",
    "        if itemtocat_dict.get(itemid, []):  # enddate did not match\n",
    "            catid = itemtocat_dict[itemid][-1][1]  # set categiryid to last value\n",
    "        else:\n",
    "            catid = str(itemid) + '_no_cat_id'  # itemid not in dictionary\n",
    "    return catid"
   ]
  },
  {
   "cell_type": "code",
   "execution_count": 72,
   "metadata": {},
   "outputs": [
    {
     "data": {
      "text/plain": [
       "{'1188', '256', '333'}"
      ]
     },
     "execution_count": 72,
     "metadata": {},
     "output_type": "execute_result"
    }
   ],
   "source": [
    "{ to_categoryid(i, sessions_df['enddate'][0]) for i in sessions_df['view'][0] }"
   ]
  },
  {
   "cell_type": "code",
   "execution_count": 74,
   "metadata": {},
   "outputs": [],
   "source": [
    "sessions_df['diffcat'] = sessions_df.loc[:, ['enddate', 'view']].apply(\n",
    "    lambda x: len({ to_categoryid(i, x['enddate']) for i in x['view'] }) / len(x['view']) if x['view'] else 0, axis=1)\n",
    "#sessions_df['diffcat'] = sessions_df.loc[:, ['enddate', 'view']].apply(lambda x: (x.view), axis=1)\n",
    "#sessions_df.loc[[0, 1, 2], ['enddate', 'view']].apply(lambda x: print(x['view']), axis=1)"
   ]
  },
  {
   "cell_type": "code",
   "execution_count": 75,
   "metadata": {},
   "outputs": [
    {
     "data": {
      "text/html": [
       "<div>\n",
       "<style scoped>\n",
       "    .dataframe tbody tr th:only-of-type {\n",
       "        vertical-align: middle;\n",
       "    }\n",
       "\n",
       "    .dataframe tbody tr th {\n",
       "        vertical-align: top;\n",
       "    }\n",
       "\n",
       "    .dataframe thead th {\n",
       "        text-align: right;\n",
       "    }\n",
       "</style>\n",
       "<table border=\"1\" class=\"dataframe\">\n",
       "  <thead>\n",
       "    <tr style=\"text-align: right;\">\n",
       "      <th></th>\n",
       "      <th>visitorid</th>\n",
       "      <th>startdate</th>\n",
       "      <th>enddate</th>\n",
       "      <th>addtocart</th>\n",
       "      <th>transaction</th>\n",
       "      <th>view</th>\n",
       "      <th>pages</th>\n",
       "      <th>pagetime</th>\n",
       "      <th>diffcat</th>\n",
       "    </tr>\n",
       "  </thead>\n",
       "  <tbody>\n",
       "    <tr>\n",
       "      <th>0</th>\n",
       "      <td>0</td>\n",
       "      <td>2015-09-11 20:49:49.439</td>\n",
       "      <td>2015-09-11 20:55:17.175</td>\n",
       "      <td>[]</td>\n",
       "      <td>[]</td>\n",
       "      <td>[285930, 357564, 67045]</td>\n",
       "      <td>3</td>\n",
       "      <td>00:02:43.868000</td>\n",
       "      <td>1.00</td>\n",
       "    </tr>\n",
       "    <tr>\n",
       "      <th>1</th>\n",
       "      <td>1</td>\n",
       "      <td>2015-08-13 17:46:06.444</td>\n",
       "      <td>2015-08-13 17:46:06.444</td>\n",
       "      <td>[]</td>\n",
       "      <td>[]</td>\n",
       "      <td>[72028]</td>\n",
       "      <td>1</td>\n",
       "      <td>00:00:00</td>\n",
       "      <td>1.00</td>\n",
       "    </tr>\n",
       "    <tr>\n",
       "      <th>2</th>\n",
       "      <td>2</td>\n",
       "      <td>2015-08-07 17:51:44.567</td>\n",
       "      <td>2015-08-07 18:20:57.845</td>\n",
       "      <td>[]</td>\n",
       "      <td>[]</td>\n",
       "      <td>[325215, 325215, 259884, 216305, 342816, 34281...</td>\n",
       "      <td>8</td>\n",
       "      <td>00:04:10.468285</td>\n",
       "      <td>0.25</td>\n",
       "    </tr>\n",
       "    <tr>\n",
       "      <th>3</th>\n",
       "      <td>3</td>\n",
       "      <td>2015-08-01 07:10:35.296</td>\n",
       "      <td>2015-08-01 07:10:35.296</td>\n",
       "      <td>[]</td>\n",
       "      <td>[]</td>\n",
       "      <td>[385090]</td>\n",
       "      <td>1</td>\n",
       "      <td>00:00:00</td>\n",
       "      <td>1.00</td>\n",
       "    </tr>\n",
       "    <tr>\n",
       "      <th>4</th>\n",
       "      <td>4</td>\n",
       "      <td>2015-09-15 21:24:27.167</td>\n",
       "      <td>2015-09-15 21:24:27.167</td>\n",
       "      <td>[]</td>\n",
       "      <td>[]</td>\n",
       "      <td>[177677]</td>\n",
       "      <td>1</td>\n",
       "      <td>00:00:00</td>\n",
       "      <td>1.00</td>\n",
       "    </tr>\n",
       "  </tbody>\n",
       "</table>\n",
       "</div>"
      ],
      "text/plain": [
       "<div>\n",
       "<style scoped>\n",
       "    .dataframe tbody tr th:only-of-type {\n",
       "        vertical-align: middle;\n",
       "    }\n",
       "\n",
       "    .dataframe tbody tr th {\n",
       "        vertical-align: top;\n",
       "    }\n",
       "\n",
       "    .dataframe thead th {\n",
       "        text-align: right;\n",
       "    }\n",
       "</style>\n",
       "<table border=\"1\" class=\"dataframe\">\n",
       "  <thead>\n",
       "    <tr style=\"text-align: right;\">\n",
       "      <th></th>\n",
       "      <th>visitorid</th>\n",
       "      <th>startdate</th>\n",
       "      <th>enddate</th>\n",
       "      <th>addtocart</th>\n",
       "      <th>transaction</th>\n",
       "      <th>view</th>\n",
       "      <th>pages</th>\n",
       "      <th>pagetime</th>\n",
       "      <th>diffcat</th>\n",
       "    </tr>\n",
       "  </thead>\n",
       "  <tbody>\n",
       "    <tr>\n",
       "      <th>0</th>\n",
       "      <td>0</td>\n",
       "      <td>2015-09-11 20:49:49.439</td>\n",
       "      <td>2015-09-11 20:55:17.175</td>\n",
       "      <td>[]</td>\n",
       "      <td>[]</td>\n",
       "      <td>[285930, 357564, 67045]</td>\n",
       "      <td>3</td>\n",
       "      <td>00:02:43.868000</td>\n",
       "      <td>1.00</td>\n",
       "    </tr>\n",
       "    <tr>\n",
       "      <th>1</th>\n",
       "      <td>1</td>\n",
       "      <td>2015-08-13 17:46:06.444</td>\n",
       "      <td>2015-08-13 17:46:06.444</td>\n",
       "      <td>[]</td>\n",
       "      <td>[]</td>\n",
       "      <td>[72028]</td>\n",
       "      <td>1</td>\n",
       "      <td>00:00:00</td>\n",
       "      <td>1.00</td>\n",
       "    </tr>\n",
       "    <tr>\n",
       "      <th>2</th>\n",
       "      <td>2</td>\n",
       "      <td>2015-08-07 17:51:44.567</td>\n",
       "      <td>2015-08-07 18:20:57.845</td>\n",
       "      <td>[]</td>\n",
       "      <td>[]</td>\n",
       "      <td>[325215, 325215, 259884, 216305, 342816, 34281...</td>\n",
       "      <td>8</td>\n",
       "      <td>00:04:10.468285</td>\n",
       "      <td>0.25</td>\n",
       "    </tr>\n",
       "    <tr>\n",
       "      <th>3</th>\n",
       "      <td>3</td>\n",
       "      <td>2015-08-01 07:10:35.296</td>\n",
       "      <td>2015-08-01 07:10:35.296</td>\n",
       "      <td>[]</td>\n",
       "      <td>[]</td>\n",
       "      <td>[385090]</td>\n",
       "      <td>1</td>\n",
       "      <td>00:00:00</td>\n",
       "      <td>1.00</td>\n",
       "    </tr>\n",
       "    <tr>\n",
       "      <th>4</th>\n",
       "      <td>4</td>\n",
       "      <td>2015-09-15 21:24:27.167</td>\n",
       "      <td>2015-09-15 21:24:27.167</td>\n",
       "      <td>[]</td>\n",
       "      <td>[]</td>\n",
       "      <td>[177677]</td>\n",
       "      <td>1</td>\n",
       "      <td>00:00:00</td>\n",
       "      <td>1.00</td>\n",
       "    </tr>\n",
       "  </tbody>\n",
       "</table>\n",
       "</div>"
      ]
     },
     "execution_count": 75,
     "metadata": {},
     "output_type": "execute_result"
    }
   ],
   "source": [
    "sessions_df.head()"
   ]
  },
  {
   "cell_type": "code",
   "execution_count": 76,
   "metadata": {},
   "outputs": [
    {
     "data": {
      "text/plain": [
       "{'299', '444'}"
      ]
     },
     "execution_count": 76,
     "metadata": {},
     "output_type": "execute_result"
    }
   ],
   "source": [
    "{ to_categoryid(i, sessions_df['enddate'][2]) for i in sessions_df['view'][2] }"
   ]
  },
  {
   "cell_type": "code",
   "execution_count": 78,
   "metadata": {},
   "outputs": [
    {
     "name": "stdout",
     "output_type": "stream",
     "text": [
      "[(Timestamp('2015-06-28 03:00:00'), '299')]\n[(Timestamp('2015-06-28 03:00:00'), '299')]\n[(Timestamp('2015-05-24 03:00:00'), '299')]\n[(Timestamp('2015-05-31 03:00:00'), '299')]\n[(Timestamp('2015-05-10 03:00:00'), '444')]\n[(Timestamp('2015-05-10 03:00:00'), '444')]\n[(Timestamp('2015-05-31 03:00:00'), '299')]\n[(Timestamp('2015-06-28 03:00:00'), '299')]\n"
     ]
    }
   ],
   "source": [
    "for i in sessions_df['view'][2]:\n",
    "    print(itemtocat_dict[i])"
   ]
  },
  {
   "cell_type": "code",
   "execution_count": 79,
   "metadata": {},
   "outputs": [
    {
     "name": "stdout",
     "output_type": "stream",
     "text": [
      "<class 'pandas.core.frame.DataFrame'>\nRangeIndex: 1786340 entries, 0 to 1786339\nData columns (total 1 columns):\ndiffcat    1786340 non-null float64\ndtypes: float64(1)\nmemory usage: 13.6 MB\n"
     ]
    }
   ],
   "source": [
    "sessions_df['diffcat'].to_frame().info(null_counts=True)"
   ]
  },
  {
   "cell_type": "code",
   "execution_count": 80,
   "metadata": {},
   "outputs": [
    {
     "data": {
      "text/plain": [
       "count    1.786340e+06\nmean     8.866262e-01\nstd      2.385307e-01\nmin      0.000000e+00\n25%      1.000000e+00\n50%      1.000000e+00\n75%      1.000000e+00\nmax      1.000000e+00\nName: diffcat, dtype: float64"
      ]
     },
     "execution_count": 80,
     "metadata": {},
     "output_type": "execute_result"
    }
   ],
   "source": [
    "sessions_df['diffcat'].describe()"
   ]
  },
  {
   "cell_type": "code",
   "execution_count": null,
   "metadata": {},
   "outputs": [],
   "source": [
    "sessions_df.to_pickle(os.path.join('data', 'sessions_temp.pkl'))"
   ]
  },
  {
   "cell_type": "markdown",
   "metadata": {},
   "source": [
    "## Split data into train / test dataset"
   ]
  },
  {
   "cell_type": "code",
   "execution_count": 21,
   "metadata": {},
   "outputs": [],
   "source": [
    "# train_idx = random.sample(range(len(sessions_df)), int(len(sessions_df) / 2))\n",
    "# test_idx = [ i for i in range(len(sessions_df)) if i not in train_idx ]"
   ]
  },
  {
   "cell_type": "code",
   "execution_count": 22,
   "metadata": {},
   "outputs": [],
   "source": []
  }
 ],
 "metadata": {
  "kernelspec": {
   "display_name": "Python 2",
   "language": "python",
   "name": "python2"
  },
  "language_info": {
   "codemirror_mode": {
    "name": "ipython",
    "version": 2
   },
   "file_extension": ".py",
   "mimetype": "text/x-python",
   "name": "python",
   "nbconvert_exporter": "python",
   "pygments_lexer": "ipython2",
   "version": "2.7.6"
  }
 },
 "nbformat": 4,
 "nbformat_minor": 0
}
