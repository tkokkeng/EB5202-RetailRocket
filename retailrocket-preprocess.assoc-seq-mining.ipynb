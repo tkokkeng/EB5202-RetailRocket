{
 "cells": [
  {
   "cell_type": "code",
   "execution_count": 1,
   "metadata": {
    "collapsed": true
   },
   "outputs": [],
   "source": [
    "import pandas as pd\n",
    "import os\n",
    "import numpy as np\n",
    "import random\n",
    "import pickle"
   ]
  },
  {
   "cell_type": "code",
   "execution_count": 4,
   "metadata": {},
   "outputs": [],
   "source": [
    "sessions_df = pd.read_pickle(os.path.join('data', 'sessions.pkl'))"
   ]
  },
  {
   "cell_type": "code",
   "execution_count": 5,
   "metadata": {},
   "outputs": [
    {
     "data": {
      "text/html": [
       "<div>\n",
       "<style scoped>\n",
       "    .dataframe tbody tr th:only-of-type {\n",
       "        vertical-align: middle;\n",
       "    }\n",
       "\n",
       "    .dataframe tbody tr th {\n",
       "        vertical-align: top;\n",
       "    }\n",
       "\n",
       "    .dataframe thead th {\n",
       "        text-align: right;\n",
       "    }\n",
       "</style>\n",
       "<table border=\"1\" class=\"dataframe\">\n",
       "  <thead>\n",
       "    <tr style=\"text-align: right;\">\n",
       "      <th></th>\n",
       "      <th>visitorid</th>\n",
       "      <th>startdate</th>\n",
       "      <th>enddate</th>\n",
       "      <th>addtocart</th>\n",
       "      <th>transaction</th>\n",
       "      <th>view</th>\n",
       "    </tr>\n",
       "  </thead>\n",
       "  <tbody>\n",
       "    <tr>\n",
       "      <th>0</th>\n",
       "      <td>0</td>\n",
       "      <td>2015-09-11 20:49:49.439</td>\n",
       "      <td>2015-09-11 20:55:17.175</td>\n",
       "      <td>[]</td>\n",
       "      <td>[]</td>\n",
       "      <td>[285930, 357564, 67045]</td>\n",
       "    </tr>\n",
       "    <tr>\n",
       "      <th>1</th>\n",
       "      <td>1</td>\n",
       "      <td>2015-08-13 17:46:06.444</td>\n",
       "      <td>2015-08-13 17:46:06.444</td>\n",
       "      <td>[]</td>\n",
       "      <td>[]</td>\n",
       "      <td>[72028]</td>\n",
       "    </tr>\n",
       "    <tr>\n",
       "      <th>2</th>\n",
       "      <td>2</td>\n",
       "      <td>2015-08-07 17:51:44.567</td>\n",
       "      <td>2015-08-07 18:20:57.845</td>\n",
       "      <td>[]</td>\n",
       "      <td>[]</td>\n",
       "      <td>[325215, 325215, 259884, 216305, 342816, 34281...</td>\n",
       "    </tr>\n",
       "    <tr>\n",
       "      <th>3</th>\n",
       "      <td>3</td>\n",
       "      <td>2015-08-01 07:10:35.296</td>\n",
       "      <td>2015-08-01 07:10:35.296</td>\n",
       "      <td>[]</td>\n",
       "      <td>[]</td>\n",
       "      <td>[385090]</td>\n",
       "    </tr>\n",
       "    <tr>\n",
       "      <th>4</th>\n",
       "      <td>4</td>\n",
       "      <td>2015-09-15 21:24:27.167</td>\n",
       "      <td>2015-09-15 21:24:27.167</td>\n",
       "      <td>[]</td>\n",
       "      <td>[]</td>\n",
       "      <td>[177677]</td>\n",
       "    </tr>\n",
       "  </tbody>\n",
       "</table>\n",
       "</div>"
      ],
      "text/plain": [
       "<div>\n",
       "<style scoped>\n",
       "    .dataframe tbody tr th:only-of-type {\n",
       "        vertical-align: middle;\n",
       "    }\n",
       "\n",
       "    .dataframe tbody tr th {\n",
       "        vertical-align: top;\n",
       "    }\n",
       "\n",
       "    .dataframe thead th {\n",
       "        text-align: right;\n",
       "    }\n",
       "</style>\n",
       "<table border=\"1\" class=\"dataframe\">\n",
       "  <thead>\n",
       "    <tr style=\"text-align: right;\">\n",
       "      <th></th>\n",
       "      <th>visitorid</th>\n",
       "      <th>startdate</th>\n",
       "      <th>enddate</th>\n",
       "      <th>addtocart</th>\n",
       "      <th>transaction</th>\n",
       "      <th>view</th>\n",
       "    </tr>\n",
       "  </thead>\n",
       "  <tbody>\n",
       "    <tr>\n",
       "      <th>0</th>\n",
       "      <td>0</td>\n",
       "      <td>2015-09-11 20:49:49.439</td>\n",
       "      <td>2015-09-11 20:55:17.175</td>\n",
       "      <td>[]</td>\n",
       "      <td>[]</td>\n",
       "      <td>[285930, 357564, 67045]</td>\n",
       "    </tr>\n",
       "    <tr>\n",
       "      <th>1</th>\n",
       "      <td>1</td>\n",
       "      <td>2015-08-13 17:46:06.444</td>\n",
       "      <td>2015-08-13 17:46:06.444</td>\n",
       "      <td>[]</td>\n",
       "      <td>[]</td>\n",
       "      <td>[72028]</td>\n",
       "    </tr>\n",
       "    <tr>\n",
       "      <th>2</th>\n",
       "      <td>2</td>\n",
       "      <td>2015-08-07 17:51:44.567</td>\n",
       "      <td>2015-08-07 18:20:57.845</td>\n",
       "      <td>[]</td>\n",
       "      <td>[]</td>\n",
       "      <td>[325215, 325215, 259884, 216305, 342816, 34281...</td>\n",
       "    </tr>\n",
       "    <tr>\n",
       "      <th>3</th>\n",
       "      <td>3</td>\n",
       "      <td>2015-08-01 07:10:35.296</td>\n",
       "      <td>2015-08-01 07:10:35.296</td>\n",
       "      <td>[]</td>\n",
       "      <td>[]</td>\n",
       "      <td>[385090]</td>\n",
       "    </tr>\n",
       "    <tr>\n",
       "      <th>4</th>\n",
       "      <td>4</td>\n",
       "      <td>2015-09-15 21:24:27.167</td>\n",
       "      <td>2015-09-15 21:24:27.167</td>\n",
       "      <td>[]</td>\n",
       "      <td>[]</td>\n",
       "      <td>[177677]</td>\n",
       "    </tr>\n",
       "  </tbody>\n",
       "</table>\n",
       "</div>"
      ]
     },
     "execution_count": 5,
     "metadata": {},
     "output_type": "execute_result"
    }
   ],
   "source": [
    "sessions_df.head()"
   ]
  },
  {
   "cell_type": "code",
   "execution_count": 9,
   "metadata": {},
   "outputs": [
    {
     "name": "stdout",
     "output_type": "stream",
     "text": [
      "<class 'pandas.core.frame.DataFrame'>\nRangeIndex: 1786340 entries, 0 to 1786339\nData columns (total 6 columns):\nvisitorid      int64\nstartdate      datetime64[ns]\nenddate        datetime64[ns]\naddtocart      object\ntransaction    object\nview           object\ndtypes: datetime64[ns](2), int64(1), object(3)\nmemory usage: 81.8+ MB\n"
     ]
    }
   ],
   "source": [
    "sessions_df.info()"
   ]
  },
  {
   "cell_type": "code",
   "execution_count": 7,
   "metadata": {},
   "outputs": [],
   "source": [
    "# Split into train/test\n",
    "train_idx = random.sample(range(len(sessions_df)), int(len(sessions_df) * .7))\n",
    "test_idx = list(set(range(len(sessions_df))) - set(train_idx))"
   ]
  },
  {
   "cell_type": "code",
   "execution_count": 8,
   "metadata": {},
   "outputs": [
    {
     "name": "stdout",
     "output_type": "stream",
     "text": [
      "1250438 535902\n"
     ]
    }
   ],
   "source": [
    "print(len(train_idx), len(test_idx))"
   ]
  },
  {
   "cell_type": "markdown",
   "metadata": {},
   "source": [
    "## Create a transactions file for association mining"
   ]
  },
  {
   "cell_type": "code",
   "execution_count": 10,
   "metadata": {},
   "outputs": [],
   "source": [
    "sessions_df['basketid'] = sessions_df.index"
   ]
  },
  {
   "cell_type": "code",
   "execution_count": 11,
   "metadata": {},
   "outputs": [
    {
     "data": {
      "text/html": [
       "<div>\n",
       "<style scoped>\n",
       "    .dataframe tbody tr th:only-of-type {\n",
       "        vertical-align: middle;\n",
       "    }\n",
       "\n",
       "    .dataframe tbody tr th {\n",
       "        vertical-align: top;\n",
       "    }\n",
       "\n",
       "    .dataframe thead th {\n",
       "        text-align: right;\n",
       "    }\n",
       "</style>\n",
       "<table border=\"1\" class=\"dataframe\">\n",
       "  <thead>\n",
       "    <tr style=\"text-align: right;\">\n",
       "      <th></th>\n",
       "      <th>visitorid</th>\n",
       "      <th>startdate</th>\n",
       "      <th>enddate</th>\n",
       "      <th>addtocart</th>\n",
       "      <th>transaction</th>\n",
       "      <th>view</th>\n",
       "      <th>basketid</th>\n",
       "    </tr>\n",
       "  </thead>\n",
       "  <tbody>\n",
       "    <tr>\n",
       "      <th>0</th>\n",
       "      <td>0</td>\n",
       "      <td>2015-09-11 20:49:49.439</td>\n",
       "      <td>2015-09-11 20:55:17.175</td>\n",
       "      <td>[]</td>\n",
       "      <td>[]</td>\n",
       "      <td>[285930, 357564, 67045]</td>\n",
       "      <td>0</td>\n",
       "    </tr>\n",
       "    <tr>\n",
       "      <th>1</th>\n",
       "      <td>1</td>\n",
       "      <td>2015-08-13 17:46:06.444</td>\n",
       "      <td>2015-08-13 17:46:06.444</td>\n",
       "      <td>[]</td>\n",
       "      <td>[]</td>\n",
       "      <td>[72028]</td>\n",
       "      <td>1</td>\n",
       "    </tr>\n",
       "    <tr>\n",
       "      <th>2</th>\n",
       "      <td>2</td>\n",
       "      <td>2015-08-07 17:51:44.567</td>\n",
       "      <td>2015-08-07 18:20:57.845</td>\n",
       "      <td>[]</td>\n",
       "      <td>[]</td>\n",
       "      <td>[325215, 325215, 259884, 216305, 342816, 34281...</td>\n",
       "      <td>2</td>\n",
       "    </tr>\n",
       "    <tr>\n",
       "      <th>3</th>\n",
       "      <td>3</td>\n",
       "      <td>2015-08-01 07:10:35.296</td>\n",
       "      <td>2015-08-01 07:10:35.296</td>\n",
       "      <td>[]</td>\n",
       "      <td>[]</td>\n",
       "      <td>[385090]</td>\n",
       "      <td>3</td>\n",
       "    </tr>\n",
       "    <tr>\n",
       "      <th>4</th>\n",
       "      <td>4</td>\n",
       "      <td>2015-09-15 21:24:27.167</td>\n",
       "      <td>2015-09-15 21:24:27.167</td>\n",
       "      <td>[]</td>\n",
       "      <td>[]</td>\n",
       "      <td>[177677]</td>\n",
       "      <td>4</td>\n",
       "    </tr>\n",
       "  </tbody>\n",
       "</table>\n",
       "</div>"
      ],
      "text/plain": [
       "<div>\n",
       "<style scoped>\n",
       "    .dataframe tbody tr th:only-of-type {\n",
       "        vertical-align: middle;\n",
       "    }\n",
       "\n",
       "    .dataframe tbody tr th {\n",
       "        vertical-align: top;\n",
       "    }\n",
       "\n",
       "    .dataframe thead th {\n",
       "        text-align: right;\n",
       "    }\n",
       "</style>\n",
       "<table border=\"1\" class=\"dataframe\">\n",
       "  <thead>\n",
       "    <tr style=\"text-align: right;\">\n",
       "      <th></th>\n",
       "      <th>visitorid</th>\n",
       "      <th>startdate</th>\n",
       "      <th>enddate</th>\n",
       "      <th>addtocart</th>\n",
       "      <th>transaction</th>\n",
       "      <th>view</th>\n",
       "      <th>basketid</th>\n",
       "    </tr>\n",
       "  </thead>\n",
       "  <tbody>\n",
       "    <tr>\n",
       "      <th>0</th>\n",
       "      <td>0</td>\n",
       "      <td>2015-09-11 20:49:49.439</td>\n",
       "      <td>2015-09-11 20:55:17.175</td>\n",
       "      <td>[]</td>\n",
       "      <td>[]</td>\n",
       "      <td>[285930, 357564, 67045]</td>\n",
       "      <td>0</td>\n",
       "    </tr>\n",
       "    <tr>\n",
       "      <th>1</th>\n",
       "      <td>1</td>\n",
       "      <td>2015-08-13 17:46:06.444</td>\n",
       "      <td>2015-08-13 17:46:06.444</td>\n",
       "      <td>[]</td>\n",
       "      <td>[]</td>\n",
       "      <td>[72028]</td>\n",
       "      <td>1</td>\n",
       "    </tr>\n",
       "    <tr>\n",
       "      <th>2</th>\n",
       "      <td>2</td>\n",
       "      <td>2015-08-07 17:51:44.567</td>\n",
       "      <td>2015-08-07 18:20:57.845</td>\n",
       "      <td>[]</td>\n",
       "      <td>[]</td>\n",
       "      <td>[325215, 325215, 259884, 216305, 342816, 34281...</td>\n",
       "      <td>2</td>\n",
       "    </tr>\n",
       "    <tr>\n",
       "      <th>3</th>\n",
       "      <td>3</td>\n",
       "      <td>2015-08-01 07:10:35.296</td>\n",
       "      <td>2015-08-01 07:10:35.296</td>\n",
       "      <td>[]</td>\n",
       "      <td>[]</td>\n",
       "      <td>[385090]</td>\n",
       "      <td>3</td>\n",
       "    </tr>\n",
       "    <tr>\n",
       "      <th>4</th>\n",
       "      <td>4</td>\n",
       "      <td>2015-09-15 21:24:27.167</td>\n",
       "      <td>2015-09-15 21:24:27.167</td>\n",
       "      <td>[]</td>\n",
       "      <td>[]</td>\n",
       "      <td>[177677]</td>\n",
       "      <td>4</td>\n",
       "    </tr>\n",
       "  </tbody>\n",
       "</table>\n",
       "</div>"
      ]
     },
     "execution_count": 11,
     "metadata": {},
     "output_type": "execute_result"
    }
   ],
   "source": [
    "sessions_df.head()"
   ]
  },
  {
   "cell_type": "code",
   "execution_count": 12,
   "metadata": {},
   "outputs": [
    {
     "data": {
      "text/html": [
       "<div>\n",
       "<style scoped>\n",
       "    .dataframe tbody tr th:only-of-type {\n",
       "        vertical-align: middle;\n",
       "    }\n",
       "\n",
       "    .dataframe tbody tr th {\n",
       "        vertical-align: top;\n",
       "    }\n",
       "\n",
       "    .dataframe thead th {\n",
       "        text-align: right;\n",
       "    }\n",
       "</style>\n",
       "<table border=\"1\" class=\"dataframe\">\n",
       "  <thead>\n",
       "    <tr style=\"text-align: right;\">\n",
       "      <th></th>\n",
       "      <th>basketid</th>\n",
       "      <th>view</th>\n",
       "    </tr>\n",
       "  </thead>\n",
       "  <tbody>\n",
       "    <tr>\n",
       "      <th>0</th>\n",
       "      <td>1480710</td>\n",
       "      <td>[168624]</td>\n",
       "    </tr>\n",
       "    <tr>\n",
       "      <th>1</th>\n",
       "      <td>1550519</td>\n",
       "      <td>[352044]</td>\n",
       "    </tr>\n",
       "    <tr>\n",
       "      <th>2</th>\n",
       "      <td>1082085</td>\n",
       "      <td>[98467]</td>\n",
       "    </tr>\n",
       "    <tr>\n",
       "      <th>3</th>\n",
       "      <td>1169255</td>\n",
       "      <td>[188171]</td>\n",
       "    </tr>\n",
       "    <tr>\n",
       "      <th>4</th>\n",
       "      <td>1361431</td>\n",
       "      <td>[248740, 248740]</td>\n",
       "    </tr>\n",
       "  </tbody>\n",
       "</table>\n",
       "</div>"
      ],
      "text/plain": [
       "<div>\n",
       "<style scoped>\n",
       "    .dataframe tbody tr th:only-of-type {\n",
       "        vertical-align: middle;\n",
       "    }\n",
       "\n",
       "    .dataframe tbody tr th {\n",
       "        vertical-align: top;\n",
       "    }\n",
       "\n",
       "    .dataframe thead th {\n",
       "        text-align: right;\n",
       "    }\n",
       "</style>\n",
       "<table border=\"1\" class=\"dataframe\">\n",
       "  <thead>\n",
       "    <tr style=\"text-align: right;\">\n",
       "      <th></th>\n",
       "      <th>basketid</th>\n",
       "      <th>view</th>\n",
       "    </tr>\n",
       "  </thead>\n",
       "  <tbody>\n",
       "    <tr>\n",
       "      <th>0</th>\n",
       "      <td>1480710</td>\n",
       "      <td>[168624]</td>\n",
       "    </tr>\n",
       "    <tr>\n",
       "      <th>1</th>\n",
       "      <td>1550519</td>\n",
       "      <td>[352044]</td>\n",
       "    </tr>\n",
       "    <tr>\n",
       "      <th>2</th>\n",
       "      <td>1082085</td>\n",
       "      <td>[98467]</td>\n",
       "    </tr>\n",
       "    <tr>\n",
       "      <th>3</th>\n",
       "      <td>1169255</td>\n",
       "      <td>[188171]</td>\n",
       "    </tr>\n",
       "    <tr>\n",
       "      <th>4</th>\n",
       "      <td>1361431</td>\n",
       "      <td>[248740, 248740]</td>\n",
       "    </tr>\n",
       "  </tbody>\n",
       "</table>\n",
       "</div>"
      ]
     },
     "execution_count": 12,
     "metadata": {},
     "output_type": "execute_result"
    }
   ],
   "source": [
    "train_sessions_df = sessions_df.loc[train_idx, ['basketid', 'view']].reset_index(drop=True)\n",
    "train_sessions_df.head()"
   ]
  },
  {
   "cell_type": "code",
   "execution_count": 13,
   "metadata": {},
   "outputs": [
    {
     "data": {
      "text/html": [
       "<div>\n",
       "<style scoped>\n",
       "    .dataframe tbody tr th:only-of-type {\n",
       "        vertical-align: middle;\n",
       "    }\n",
       "\n",
       "    .dataframe tbody tr th {\n",
       "        vertical-align: top;\n",
       "    }\n",
       "\n",
       "    .dataframe thead th {\n",
       "        text-align: right;\n",
       "    }\n",
       "</style>\n",
       "<table border=\"1\" class=\"dataframe\">\n",
       "  <thead>\n",
       "    <tr style=\"text-align: right;\">\n",
       "      <th></th>\n",
       "      <th>basketid</th>\n",
       "      <th>view</th>\n",
       "    </tr>\n",
       "  </thead>\n",
       "  <tbody>\n",
       "    <tr>\n",
       "      <th>0</th>\n",
       "      <td>6</td>\n",
       "      <td>[]</td>\n",
       "    </tr>\n",
       "    <tr>\n",
       "      <th>1</th>\n",
       "      <td>12</td>\n",
       "      <td>[222422]</td>\n",
       "    </tr>\n",
       "    <tr>\n",
       "      <th>2</th>\n",
       "      <td>1048588</td>\n",
       "      <td>[450819]</td>\n",
       "    </tr>\n",
       "    <tr>\n",
       "      <th>3</th>\n",
       "      <td>1048589</td>\n",
       "      <td>[458945]</td>\n",
       "    </tr>\n",
       "    <tr>\n",
       "      <th>4</th>\n",
       "      <td>1048591</td>\n",
       "      <td>[5411]</td>\n",
       "    </tr>\n",
       "  </tbody>\n",
       "</table>\n",
       "</div>"
      ],
      "text/plain": [
       "<div>\n",
       "<style scoped>\n",
       "    .dataframe tbody tr th:only-of-type {\n",
       "        vertical-align: middle;\n",
       "    }\n",
       "\n",
       "    .dataframe tbody tr th {\n",
       "        vertical-align: top;\n",
       "    }\n",
       "\n",
       "    .dataframe thead th {\n",
       "        text-align: right;\n",
       "    }\n",
       "</style>\n",
       "<table border=\"1\" class=\"dataframe\">\n",
       "  <thead>\n",
       "    <tr style=\"text-align: right;\">\n",
       "      <th></th>\n",
       "      <th>basketid</th>\n",
       "      <th>view</th>\n",
       "    </tr>\n",
       "  </thead>\n",
       "  <tbody>\n",
       "    <tr>\n",
       "      <th>0</th>\n",
       "      <td>6</td>\n",
       "      <td>[]</td>\n",
       "    </tr>\n",
       "    <tr>\n",
       "      <th>1</th>\n",
       "      <td>12</td>\n",
       "      <td>[222422]</td>\n",
       "    </tr>\n",
       "    <tr>\n",
       "      <th>2</th>\n",
       "      <td>1048588</td>\n",
       "      <td>[450819]</td>\n",
       "    </tr>\n",
       "    <tr>\n",
       "      <th>3</th>\n",
       "      <td>1048589</td>\n",
       "      <td>[458945]</td>\n",
       "    </tr>\n",
       "    <tr>\n",
       "      <th>4</th>\n",
       "      <td>1048591</td>\n",
       "      <td>[5411]</td>\n",
       "    </tr>\n",
       "  </tbody>\n",
       "</table>\n",
       "</div>"
      ]
     },
     "execution_count": 13,
     "metadata": {},
     "output_type": "execute_result"
    }
   ],
   "source": [
    "test_sessions_df = sessions_df.loc[test_idx, ['basketid', 'view']].reset_index(drop=True)\n",
    "test_sessions_df.head()"
   ]
  },
  {
   "cell_type": "code",
   "execution_count": 14,
   "metadata": {},
   "outputs": [
    {
     "data": {
      "text/plain": [
       "1864046"
      ]
     },
     "execution_count": 12,
     "metadata": {},
     "output_type": "execute_result"
    },
    {
     "data": {
      "text/plain": [
       "1863706"
      ]
     },
     "execution_count": 14,
     "metadata": {},
     "output_type": "execute_result"
    }
   ],
   "source": [
    "train_rows = train_sessions_df.apply(lambda x: len(x[1]), axis=1).sum()\n",
    "train_rows"
   ]
  },
  {
   "cell_type": "code",
   "execution_count": 15,
   "metadata": {},
   "outputs": [
    {
     "data": {
      "text/plain": [
       "800606"
      ]
     },
     "execution_count": 15,
     "metadata": {},
     "output_type": "execute_result"
    }
   ],
   "source": [
    "test_rows = test_sessions_df.apply(lambda x: len(x[1]), axis=1).sum()\n",
    "test_rows"
   ]
  },
  {
   "cell_type": "code",
   "execution_count": 14,
   "metadata": {},
   "outputs": [],
   "source": [
    "train_view_arr = np.zeros((train_rows, 2), dtype=np.int)"
   ]
  },
  {
   "cell_type": "code",
   "execution_count": 15,
   "metadata": {},
   "outputs": [
    {
     "data": {
      "text/plain": [
       "array([[0, 0],\n       [0, 0],\n       [0, 0],\n       [0, 0],\n       [0, 0],\n       [0, 0],\n       [0, 0],\n       [0, 0],\n       [0, 0],\n       [0, 0]])"
      ]
     },
     "execution_count": 15,
     "metadata": {},
     "output_type": "execute_result"
    }
   ],
   "source": [
    "train_view_arr[:10]"
   ]
  },
  {
   "cell_type": "code",
   "execution_count": 16,
   "metadata": {},
   "outputs": [
    {
     "data": {
      "text/plain": [
       "0          None\n1          None\n2          None\n3          None\n4          None\n5          None\n6          None\n7          None\n8          None\n9          None\n10         None\n11         None\n12         None\n13         None\n14         None\n15         None\n16         None\n17         None\n18         None\n19         None\n20         None\n21         None\n22         None\n23         None\n24         None\n25         None\n26         None\n27         None\n28         None\n29         None\n           ... \n1250408    None\n1250409    None\n1250410    None\n1250411    None\n1250412    None\n1250413    None\n1250414    None\n1250415    None\n1250416    None\n1250417    None\n1250418    None\n1250419    None\n1250420    None\n1250421    None\n1250422    None\n1250423    None\n1250424    None\n1250425    None\n1250426    None\n1250427    None\n1250428    None\n1250429    None\n1250430    None\n1250431    None\n1250432    None\n1250433    None\n1250434    None\n1250435    None\n1250436    None\n1250437    None\nLength: 1250438, dtype: object"
      ]
     },
     "execution_count": 16,
     "metadata": {},
     "output_type": "execute_result"
    }
   ],
   "source": [
    "row_idx = 0\n",
    "def update_train_view_arr(x):\n",
    "    global row_idx\n",
    "    for i in x[1]:\n",
    "        train_view_arr[row_idx, 0] = x[0]\n",
    "        train_view_arr[row_idx, 1] = i\n",
    "        row_idx += 1\n",
    "\n",
    "train_sessions_df.apply(lambda x: update_train_view_arr(x), axis=1)"
   ]
  },
  {
   "cell_type": "code",
   "execution_count": 17,
   "metadata": {},
   "outputs": [
    {
     "data": {
      "text/plain": [
       "array([[1004780,  431499],\n       [ 693465,  309436],\n       [ 132907,  408003],\n       [ 792695,  277556],\n       [ 227612,   64104],\n       [ 633341,  456578],\n       [1071643,  254703],\n       [1071643,  254703],\n       [ 381561,  433441],\n       [1372149,  163780],\n       [ 797507,  174529],\n       [1018026,   32805],\n       [ 536176,  296561],\n       [ 896420,  198747],\n       [ 896420,  198747],\n       [ 896420,  198747],\n       [ 896420,  198747],\n       [  42411,   94980],\n       [1045321,    5305],\n       [1045321,  354233]])"
      ]
     },
     "execution_count": 17,
     "metadata": {},
     "output_type": "execute_result"
    }
   ],
   "source": [
    "train_view_arr[:20]"
   ]
  },
  {
   "cell_type": "code",
   "execution_count": 18,
   "metadata": {},
   "outputs": [
    {
     "data": {
      "text/plain": [
       "0         None\n1         None\n2         None\n3         None\n4         None\n5         None\n6         None\n7         None\n8         None\n9         None\n10        None\n11        None\n12        None\n13        None\n14        None\n15        None\n16        None\n17        None\n18        None\n19        None\n20        None\n21        None\n22        None\n23        None\n24        None\n25        None\n26        None\n27        None\n28        None\n29        None\n          ... \n535872    None\n535873    None\n535874    None\n535875    None\n535876    None\n535877    None\n535878    None\n535879    None\n535880    None\n535881    None\n535882    None\n535883    None\n535884    None\n535885    None\n535886    None\n535887    None\n535888    None\n535889    None\n535890    None\n535891    None\n535892    None\n535893    None\n535894    None\n535895    None\n535896    None\n535897    None\n535898    None\n535899    None\n535900    None\n535901    None\nLength: 535902, dtype: object"
      ]
     },
     "execution_count": 18,
     "metadata": {},
     "output_type": "execute_result"
    }
   ],
   "source": [
    "test_view_arr = np.zeros((test_rows, 2), dtype=np.int)\n",
    "row_idx = 0\n",
    "def update_test_view_arr(x):\n",
    "    global row_idx\n",
    "    for i in x[1]:\n",
    "        test_view_arr[row_idx, 0] = x[0]\n",
    "        test_view_arr[row_idx, 1] = i\n",
    "        row_idx += 1\n",
    "test_sessions_df.apply(lambda x: update_test_view_arr(x), axis=1)"
   ]
  },
  {
   "cell_type": "code",
   "execution_count": 19,
   "metadata": {},
   "outputs": [
    {
     "data": {
      "text/plain": [
       "array([[      0,  285930],\n       [      0,  357564],\n       [      0,   67045],\n       [1048577,  458318],\n       [1048578,  406376],\n       [1048579,  219821],\n       [1048579,  219821],\n       [1048579,  219821],\n       [      4,  177677],\n       [1048580,  219821]])"
      ]
     },
     "execution_count": 19,
     "metadata": {},
     "output_type": "execute_result"
    }
   ],
   "source": [
    "test_view_arr[:10]"
   ]
  },
  {
   "cell_type": "code",
   "execution_count": 20,
   "metadata": {},
   "outputs": [],
   "source": [
    "train_view_df = pd.DataFrame(train_view_arr, columns=['basketID', 'item']).sort_values('basketID')\n",
    "test_view_df = pd.DataFrame(test_view_arr, columns=['basketID', 'item']).sort_values('basketID')"
   ]
  },
  {
   "cell_type": "code",
   "execution_count": 21,
   "metadata": {},
   "outputs": [
    {
     "data": {
      "text/html": [
       "<div>\n",
       "<style scoped>\n",
       "    .dataframe tbody tr th:only-of-type {\n",
       "        vertical-align: middle;\n",
       "    }\n",
       "\n",
       "    .dataframe tbody tr th {\n",
       "        vertical-align: top;\n",
       "    }\n",
       "\n",
       "    .dataframe thead th {\n",
       "        text-align: right;\n",
       "    }\n",
       "</style>\n",
       "<table border=\"1\" class=\"dataframe\">\n",
       "  <thead>\n",
       "    <tr style=\"text-align: right;\">\n",
       "      <th></th>\n",
       "      <th>basketID</th>\n",
       "      <th>item</th>\n",
       "    </tr>\n",
       "  </thead>\n",
       "  <tbody>\n",
       "    <tr>\n",
       "      <th>1373426</th>\n",
       "      <td>1</td>\n",
       "      <td>72028</td>\n",
       "    </tr>\n",
       "    <tr>\n",
       "      <th>1476422</th>\n",
       "      <td>2</td>\n",
       "      <td>325215</td>\n",
       "    </tr>\n",
       "    <tr>\n",
       "      <th>1476421</th>\n",
       "      <td>2</td>\n",
       "      <td>216305</td>\n",
       "    </tr>\n",
       "    <tr>\n",
       "      <th>1476416</th>\n",
       "      <td>2</td>\n",
       "      <td>325215</td>\n",
       "    </tr>\n",
       "    <tr>\n",
       "      <th>1476417</th>\n",
       "      <td>2</td>\n",
       "      <td>259884</td>\n",
       "    </tr>\n",
       "  </tbody>\n",
       "</table>\n",
       "</div>"
      ],
      "text/plain": [
       "<div>\n",
       "<style scoped>\n",
       "    .dataframe tbody tr th:only-of-type {\n",
       "        vertical-align: middle;\n",
       "    }\n",
       "\n",
       "    .dataframe tbody tr th {\n",
       "        vertical-align: top;\n",
       "    }\n",
       "\n",
       "    .dataframe thead th {\n",
       "        text-align: right;\n",
       "    }\n",
       "</style>\n",
       "<table border=\"1\" class=\"dataframe\">\n",
       "  <thead>\n",
       "    <tr style=\"text-align: right;\">\n",
       "      <th></th>\n",
       "      <th>basketID</th>\n",
       "      <th>item</th>\n",
       "    </tr>\n",
       "  </thead>\n",
       "  <tbody>\n",
       "    <tr>\n",
       "      <th>1373426</th>\n",
       "      <td>1</td>\n",
       "      <td>72028</td>\n",
       "    </tr>\n",
       "    <tr>\n",
       "      <th>1476422</th>\n",
       "      <td>2</td>\n",
       "      <td>325215</td>\n",
       "    </tr>\n",
       "    <tr>\n",
       "      <th>1476421</th>\n",
       "      <td>2</td>\n",
       "      <td>216305</td>\n",
       "    </tr>\n",
       "    <tr>\n",
       "      <th>1476416</th>\n",
       "      <td>2</td>\n",
       "      <td>325215</td>\n",
       "    </tr>\n",
       "    <tr>\n",
       "      <th>1476417</th>\n",
       "      <td>2</td>\n",
       "      <td>259884</td>\n",
       "    </tr>\n",
       "  </tbody>\n",
       "</table>\n",
       "</div>"
      ]
     },
     "execution_count": 21,
     "metadata": {},
     "output_type": "execute_result"
    }
   ],
   "source": [
    "train_view_df.head()"
   ]
  },
  {
   "cell_type": "code",
   "execution_count": 22,
   "metadata": {},
   "outputs": [],
   "source": [
    "train_view_df.to_csv(os.path.join('data', 'train_view.csv'), index=False)\n",
    "test_view_df.to_csv(os.path.join('data', 'test_view.csv'), index=False)"
   ]
  },
  {
   "cell_type": "markdown",
   "metadata": {},
   "source": [
    "## Create a baskets file for sequence mining"
   ]
  },
  {
   "cell_type": "code",
   "execution_count": 23,
   "metadata": {},
   "outputs": [],
   "source": [
    "train_seq_arr = np.zeros((train_rows, 4), dtype=np.int)\n",
    "test_seq_arr = np.zeros((test_rows, 4), dtype=np.int)"
   ]
  },
  {
   "cell_type": "code",
   "execution_count": 24,
   "metadata": {},
   "outputs": [
    {
     "data": {
      "text/plain": [
       "0          None\n1          None\n2          None\n3          None\n4          None\n5          None\n6          None\n7          None\n8          None\n9          None\n10         None\n11         None\n12         None\n13         None\n14         None\n15         None\n16         None\n17         None\n18         None\n19         None\n20         None\n21         None\n22         None\n23         None\n24         None\n25         None\n26         None\n27         None\n28         None\n29         None\n           ... \n1250408    None\n1250409    None\n1250410    None\n1250411    None\n1250412    None\n1250413    None\n1250414    None\n1250415    None\n1250416    None\n1250417    None\n1250418    None\n1250419    None\n1250420    None\n1250421    None\n1250422    None\n1250423    None\n1250424    None\n1250425    None\n1250426    None\n1250427    None\n1250428    None\n1250429    None\n1250430    None\n1250431    None\n1250432    None\n1250433    None\n1250434    None\n1250435    None\n1250436    None\n1250437    None\nLength: 1250438, dtype: object"
      ]
     },
     "execution_count": 24,
     "metadata": {},
     "output_type": "execute_result"
    }
   ],
   "source": [
    "row_idx = 0\n",
    "def update_train_seq_arr(x):\n",
    "    global row_idx\n",
    "    for idx, value in enumerate(x[1]):\n",
    "        train_seq_arr[row_idx, 0] = x[0]\n",
    "        train_seq_arr[row_idx, 1] = idx\n",
    "        train_seq_arr[row_idx, 2] = 1\n",
    "        train_seq_arr[row_idx, 3] = value\n",
    "        row_idx += 1\n",
    "\n",
    "train_sessions_df.apply(lambda x: update_train_seq_arr(x), axis=1)"
   ]
  },
  {
   "cell_type": "code",
   "execution_count": 25,
   "metadata": {},
   "outputs": [
    {
     "data": {
      "text/plain": [
       "0         None\n1         None\n2         None\n3         None\n4         None\n5         None\n6         None\n7         None\n8         None\n9         None\n10        None\n11        None\n12        None\n13        None\n14        None\n15        None\n16        None\n17        None\n18        None\n19        None\n20        None\n21        None\n22        None\n23        None\n24        None\n25        None\n26        None\n27        None\n28        None\n29        None\n          ... \n535872    None\n535873    None\n535874    None\n535875    None\n535876    None\n535877    None\n535878    None\n535879    None\n535880    None\n535881    None\n535882    None\n535883    None\n535884    None\n535885    None\n535886    None\n535887    None\n535888    None\n535889    None\n535890    None\n535891    None\n535892    None\n535893    None\n535894    None\n535895    None\n535896    None\n535897    None\n535898    None\n535899    None\n535900    None\n535901    None\nLength: 535902, dtype: object"
      ]
     },
     "execution_count": 25,
     "metadata": {},
     "output_type": "execute_result"
    }
   ],
   "source": [
    "row_idx = 0\n",
    "def update_test_seq_arr(x):\n",
    "    global row_idx\n",
    "    for idx, value in enumerate(x[1]):\n",
    "        test_seq_arr[row_idx, 0] = x[0]\n",
    "        test_seq_arr[row_idx, 1] = idx\n",
    "        test_seq_arr[row_idx, 2] = 1\n",
    "        test_seq_arr[row_idx, 3] = value\n",
    "        row_idx += 1\n",
    "\n",
    "test_sessions_df.apply(lambda x: update_test_seq_arr(x), axis=1)"
   ]
  },
  {
   "cell_type": "code",
   "execution_count": 35,
   "metadata": {},
   "outputs": [],
   "source": [
    "train_sequence_df = pd.DataFrame(train_seq_arr, columns=['sequenceid', 'eventid', 'size', 'item'])\\\n",
    "    .sort_values(['sequenceid', 'eventid'])\n",
    "test_sequence_df = pd.DataFrame(test_seq_arr, columns=['sequenceid', 'eventid', 'size', 'item'])\\\n",
    "    .sort_values(['sequenceid', 'eventid'])"
   ]
  },
  {
   "cell_type": "code",
   "execution_count": 36,
   "metadata": {},
   "outputs": [
    {
     "data": {
      "text/html": [
       "<div>\n",
       "<style scoped>\n",
       "    .dataframe tbody tr th:only-of-type {\n",
       "        vertical-align: middle;\n",
       "    }\n",
       "\n",
       "    .dataframe tbody tr th {\n",
       "        vertical-align: top;\n",
       "    }\n",
       "\n",
       "    .dataframe thead th {\n",
       "        text-align: right;\n",
       "    }\n",
       "</style>\n",
       "<table border=\"1\" class=\"dataframe\">\n",
       "  <thead>\n",
       "    <tr style=\"text-align: right;\">\n",
       "      <th></th>\n",
       "      <th>sequenceid</th>\n",
       "      <th>eventid</th>\n",
       "      <th>size</th>\n",
       "      <th>item</th>\n",
       "    </tr>\n",
       "  </thead>\n",
       "  <tbody>\n",
       "    <tr>\n",
       "      <th>1373426</th>\n",
       "      <td>1</td>\n",
       "      <td>0</td>\n",
       "      <td>1</td>\n",
       "      <td>72028</td>\n",
       "    </tr>\n",
       "    <tr>\n",
       "      <th>1476415</th>\n",
       "      <td>2</td>\n",
       "      <td>0</td>\n",
       "      <td>1</td>\n",
       "      <td>325215</td>\n",
       "    </tr>\n",
       "    <tr>\n",
       "      <th>1476416</th>\n",
       "      <td>2</td>\n",
       "      <td>1</td>\n",
       "      <td>1</td>\n",
       "      <td>325215</td>\n",
       "    </tr>\n",
       "    <tr>\n",
       "      <th>1476417</th>\n",
       "      <td>2</td>\n",
       "      <td>2</td>\n",
       "      <td>1</td>\n",
       "      <td>259884</td>\n",
       "    </tr>\n",
       "    <tr>\n",
       "      <th>1476418</th>\n",
       "      <td>2</td>\n",
       "      <td>3</td>\n",
       "      <td>1</td>\n",
       "      <td>216305</td>\n",
       "    </tr>\n",
       "    <tr>\n",
       "      <th>1476419</th>\n",
       "      <td>2</td>\n",
       "      <td>4</td>\n",
       "      <td>1</td>\n",
       "      <td>342816</td>\n",
       "    </tr>\n",
       "    <tr>\n",
       "      <th>1476420</th>\n",
       "      <td>2</td>\n",
       "      <td>5</td>\n",
       "      <td>1</td>\n",
       "      <td>342816</td>\n",
       "    </tr>\n",
       "    <tr>\n",
       "      <th>1476421</th>\n",
       "      <td>2</td>\n",
       "      <td>6</td>\n",
       "      <td>1</td>\n",
       "      <td>216305</td>\n",
       "    </tr>\n",
       "    <tr>\n",
       "      <th>1476422</th>\n",
       "      <td>2</td>\n",
       "      <td>7</td>\n",
       "      <td>1</td>\n",
       "      <td>325215</td>\n",
       "    </tr>\n",
       "    <tr>\n",
       "      <th>1444679</th>\n",
       "      <td>3</td>\n",
       "      <td>0</td>\n",
       "      <td>1</td>\n",
       "      <td>385090</td>\n",
       "    </tr>\n",
       "  </tbody>\n",
       "</table>\n",
       "</div>"
      ],
      "text/plain": [
       "<div>\n",
       "<style scoped>\n",
       "    .dataframe tbody tr th:only-of-type {\n",
       "        vertical-align: middle;\n",
       "    }\n",
       "\n",
       "    .dataframe tbody tr th {\n",
       "        vertical-align: top;\n",
       "    }\n",
       "\n",
       "    .dataframe thead th {\n",
       "        text-align: right;\n",
       "    }\n",
       "</style>\n",
       "<table border=\"1\" class=\"dataframe\">\n",
       "  <thead>\n",
       "    <tr style=\"text-align: right;\">\n",
       "      <th></th>\n",
       "      <th>sequenceid</th>\n",
       "      <th>eventid</th>\n",
       "      <th>size</th>\n",
       "      <th>item</th>\n",
       "    </tr>\n",
       "  </thead>\n",
       "  <tbody>\n",
       "    <tr>\n",
       "      <th>1373426</th>\n",
       "      <td>1</td>\n",
       "      <td>0</td>\n",
       "      <td>1</td>\n",
       "      <td>72028</td>\n",
       "    </tr>\n",
       "    <tr>\n",
       "      <th>1476415</th>\n",
       "      <td>2</td>\n",
       "      <td>0</td>\n",
       "      <td>1</td>\n",
       "      <td>325215</td>\n",
       "    </tr>\n",
       "    <tr>\n",
       "      <th>1476416</th>\n",
       "      <td>2</td>\n",
       "      <td>1</td>\n",
       "      <td>1</td>\n",
       "      <td>325215</td>\n",
       "    </tr>\n",
       "    <tr>\n",
       "      <th>1476417</th>\n",
       "      <td>2</td>\n",
       "      <td>2</td>\n",
       "      <td>1</td>\n",
       "      <td>259884</td>\n",
       "    </tr>\n",
       "    <tr>\n",
       "      <th>1476418</th>\n",
       "      <td>2</td>\n",
       "      <td>3</td>\n",
       "      <td>1</td>\n",
       "      <td>216305</td>\n",
       "    </tr>\n",
       "    <tr>\n",
       "      <th>1476419</th>\n",
       "      <td>2</td>\n",
       "      <td>4</td>\n",
       "      <td>1</td>\n",
       "      <td>342816</td>\n",
       "    </tr>\n",
       "    <tr>\n",
       "      <th>1476420</th>\n",
       "      <td>2</td>\n",
       "      <td>5</td>\n",
       "      <td>1</td>\n",
       "      <td>342816</td>\n",
       "    </tr>\n",
       "    <tr>\n",
       "      <th>1476421</th>\n",
       "      <td>2</td>\n",
       "      <td>6</td>\n",
       "      <td>1</td>\n",
       "      <td>216305</td>\n",
       "    </tr>\n",
       "    <tr>\n",
       "      <th>1476422</th>\n",
       "      <td>2</td>\n",
       "      <td>7</td>\n",
       "      <td>1</td>\n",
       "      <td>325215</td>\n",
       "    </tr>\n",
       "    <tr>\n",
       "      <th>1444679</th>\n",
       "      <td>3</td>\n",
       "      <td>0</td>\n",
       "      <td>1</td>\n",
       "      <td>385090</td>\n",
       "    </tr>\n",
       "  </tbody>\n",
       "</table>\n",
       "</div>"
      ]
     },
     "execution_count": 36,
     "metadata": {},
     "output_type": "execute_result"
    }
   ],
   "source": [
    "train_sequence_df.head(10)"
   ]
  },
  {
   "cell_type": "code",
   "execution_count": 37,
   "metadata": {},
   "outputs": [],
   "source": [
    "train_sequence_df.to_csv(os.path.join('data', 'train_sequence.txt'), header=False, index=False, sep='\\t')\n",
    "test_sequence_df.to_csv(os.path.join('data', 'test_sequence.txt'), header=False, index=False, sep='\\t')"
   ]
  },
  {
   "cell_type": "markdown",
   "metadata": {},
   "source": [
    "## Create a transactions file using categoryid for association mining"
   ]
  },
  {
   "cell_type": "code",
   "execution_count": 2,
   "metadata": {},
   "outputs": [],
   "source": [
    "infile = open(os.path.join('data', 'itemtocat.pkl'), 'rb')\n",
    "itemtocat_dict = pickle.load(infile)\n",
    "infile.close()"
   ]
  },
  {
   "cell_type": "code",
   "execution_count": 16,
   "metadata": {},
   "outputs": [],
   "source": [
    "train_cat_arr = np.zeros((train_rows, 2), dtype=np.int)\n",
    "test_cat_arr = np.zeros((test_rows, 2), dtype=np.int)"
   ]
  },
  {
   "cell_type": "code",
   "execution_count": 19,
   "metadata": {},
   "outputs": [
    {
     "data": {
      "text/html": [
       "<div>\n",
       "<style scoped>\n",
       "    .dataframe tbody tr th:only-of-type {\n",
       "        vertical-align: middle;\n",
       "    }\n",
       "\n",
       "    .dataframe tbody tr th {\n",
       "        vertical-align: top;\n",
       "    }\n",
       "\n",
       "    .dataframe thead th {\n",
       "        text-align: right;\n",
       "    }\n",
       "</style>\n",
       "<table border=\"1\" class=\"dataframe\">\n",
       "  <thead>\n",
       "    <tr style=\"text-align: right;\">\n",
       "      <th></th>\n",
       "      <th>basketid</th>\n",
       "      <th>enddate</th>\n",
       "      <th>view</th>\n",
       "    </tr>\n",
       "  </thead>\n",
       "  <tbody>\n",
       "    <tr>\n",
       "      <th>0</th>\n",
       "      <td>1480710</td>\n",
       "      <td>2015-08-21 21:11:03.764</td>\n",
       "      <td>[168624]</td>\n",
       "    </tr>\n",
       "    <tr>\n",
       "      <th>1</th>\n",
       "      <td>1550519</td>\n",
       "      <td>2015-05-18 21:03:50.552</td>\n",
       "      <td>[352044]</td>\n",
       "    </tr>\n",
       "    <tr>\n",
       "      <th>2</th>\n",
       "      <td>1082085</td>\n",
       "      <td>2015-07-10 22:45:11.445</td>\n",
       "      <td>[98467]</td>\n",
       "    </tr>\n",
       "    <tr>\n",
       "      <th>3</th>\n",
       "      <td>1169255</td>\n",
       "      <td>2015-05-17 19:44:04.907</td>\n",
       "      <td>[188171]</td>\n",
       "    </tr>\n",
       "    <tr>\n",
       "      <th>4</th>\n",
       "      <td>1361431</td>\n",
       "      <td>2015-07-22 18:29:31.592</td>\n",
       "      <td>[248740, 248740]</td>\n",
       "    </tr>\n",
       "  </tbody>\n",
       "</table>\n",
       "</div>"
      ],
      "text/plain": [
       "<div>\n",
       "<style scoped>\n",
       "    .dataframe tbody tr th:only-of-type {\n",
       "        vertical-align: middle;\n",
       "    }\n",
       "\n",
       "    .dataframe tbody tr th {\n",
       "        vertical-align: top;\n",
       "    }\n",
       "\n",
       "    .dataframe thead th {\n",
       "        text-align: right;\n",
       "    }\n",
       "</style>\n",
       "<table border=\"1\" class=\"dataframe\">\n",
       "  <thead>\n",
       "    <tr style=\"text-align: right;\">\n",
       "      <th></th>\n",
       "      <th>basketid</th>\n",
       "      <th>enddate</th>\n",
       "      <th>view</th>\n",
       "    </tr>\n",
       "  </thead>\n",
       "  <tbody>\n",
       "    <tr>\n",
       "      <th>0</th>\n",
       "      <td>1480710</td>\n",
       "      <td>2015-08-21 21:11:03.764</td>\n",
       "      <td>[168624]</td>\n",
       "    </tr>\n",
       "    <tr>\n",
       "      <th>1</th>\n",
       "      <td>1550519</td>\n",
       "      <td>2015-05-18 21:03:50.552</td>\n",
       "      <td>[352044]</td>\n",
       "    </tr>\n",
       "    <tr>\n",
       "      <th>2</th>\n",
       "      <td>1082085</td>\n",
       "      <td>2015-07-10 22:45:11.445</td>\n",
       "      <td>[98467]</td>\n",
       "    </tr>\n",
       "    <tr>\n",
       "      <th>3</th>\n",
       "      <td>1169255</td>\n",
       "      <td>2015-05-17 19:44:04.907</td>\n",
       "      <td>[188171]</td>\n",
       "    </tr>\n",
       "    <tr>\n",
       "      <th>4</th>\n",
       "      <td>1361431</td>\n",
       "      <td>2015-07-22 18:29:31.592</td>\n",
       "      <td>[248740, 248740]</td>\n",
       "    </tr>\n",
       "  </tbody>\n",
       "</table>\n",
       "</div>"
      ]
     },
     "execution_count": 19,
     "metadata": {},
     "output_type": "execute_result"
    }
   ],
   "source": [
    "train_cat_sessions_df = sessions_df.loc[train_idx, ['basketid', 'enddate', 'view']].reset_index(drop=True)\n",
    "train_cat_sessions_df.head()"
   ]
  },
  {
   "cell_type": "code",
   "execution_count": 20,
   "metadata": {},
   "outputs": [
    {
     "data": {
      "text/html": [
       "<div>\n",
       "<style scoped>\n",
       "    .dataframe tbody tr th:only-of-type {\n",
       "        vertical-align: middle;\n",
       "    }\n",
       "\n",
       "    .dataframe tbody tr th {\n",
       "        vertical-align: top;\n",
       "    }\n",
       "\n",
       "    .dataframe thead th {\n",
       "        text-align: right;\n",
       "    }\n",
       "</style>\n",
       "<table border=\"1\" class=\"dataframe\">\n",
       "  <thead>\n",
       "    <tr style=\"text-align: right;\">\n",
       "      <th></th>\n",
       "      <th>basketid</th>\n",
       "      <th>enddate</th>\n",
       "      <th>view</th>\n",
       "    </tr>\n",
       "  </thead>\n",
       "  <tbody>\n",
       "    <tr>\n",
       "      <th>0</th>\n",
       "      <td>6</td>\n",
       "      <td>2015-08-30 06:03:48.202</td>\n",
       "      <td>[]</td>\n",
       "    </tr>\n",
       "    <tr>\n",
       "      <th>1</th>\n",
       "      <td>12</td>\n",
       "      <td>2015-07-08 17:36:47.285</td>\n",
       "      <td>[222422]</td>\n",
       "    </tr>\n",
       "    <tr>\n",
       "      <th>2</th>\n",
       "      <td>1048588</td>\n",
       "      <td>2015-05-28 23:18:18.745</td>\n",
       "      <td>[450819]</td>\n",
       "    </tr>\n",
       "    <tr>\n",
       "      <th>3</th>\n",
       "      <td>1048589</td>\n",
       "      <td>2015-06-09 15:13:53.256</td>\n",
       "      <td>[458945]</td>\n",
       "    </tr>\n",
       "    <tr>\n",
       "      <th>4</th>\n",
       "      <td>1048591</td>\n",
       "      <td>2015-07-14 22:27:50.103</td>\n",
       "      <td>[5411]</td>\n",
       "    </tr>\n",
       "  </tbody>\n",
       "</table>\n",
       "</div>"
      ],
      "text/plain": [
       "<div>\n",
       "<style scoped>\n",
       "    .dataframe tbody tr th:only-of-type {\n",
       "        vertical-align: middle;\n",
       "    }\n",
       "\n",
       "    .dataframe tbody tr th {\n",
       "        vertical-align: top;\n",
       "    }\n",
       "\n",
       "    .dataframe thead th {\n",
       "        text-align: right;\n",
       "    }\n",
       "</style>\n",
       "<table border=\"1\" class=\"dataframe\">\n",
       "  <thead>\n",
       "    <tr style=\"text-align: right;\">\n",
       "      <th></th>\n",
       "      <th>basketid</th>\n",
       "      <th>enddate</th>\n",
       "      <th>view</th>\n",
       "    </tr>\n",
       "  </thead>\n",
       "  <tbody>\n",
       "    <tr>\n",
       "      <th>0</th>\n",
       "      <td>6</td>\n",
       "      <td>2015-08-30 06:03:48.202</td>\n",
       "      <td>[]</td>\n",
       "    </tr>\n",
       "    <tr>\n",
       "      <th>1</th>\n",
       "      <td>12</td>\n",
       "      <td>2015-07-08 17:36:47.285</td>\n",
       "      <td>[222422]</td>\n",
       "    </tr>\n",
       "    <tr>\n",
       "      <th>2</th>\n",
       "      <td>1048588</td>\n",
       "      <td>2015-05-28 23:18:18.745</td>\n",
       "      <td>[450819]</td>\n",
       "    </tr>\n",
       "    <tr>\n",
       "      <th>3</th>\n",
       "      <td>1048589</td>\n",
       "      <td>2015-06-09 15:13:53.256</td>\n",
       "      <td>[458945]</td>\n",
       "    </tr>\n",
       "    <tr>\n",
       "      <th>4</th>\n",
       "      <td>1048591</td>\n",
       "      <td>2015-07-14 22:27:50.103</td>\n",
       "      <td>[5411]</td>\n",
       "    </tr>\n",
       "  </tbody>\n",
       "</table>\n",
       "</div>"
      ]
     },
     "execution_count": 20,
     "metadata": {},
     "output_type": "execute_result"
    }
   ],
   "source": [
    "test_cat_sessions_df = sessions_df.loc[test_idx, ['basketid', 'enddate', 'view']].reset_index(drop=True)\n",
    "test_cat_sessions_df.head()"
   ]
  },
  {
   "cell_type": "code",
   "execution_count": 22,
   "metadata": {},
   "outputs": [],
   "source": [
    "def to_categoryid(itemid, enddate):\n",
    "    catid = ''\n",
    "    \n",
    "    for time, cat in itemtocat_dict.get(itemid, []):\n",
    "        if enddate <= time:\n",
    "            catid = cat\n",
    "            break\n",
    "    if not catid:\n",
    "        if itemtocat_dict.get(itemid, []):  # enddate did not match\n",
    "            catid = itemtocat_dict[itemid][-1][1]  # set categiryid to last value\n",
    "        else:\n",
    "            catid = itemid  # itemid not in dictionary\n",
    "    return catid"
   ]
  },
  {
   "cell_type": "code",
   "execution_count": 26,
   "metadata": {},
   "outputs": [
    {
     "data": {
      "text/plain": [
       "0          None\n1          None\n2          None\n3          None\n4          None\n5          None\n6          None\n7          None\n8          None\n9          None\n10         None\n11         None\n12         None\n13         None\n14         None\n15         None\n16         None\n17         None\n18         None\n19         None\n20         None\n21         None\n22         None\n23         None\n24         None\n25         None\n26         None\n27         None\n28         None\n29         None\n           ... \n1250408    None\n1250409    None\n1250410    None\n1250411    None\n1250412    None\n1250413    None\n1250414    None\n1250415    None\n1250416    None\n1250417    None\n1250418    None\n1250419    None\n1250420    None\n1250421    None\n1250422    None\n1250423    None\n1250424    None\n1250425    None\n1250426    None\n1250427    None\n1250428    None\n1250429    None\n1250430    None\n1250431    None\n1250432    None\n1250433    None\n1250434    None\n1250435    None\n1250436    None\n1250437    None\nLength: 1250438, dtype: object"
      ]
     },
     "execution_count": 26,
     "metadata": {},
     "output_type": "execute_result"
    }
   ],
   "source": [
    "row_idx = 0\n",
    "def update_train_cat_arr(x):\n",
    "    global row_idx\n",
    "    for i in x[2]:\n",
    "        train_cat_arr[row_idx, 0] = x[0]\n",
    "        train_cat_arr[row_idx, 1] = to_categoryid(i, x[1])\n",
    "        row_idx += 1\n",
    "\n",
    "train_cat_sessions_df.apply(lambda x: update_train_cat_arr(x), axis=1)"
   ]
  },
  {
   "cell_type": "code",
   "execution_count": 28,
   "metadata": {},
   "outputs": [
    {
     "data": {
      "text/plain": [
       "array([[1480710,  168624],\n       [1550519,      50],\n       [1082085,    1613],\n       [1169255,    1051],\n       [1361431,  248740],\n       [1361431,  248740],\n       [ 930192,     730],\n       [ 211822,    1565],\n       [1195593,     491],\n       [1467024,     196]])"
      ]
     },
     "execution_count": 28,
     "metadata": {},
     "output_type": "execute_result"
    }
   ],
   "source": [
    "train_cat_arr[:10]"
   ]
  },
  {
   "cell_type": "code",
   "execution_count": 29,
   "metadata": {},
   "outputs": [
    {
     "data": {
      "text/plain": [
       "0         None\n1         None\n2         None\n3         None\n4         None\n5         None\n6         None\n7         None\n8         None\n9         None\n10        None\n11        None\n12        None\n13        None\n14        None\n15        None\n16        None\n17        None\n18        None\n19        None\n20        None\n21        None\n22        None\n23        None\n24        None\n25        None\n26        None\n27        None\n28        None\n29        None\n          ... \n535872    None\n535873    None\n535874    None\n535875    None\n535876    None\n535877    None\n535878    None\n535879    None\n535880    None\n535881    None\n535882    None\n535883    None\n535884    None\n535885    None\n535886    None\n535887    None\n535888    None\n535889    None\n535890    None\n535891    None\n535892    None\n535893    None\n535894    None\n535895    None\n535896    None\n535897    None\n535898    None\n535899    None\n535900    None\n535901    None\nLength: 535902, dtype: object"
      ]
     },
     "execution_count": 29,
     "metadata": {},
     "output_type": "execute_result"
    }
   ],
   "source": [
    "row_idx = 0\n",
    "def update_test_cat_arr(x):\n",
    "    global row_idx\n",
    "    for i in x[2]:\n",
    "        test_cat_arr[row_idx, 0] = x[0]\n",
    "        test_cat_arr[row_idx, 1] = to_categoryid(i, x[1])\n",
    "        row_idx += 1\n",
    "\n",
    "test_cat_sessions_df.apply(lambda x: update_test_cat_arr(x), axis=1)"
   ]
  },
  {
   "cell_type": "code",
   "execution_count": 30,
   "metadata": {},
   "outputs": [],
   "source": [
    "train_cat_df = pd.DataFrame(train_cat_arr, columns=['basketID', 'item']).sort_values('basketID')\n",
    "test_cat_df = pd.DataFrame(test_cat_arr, columns=['basketID', 'item']).sort_values('basketID')"
   ]
  },
  {
   "cell_type": "code",
   "execution_count": 31,
   "metadata": {},
   "outputs": [
    {
     "data": {
      "text/html": [
       "<div>\n",
       "<style scoped>\n",
       "    .dataframe tbody tr th:only-of-type {\n",
       "        vertical-align: middle;\n",
       "    }\n",
       "\n",
       "    .dataframe tbody tr th {\n",
       "        vertical-align: top;\n",
       "    }\n",
       "\n",
       "    .dataframe thead th {\n",
       "        text-align: right;\n",
       "    }\n",
       "</style>\n",
       "<table border=\"1\" class=\"dataframe\">\n",
       "  <thead>\n",
       "    <tr style=\"text-align: right;\">\n",
       "      <th></th>\n",
       "      <th>basketID</th>\n",
       "      <th>item</th>\n",
       "    </tr>\n",
       "  </thead>\n",
       "  <tbody>\n",
       "    <tr>\n",
       "      <th>843726</th>\n",
       "      <td>0</td>\n",
       "      <td>333</td>\n",
       "    </tr>\n",
       "    <tr>\n",
       "      <th>843725</th>\n",
       "      <td>0</td>\n",
       "      <td>256</td>\n",
       "    </tr>\n",
       "    <tr>\n",
       "      <th>843724</th>\n",
       "      <td>0</td>\n",
       "      <td>1188</td>\n",
       "    </tr>\n",
       "    <tr>\n",
       "      <th>129947</th>\n",
       "      <td>1</td>\n",
       "      <td>1192</td>\n",
       "    </tr>\n",
       "    <tr>\n",
       "      <th>1677890</th>\n",
       "      <td>2</td>\n",
       "      <td>299</td>\n",
       "    </tr>\n",
       "  </tbody>\n",
       "</table>\n",
       "</div>"
      ],
      "text/plain": [
       "<div>\n",
       "<style scoped>\n",
       "    .dataframe tbody tr th:only-of-type {\n",
       "        vertical-align: middle;\n",
       "    }\n",
       "\n",
       "    .dataframe tbody tr th {\n",
       "        vertical-align: top;\n",
       "    }\n",
       "\n",
       "    .dataframe thead th {\n",
       "        text-align: right;\n",
       "    }\n",
       "</style>\n",
       "<table border=\"1\" class=\"dataframe\">\n",
       "  <thead>\n",
       "    <tr style=\"text-align: right;\">\n",
       "      <th></th>\n",
       "      <th>basketID</th>\n",
       "      <th>item</th>\n",
       "    </tr>\n",
       "  </thead>\n",
       "  <tbody>\n",
       "    <tr>\n",
       "      <th>843726</th>\n",
       "      <td>0</td>\n",
       "      <td>333</td>\n",
       "    </tr>\n",
       "    <tr>\n",
       "      <th>843725</th>\n",
       "      <td>0</td>\n",
       "      <td>256</td>\n",
       "    </tr>\n",
       "    <tr>\n",
       "      <th>843724</th>\n",
       "      <td>0</td>\n",
       "      <td>1188</td>\n",
       "    </tr>\n",
       "    <tr>\n",
       "      <th>129947</th>\n",
       "      <td>1</td>\n",
       "      <td>1192</td>\n",
       "    </tr>\n",
       "    <tr>\n",
       "      <th>1677890</th>\n",
       "      <td>2</td>\n",
       "      <td>299</td>\n",
       "    </tr>\n",
       "  </tbody>\n",
       "</table>\n",
       "</div>"
      ]
     },
     "execution_count": 31,
     "metadata": {},
     "output_type": "execute_result"
    }
   ],
   "source": [
    "train_cat_df.head()"
   ]
  },
  {
   "cell_type": "code",
   "execution_count": 32,
   "metadata": {},
   "outputs": [],
   "source": [
    "train_cat_df.to_csv(os.path.join('data', 'train_cat.csv'), index=False)\n",
    "test_cat_df.to_csv(os.path.join('data', 'test_cat.csv'), index=False)"
   ]
  },
  {
   "cell_type": "code",
   "execution_count": null,
   "metadata": {},
   "outputs": [],
   "source": []
  }
 ],
 "metadata": {
  "kernelspec": {
   "display_name": "Python 2",
   "language": "python",
   "name": "python2"
  },
  "language_info": {
   "codemirror_mode": {
    "name": "ipython",
    "version": 2
   },
   "file_extension": ".py",
   "mimetype": "text/x-python",
   "name": "python",
   "nbconvert_exporter": "python",
   "pygments_lexer": "ipython2",
   "version": "2.7.6"
  }
 },
 "nbformat": 4,
 "nbformat_minor": 0
}
